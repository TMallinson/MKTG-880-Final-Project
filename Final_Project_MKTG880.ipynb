{
 "cells": [
  {
   "cell_type": "markdown",
   "metadata": {},
   "source": [
    "<h1 style=\"text-align: center;\"><span style=\"color: #000000;\"> Final Project: NYC Housing Data\n",
    "</span></h1>\n",
    "<h3 style=\"text-align: center;\"><span style=\"color: #000000;\"> Created by: Thomas Mallinson, Bryan Armbrust, and Alberto Ferrera\n",
    "</span></h3>"
   ]
  },
  {
   "cell_type": "markdown",
   "metadata": {},
   "source": [
    "## 1. Introduction"
   ]
  },
  {
   "cell_type": "markdown",
   "metadata": {},
   "source": [
    "### 1.1. Data Description"
   ]
  },
  {
   "cell_type": "markdown",
   "metadata": {},
   "source": [
    "The data is provided for the Business Analytics Competition at Manhattan College. We include the following variables with data from 2005 - 2018:"
   ]
  },
  {
   "cell_type": "markdown",
   "metadata": {},
   "source": [
    "<table style=\"width:100%\">\n",
    " <tr>\n",
    "  <th style=\"text-align: left;\"> Variable Name</th>\n",
    "  <th style=\"text-align: left;\"> Description</th>\n",
    " </tr>\n",
    " <tr>\n",
    "  <td style=\"text-align: left;\">Sub-Burough Area</td>\n",
    "  <td style=\"text-align: left;\">Area the sub-borough comprises</td>\n",
    " </tr>\n",
    " <tr>\n",
    "  <td style=\"text-align: left;\">homeowner_income</td>\n",
    "  <td style=\"text-align: left;\">The median owner-occupied household's total income of all members of the household aged 15 years or older.</td>\n",
    " </tr>\n",
    " <tr>\n",
    "  <td style=\"text-align: left;\">year</td>\n",
    "  <td style=\"text-align: left;\">Year recorded</td>\n",
    " </tr>\n",
    " <tr>\n",
    "  <td style=\"text-align: left;\">renter_income</td>\n",
    "  <td style=\"text-align: left;\">The median renter household's total income of all members of the household aged 15 years or older.</td>\n",
    " </tr>\n",
    " <tr>\n",
    "  <td style=\"text-align: left;\">pov_rate</td>\n",
    "  <td style=\"text-align: left;\">The number of people below the poverty threshold divided by the\n",
    "number of people for whom poverty status was determined.</td>\n",
    " </tr>\n",
    " <tr>\n",
    "  <td style=\"text-align: left;\">population</td>\n",
    "  <td style=\"text-align: left;\">All people, both children and adults, living in a given geographic area.</td>\n",
    " </tr>\n",
    " <tr>\n",
    "  <td style=\"text-align: left;\">home_own_rate</td>\n",
    "  <td style=\"text-align: left;\">The number of owner-occupied units divided by the total number of\n",
    "occupied housing units.</td>\n",
    " </tr>\n",
    " <tr>\n",
    "  <td style=\"text-align: left;\">FHA_loans</td>\n",
    "  <td style=\"text-align: left;\">The percentage of all first-lien loan originations, for the purchase of\n",
    "an owner-occupied home, condominium, \n",
    "or cooperative apartment that were insured or guaranteed by the FHA or VA, as reported by HMDA.</td>\n",
    " </tr>\n",
    " <tr>\n",
    "  <td style=\"text-align: left;\">LMI</td>\n",
    "  <td style=\"text-align: left;\">The share of all first-lien loan originations, for the purchase of an\n",
    "owner-occupied 1-4 family building, \n",
    "condominium, or cooperative apartment, that were made to low-to moderate-income borrowers.</td>\n",
    " </tr>\n",
    " <tr>\n",
    "  <td style=\"text-align: left;\">hunits</td>\n",
    "  <td style=\"text-align: left;\">The number of housings units, which can include a house, apartment,\n",
    "mobile home, group of rooms, or single \n",
    "room that is occupied (or is vacant and intended for occupancy) as separate living quarters.</td>\n",
    " </tr>\n",
    " <tr>\n",
    "  <td style=\"text-align: left;\">rent_burden</td>\n",
    "  <td style=\"text-align: left;\">The median percentage of gross, pre-tax income spent on gross rent by NYC renter households.</td>\n",
    " </tr>\n",
    " <tr>\n",
    "  <td style=\"text-align: left;\">pct_asian</td>\n",
    "  <td style=\"text-align: left;\">Percentage of the total population that identifies as asian (nonhispanic)</td>\n",
    " </tr>\n",
    " <tr>\n",
    "  <td style=\"text-align: left;\">pct_black</td>\n",
    "  <td style=\"text-align: left;\">Percentage of the total population that identifies as black (nonhispanic)</td>\n",
    " </tr>\n",
    " <tr>\n",
    "  <td style=\"text-align: left;\">pct_hispanic</td>\n",
    "  <td style=\"text-align: left;\">Percentage of the total population that identifies as Hispanic (of any\n",
    "race)</td>\n",
    " </tr>\n",
    " <tr>\n",
    "  <td style=\"text-align: left;\">pct_white</td>\n",
    "  <td style=\"text-align: left;\">Percentage of the total population that identifies as white (nonhispanic)</td>\n",
    " </tr>\n",
    " <tr>\n",
    "  <td style=\"text-align: left;\">single_fam_home_price</td>\n",
    "  <td style=\"text-align: left;\">The median price per unit for one unit buildings.</td>\n",
    " </tr>\n",
    " <tr>\n",
    "  <td style=\"text-align: left;\">condo_price</td>\n",
    "  <td style=\"text-align: left;\">The median price per unit for condominiums.</td>\n",
    " </tr>\n",
    " <tr>\n",
    "  <td style=\"text-align: left;\">single_fam_home_sales</td>\n",
    "  <td style=\"text-align: left;\">The number of transactions of 1 family residential properties that\n",
    "have a non-trivial price and the sale \n",
    "must not be marked as 'insignificant' by the Department of Finance.</td>\n",
    " </tr>\n",
    " <tr>\n",
    "  <td style=\"text-align: left;\">condo_sales</td>\n",
    "  <td style=\"text-align: left;\">The number of transactions of condominiums that have a non-trivial\n",
    "price and the sale must not be marked \n",
    "as 'insignificant' by the Department of Finance.</td>\n",
    " </tr>\n",
    "</table>"
   ]
  },
  {
   "cell_type": "markdown",
   "metadata": {},
   "source": [
    "### 1.2. Problem Statement and Project Goals"
   ]
  },
  {
   "cell_type": "markdown",
   "metadata": {},
   "source": [
    "In this project, we will be analysing data on NYC sub-boroughs to determine answers to the following questions.\n",
    "\n",
    "*   What has been happenings over the last ten to twelve years? Is homeownership increasing or decreasing?\n",
    "*   What is happening to home prices and rental costs?\n",
    "*   Are incomes keeping pace with increases housing costs?\n",
    "*   Identify the barriers to home ownership. Is it the down payment? Is it simply qualifying for a loan?\n",
    "*   Should the Gage Foundation consider advocating for government incentives to build additional condominiums as well as to convert existing apartments into condominiums?\n",
    "*   Which sub-borough areas should we recommend to the Gage Foundation to incentivize home ownership within?"
   ]
  },
  {
   "cell_type": "markdown",
   "metadata": {},
   "source": [
    "## 2. Data Exploration"
   ]
  },
  {
   "cell_type": "markdown",
   "metadata": {},
   "source": [
    "Here, we will explore the raw dataset provided to us and perform any joins and alterations we see necessary. Since there is large variation in the years covered by different variables, we will be including data from 2005-2018 in our analysis. This will exclude some of the variables from the raw dataset such as % public housing, subway access, and park access which only contain one year of data, which is not enough information to conduct any significant statistical inference."
   ]
  },
  {
   "cell_type": "markdown",
   "metadata": {},
   "source": [
    "### 2.1. Loading in Datasets"
   ]
  },
  {
   "cell_type": "markdown",
   "metadata": {},
   "source": [
    "#### 2.1.1. Sub-Borough Area Data"
   ]
  },
  {
   "cell_type": "markdown",
   "metadata": {},
   "source": [
    "First, we will create a new dataframe using sheets that contain significant years' worth of data and can be joined on the \"Sub-Borough Area\" column key. The data for housing prices and sales contains a different key column called, \"Community District\" for its different areas. We will create another separate dataframe to analyze the pricing and sales data since much of it would be missing due to the inconsistent keying. "
   ]
  },
  {
   "cell_type": "code",
   "execution_count": 100,
   "metadata": {},
   "outputs": [],
   "source": [
    "# Import Packages\n",
    "import pandas as pd\n",
    "import numpy as np\n",
    "from scipy import stats\n",
    "import matplotlib.pyplot as plt\n",
    "%matplotlib inline\n",
    "import plotly.graph_objects as go\n",
    "import plotly.express as px\n",
    "import seaborn as sns\n",
    "from functools import reduce"
   ]
  },
  {
   "cell_type": "code",
   "execution_count": 101,
   "metadata": {},
   "outputs": [
    {
     "data": {
      "text/html": [
       "<div>\n",
       "<style scoped>\n",
       "    .dataframe tbody tr th:only-of-type {\n",
       "        vertical-align: middle;\n",
       "    }\n",
       "\n",
       "    .dataframe tbody tr th {\n",
       "        vertical-align: top;\n",
       "    }\n",
       "\n",
       "    .dataframe thead th {\n",
       "        text-align: right;\n",
       "    }\n",
       "</style>\n",
       "<table border=\"1\" class=\"dataframe\">\n",
       "  <thead>\n",
       "    <tr style=\"text-align: right;\">\n",
       "      <th></th>\n",
       "      <th>short_name</th>\n",
       "      <th>long_name</th>\n",
       "      <th>Sub-Borough Area</th>\n",
       "      <th>2005</th>\n",
       "      <th>2006</th>\n",
       "      <th>2007</th>\n",
       "      <th>2008</th>\n",
       "      <th>2009</th>\n",
       "      <th>2010</th>\n",
       "      <th>2011</th>\n",
       "      <th>2012</th>\n",
       "      <th>2013</th>\n",
       "      <th>2014</th>\n",
       "      <th>2015</th>\n",
       "      <th>2016</th>\n",
       "      <th>2017</th>\n",
       "      <th>2018</th>\n",
       "    </tr>\n",
       "  </thead>\n",
       "  <tbody>\n",
       "    <tr>\n",
       "      <th>0</th>\n",
       "      <td>hh_inc_own_med_adj</td>\n",
       "      <td>Median household income, homeowners (2018$)</td>\n",
       "      <td>Throgs Neck/Co-op City</td>\n",
       "      <td>70980</td>\n",
       "      <td>77602.702986</td>\n",
       "      <td>72432.750996</td>\n",
       "      <td>81148.062028</td>\n",
       "      <td>63277.423093</td>\n",
       "      <td>64707.762210</td>\n",
       "      <td>91708.916837</td>\n",
       "      <td>85329.997328</td>\n",
       "      <td>92751.101354</td>\n",
       "      <td>76101.704077</td>\n",
       "      <td>82055.122514</td>\n",
       "      <td>78541.455668</td>\n",
       "      <td>81198.574553</td>\n",
       "      <td>79620</td>\n",
       "    </tr>\n",
       "    <tr>\n",
       "      <th>1</th>\n",
       "      <td>hh_inc_own_med_adj</td>\n",
       "      <td>Median household income, homeowners (2018$)</td>\n",
       "      <td>Pelham Parkway</td>\n",
       "      <td>87140</td>\n",
       "      <td>80316.795188</td>\n",
       "      <td>82701.221763</td>\n",
       "      <td>79605.667405</td>\n",
       "      <td>82088.255902</td>\n",
       "      <td>86035.409733</td>\n",
       "      <td>76555.366275</td>\n",
       "      <td>77299.129935</td>\n",
       "      <td>74131.414180</td>\n",
       "      <td>81673.788998</td>\n",
       "      <td>90328.688469</td>\n",
       "      <td>80567.540949</td>\n",
       "      <td>78759.937159</td>\n",
       "      <td>94138</td>\n",
       "    </tr>\n",
       "    <tr>\n",
       "      <th>2</th>\n",
       "      <td>hh_inc_own_med_adj</td>\n",
       "      <td>Median household income, homeowners (2018$)</td>\n",
       "      <td>Williamsbridge/Baychester</td>\n",
       "      <td>78650</td>\n",
       "      <td>87992.877793</td>\n",
       "      <td>77091.906826</td>\n",
       "      <td>78852.458894</td>\n",
       "      <td>85812.292397</td>\n",
       "      <td>74340.592517</td>\n",
       "      <td>77009.376283</td>\n",
       "      <td>77963.222976</td>\n",
       "      <td>73969.466797</td>\n",
       "      <td>89384.696476</td>\n",
       "      <td>79598.677887</td>\n",
       "      <td>78755.493395</td>\n",
       "      <td>88507.353236</td>\n",
       "      <td>81095</td>\n",
       "    </tr>\n",
       "    <tr>\n",
       "      <th>3</th>\n",
       "      <td>hh_inc_own_med_adj</td>\n",
       "      <td>Median household income, homeowners (2018$)</td>\n",
       "      <td>Williamsburg/Greenpoint</td>\n",
       "      <td>63730</td>\n",
       "      <td>63438.340575</td>\n",
       "      <td>63802.942954</td>\n",
       "      <td>72067.779462</td>\n",
       "      <td>71221.186948</td>\n",
       "      <td>82189.775745</td>\n",
       "      <td>68168.884582</td>\n",
       "      <td>82837.210889</td>\n",
       "      <td>71280.287899</td>\n",
       "      <td>98463.651224</td>\n",
       "      <td>90157.503999</td>\n",
       "      <td>120474.147856</td>\n",
       "      <td>83032.902722</td>\n",
       "      <td>125069</td>\n",
       "    </tr>\n",
       "    <tr>\n",
       "      <th>4</th>\n",
       "      <td>hh_inc_own_med_adj</td>\n",
       "      <td>Median household income, homeowners (2018$)</td>\n",
       "      <td>Brooklyn Heights/Fort Greene</td>\n",
       "      <td>107130</td>\n",
       "      <td>105814.879307</td>\n",
       "      <td>125395.680775</td>\n",
       "      <td>127798.245825</td>\n",
       "      <td>138594.703549</td>\n",
       "      <td>133542.906482</td>\n",
       "      <td>117240.628029</td>\n",
       "      <td>123523.472295</td>\n",
       "      <td>108014.642122</td>\n",
       "      <td>126245.210691</td>\n",
       "      <td>126591.440290</td>\n",
       "      <td>130526.647903</td>\n",
       "      <td>138109.625074</td>\n",
       "      <td>161056</td>\n",
       "    </tr>\n",
       "  </tbody>\n",
       "</table>\n",
       "</div>"
      ],
      "text/plain": [
       "           short_name                                    long_name  \\\n",
       "0  hh_inc_own_med_adj  Median household income, homeowners (2018$)   \n",
       "1  hh_inc_own_med_adj  Median household income, homeowners (2018$)   \n",
       "2  hh_inc_own_med_adj  Median household income, homeowners (2018$)   \n",
       "3  hh_inc_own_med_adj  Median household income, homeowners (2018$)   \n",
       "4  hh_inc_own_med_adj  Median household income, homeowners (2018$)   \n",
       "\n",
       "               Sub-Borough Area    2005           2006           2007  \\\n",
       "0        Throgs Neck/Co-op City   70980   77602.702986   72432.750996   \n",
       "1                Pelham Parkway   87140   80316.795188   82701.221763   \n",
       "2     Williamsbridge/Baychester   78650   87992.877793   77091.906826   \n",
       "3       Williamsburg/Greenpoint   63730   63438.340575   63802.942954   \n",
       "4  Brooklyn Heights/Fort Greene  107130  105814.879307  125395.680775   \n",
       "\n",
       "            2008           2009           2010           2011           2012  \\\n",
       "0   81148.062028   63277.423093   64707.762210   91708.916837   85329.997328   \n",
       "1   79605.667405   82088.255902   86035.409733   76555.366275   77299.129935   \n",
       "2   78852.458894   85812.292397   74340.592517   77009.376283   77963.222976   \n",
       "3   72067.779462   71221.186948   82189.775745   68168.884582   82837.210889   \n",
       "4  127798.245825  138594.703549  133542.906482  117240.628029  123523.472295   \n",
       "\n",
       "            2013           2014           2015           2016           2017  \\\n",
       "0   92751.101354   76101.704077   82055.122514   78541.455668   81198.574553   \n",
       "1   74131.414180   81673.788998   90328.688469   80567.540949   78759.937159   \n",
       "2   73969.466797   89384.696476   79598.677887   78755.493395   88507.353236   \n",
       "3   71280.287899   98463.651224   90157.503999  120474.147856   83032.902722   \n",
       "4  108014.642122  126245.210691  126591.440290  130526.647903  138109.625074   \n",
       "\n",
       "     2018  \n",
       "0   79620  \n",
       "1   94138  \n",
       "2   81095  \n",
       "3  125069  \n",
       "4  161056  "
      ]
     },
     "execution_count": 101,
     "metadata": {},
     "output_type": "execute_result"
    }
   ],
   "source": [
    "# Read in the data\n",
    "home_own_inc     = pd.read_excel(\"data/complete uncleaned data.xlsx\",sheet_name='homeowner income')\n",
    "rent             = pd.read_excel(\"data/complete uncleaned data.xlsx\",sheet_name='renter income')\n",
    "pov              = pd.read_excel(\"data/complete uncleaned data.xlsx\",sheet_name='poverty rate')\n",
    "pop              = pd.read_excel(\"data/complete uncleaned data.xlsx\",sheet_name='population')\n",
    "home_own_rate    = pd.read_excel(\"data/complete uncleaned data.xlsx\",sheet_name='home ownership rate')\n",
    "fha_loan         = pd.read_excel(\"data/complete uncleaned data.xlsx\",sheet_name='FHA VA backed loans')\n",
    "lmi              = pd.read_excel(\"data/complete uncleaned data.xlsx\",sheet_name='LMI borrowers')\n",
    "hunits           = pd.read_excel(\"data/complete uncleaned data.xlsx\",sheet_name='housing units')\n",
    "burden           = pd.read_excel(\"data/complete uncleaned data.xlsx\",sheet_name='rent burden')\n",
    "asian            = pd.read_excel(\"data/complete uncleaned data.xlsx\",sheet_name='percent asian')\n",
    "black            = pd.read_excel(\"data/complete uncleaned data.xlsx\",sheet_name='percent black')\n",
    "hispanic         = pd.read_excel(\"data/complete uncleaned data.xlsx\",sheet_name='percent hispanic')\n",
    "white            = pd.read_excel(\"data/complete uncleaned data.xlsx\",sheet_name='percent white')\n",
    "\n",
    "home_own_inc.head()"
   ]
  },
  {
   "cell_type": "code",
   "execution_count": 102,
   "metadata": {},
   "outputs": [
    {
     "data": {
      "text/html": [
       "<div>\n",
       "<style scoped>\n",
       "    .dataframe tbody tr th:only-of-type {\n",
       "        vertical-align: middle;\n",
       "    }\n",
       "\n",
       "    .dataframe tbody tr th {\n",
       "        vertical-align: top;\n",
       "    }\n",
       "\n",
       "    .dataframe thead th {\n",
       "        text-align: right;\n",
       "    }\n",
       "</style>\n",
       "<table border=\"1\" class=\"dataframe\">\n",
       "  <thead>\n",
       "    <tr style=\"text-align: right;\">\n",
       "      <th></th>\n",
       "      <th>Sub-Borough Area</th>\n",
       "      <th>homeowner_income</th>\n",
       "      <th>year</th>\n",
       "      <th>renter_income</th>\n",
       "      <th>pov_rate</th>\n",
       "      <th>population</th>\n",
       "      <th>home_own_rate</th>\n",
       "      <th>FHA_loans</th>\n",
       "      <th>LMI</th>\n",
       "      <th>hunits</th>\n",
       "      <th>rent_burden</th>\n",
       "      <th>pct_asian</th>\n",
       "      <th>pct_black</th>\n",
       "      <th>pct_hispanic</th>\n",
       "      <th>pct_white</th>\n",
       "    </tr>\n",
       "  </thead>\n",
       "  <tbody>\n",
       "    <tr>\n",
       "      <th>0</th>\n",
       "      <td>Throgs Neck/Co-op City</td>\n",
       "      <td>70980.0</td>\n",
       "      <td>2005</td>\n",
       "      <td>38770.0</td>\n",
       "      <td>0.108605</td>\n",
       "      <td>98174</td>\n",
       "      <td>0.528852</td>\n",
       "      <td>0.001074</td>\n",
       "      <td>0.018260</td>\n",
       "      <td>44246</td>\n",
       "      <td>0.300</td>\n",
       "      <td>0.015605</td>\n",
       "      <td>0.241887</td>\n",
       "      <td>0.267637</td>\n",
       "      <td>0.461996</td>\n",
       "    </tr>\n",
       "    <tr>\n",
       "      <th>1</th>\n",
       "      <td>Pelham Parkway</td>\n",
       "      <td>87140.0</td>\n",
       "      <td>2005</td>\n",
       "      <td>39000.0</td>\n",
       "      <td>0.174917</td>\n",
       "      <td>119613</td>\n",
       "      <td>0.309782</td>\n",
       "      <td>0.010512</td>\n",
       "      <td>0.474376</td>\n",
       "      <td>46183</td>\n",
       "      <td>0.305</td>\n",
       "      <td>0.060888</td>\n",
       "      <td>0.198248</td>\n",
       "      <td>0.424260</td>\n",
       "      <td>0.295628</td>\n",
       "    </tr>\n",
       "    <tr>\n",
       "      <th>2</th>\n",
       "      <td>Williamsbridge/Baychester</td>\n",
       "      <td>78650.0</td>\n",
       "      <td>2005</td>\n",
       "      <td>38980.0</td>\n",
       "      <td>0.166809</td>\n",
       "      <td>141185</td>\n",
       "      <td>0.384936</td>\n",
       "      <td>0.017476</td>\n",
       "      <td>0.267961</td>\n",
       "      <td>50169</td>\n",
       "      <td>0.334</td>\n",
       "      <td>0.028920</td>\n",
       "      <td>0.647115</td>\n",
       "      <td>0.223777</td>\n",
       "      <td>0.069377</td>\n",
       "    </tr>\n",
       "    <tr>\n",
       "      <th>3</th>\n",
       "      <td>Williamsburg/Greenpoint</td>\n",
       "      <td>63730.0</td>\n",
       "      <td>2005</td>\n",
       "      <td>33340.0</td>\n",
       "      <td>0.341530</td>\n",
       "      <td>132287</td>\n",
       "      <td>0.160327</td>\n",
       "      <td>0.002232</td>\n",
       "      <td>0.774554</td>\n",
       "      <td>52628</td>\n",
       "      <td>0.326</td>\n",
       "      <td>0.049438</td>\n",
       "      <td>0.052008</td>\n",
       "      <td>0.307717</td>\n",
       "      <td>0.578356</td>\n",
       "    </tr>\n",
       "    <tr>\n",
       "      <th>4</th>\n",
       "      <td>Brooklyn Heights/Fort Greene</td>\n",
       "      <td>107130.0</td>\n",
       "      <td>2005</td>\n",
       "      <td>45620.0</td>\n",
       "      <td>0.189589</td>\n",
       "      <td>109811</td>\n",
       "      <td>0.313845</td>\n",
       "      <td>0.000000</td>\n",
       "      <td>0.171239</td>\n",
       "      <td>54826</td>\n",
       "      <td>0.272</td>\n",
       "      <td>0.060932</td>\n",
       "      <td>0.334721</td>\n",
       "      <td>0.219468</td>\n",
       "      <td>0.355356</td>\n",
       "    </tr>\n",
       "  </tbody>\n",
       "</table>\n",
       "</div>"
      ],
      "text/plain": [
       "               Sub-Borough Area  homeowner_income  year  renter_income  \\\n",
       "0        Throgs Neck/Co-op City           70980.0  2005        38770.0   \n",
       "1                Pelham Parkway           87140.0  2005        39000.0   \n",
       "2     Williamsbridge/Baychester           78650.0  2005        38980.0   \n",
       "3       Williamsburg/Greenpoint           63730.0  2005        33340.0   \n",
       "4  Brooklyn Heights/Fort Greene          107130.0  2005        45620.0   \n",
       "\n",
       "   pov_rate  population  home_own_rate  FHA_loans       LMI  hunits  \\\n",
       "0  0.108605       98174       0.528852   0.001074  0.018260   44246   \n",
       "1  0.174917      119613       0.309782   0.010512  0.474376   46183   \n",
       "2  0.166809      141185       0.384936   0.017476  0.267961   50169   \n",
       "3  0.341530      132287       0.160327   0.002232  0.774554   52628   \n",
       "4  0.189589      109811       0.313845   0.000000  0.171239   54826   \n",
       "\n",
       "   rent_burden  pct_asian  pct_black  pct_hispanic  pct_white  \n",
       "0        0.300   0.015605   0.241887      0.267637   0.461996  \n",
       "1        0.305   0.060888   0.198248      0.424260   0.295628  \n",
       "2        0.334   0.028920   0.647115      0.223777   0.069377  \n",
       "3        0.326   0.049438   0.052008      0.307717   0.578356  \n",
       "4        0.272   0.060932   0.334721      0.219468   0.355356  "
      ]
     },
     "execution_count": 102,
     "metadata": {},
     "output_type": "execute_result"
    }
   ],
   "source": [
    "# Creating a list of data frames and columns\n",
    "frames = [home_own_inc,rent,pov,pop,home_own_rate,fha_loan,lmi,hunits,burden,asian,black,hispanic,white]\n",
    "cols = ['homeowner_income','renter_income','pov_rate','population','home_own_rate','FHA_loans','LMI','hunits','rent_burden',\n",
    "        'pct_asian','pct_black','pct_hispanic','pct_white']\n",
    "\n",
    "# Appending each year of each dataframe to a list\n",
    "dataframe = []\n",
    "\n",
    "for frame in range(len(frames)):\n",
    "    for year in range(2005,2019):\n",
    "        a = frames[frame][['Sub-Borough Area',year]].copy()\n",
    "        a['year'] = year\n",
    "        a.columns = ['Sub-Borough Area',str(cols[frame]),'year']\n",
    "        dataframe.append(a)\n",
    "        \n",
    "dataframe[0].head()\n",
    "\n",
    "# Aggregating the two dataframes\n",
    "dataframe2 = []\n",
    "\n",
    "for i in range(len(frames)):\n",
    "    dataframe2.append(pd.concat(dataframe[0+i*14:14+i*14]))\n",
    "    \n",
    "# Merging dataframes into final dataset\n",
    "sub_borough = reduce(lambda  left,right: pd.merge(left,right,on=['Sub-Borough Area','year'],\n",
    "                                            how='inner'), dataframe2)\n",
    "\n",
    "sub_borough.head()"
   ]
  },
  {
   "cell_type": "code",
   "execution_count": 103,
   "metadata": {},
   "outputs": [
    {
     "name": "stdout",
     "output_type": "stream",
     "text": [
      "<class 'pandas.core.frame.DataFrame'>\n",
      "Int64Index: 770 entries, 0 to 769\n",
      "Data columns (total 15 columns):\n",
      " #   Column            Non-Null Count  Dtype  \n",
      "---  ------            --------------  -----  \n",
      " 0   Sub-Borough Area  770 non-null    object \n",
      " 1   homeowner_income  770 non-null    float64\n",
      " 2   year              770 non-null    int64  \n",
      " 3   renter_income     770 non-null    float64\n",
      " 4   pov_rate          770 non-null    float64\n",
      " 5   population        770 non-null    int64  \n",
      " 6   home_own_rate     770 non-null    float64\n",
      " 7   FHA_loans         770 non-null    float64\n",
      " 8   LMI               770 non-null    float64\n",
      " 9   hunits            770 non-null    int64  \n",
      " 10  rent_burden       770 non-null    float64\n",
      " 11  pct_asian         770 non-null    float64\n",
      " 12  pct_black         770 non-null    float64\n",
      " 13  pct_hispanic      770 non-null    float64\n",
      " 14  pct_white         770 non-null    float64\n",
      "dtypes: float64(11), int64(3), object(1)\n",
      "memory usage: 96.2+ KB\n"
     ]
    }
   ],
   "source": [
    "sub_borough.info()"
   ]
  },
  {
   "cell_type": "markdown",
   "metadata": {},
   "source": [
    "There are 770 rows of numerical data for the different sub-borough areas. There is no missing data that we need to handle here."
   ]
  },
  {
   "cell_type": "markdown",
   "metadata": {},
   "source": [
    "#### 2.1.2. Community District Data"
   ]
  },
  {
   "cell_type": "code",
   "execution_count": 104,
   "metadata": {},
   "outputs": [
    {
     "data": {
      "text/html": [
       "<div>\n",
       "<style scoped>\n",
       "    .dataframe tbody tr th:only-of-type {\n",
       "        vertical-align: middle;\n",
       "    }\n",
       "\n",
       "    .dataframe tbody tr th {\n",
       "        vertical-align: top;\n",
       "    }\n",
       "\n",
       "    .dataframe thead th {\n",
       "        text-align: right;\n",
       "    }\n",
       "</style>\n",
       "<table border=\"1\" class=\"dataframe\">\n",
       "  <thead>\n",
       "    <tr style=\"text-align: right;\">\n",
       "      <th></th>\n",
       "      <th>Community_District</th>\n",
       "      <th>single_fam_home_price</th>\n",
       "      <th>year</th>\n",
       "      <th>condo_price</th>\n",
       "      <th>single_fam_home_sales</th>\n",
       "      <th>condo_sales</th>\n",
       "    </tr>\n",
       "  </thead>\n",
       "  <tbody>\n",
       "    <tr>\n",
       "      <th>0</th>\n",
       "      <td>Morrisania/Crotona</td>\n",
       "      <td>382415.548895</td>\n",
       "      <td>2005</td>\n",
       "      <td>212274.400564</td>\n",
       "      <td>20</td>\n",
       "      <td>3</td>\n",
       "    </tr>\n",
       "    <tr>\n",
       "      <th>1</th>\n",
       "      <td>Highbridge/Concourse</td>\n",
       "      <td>331779.098780</td>\n",
       "      <td>2005</td>\n",
       "      <td>NaN</td>\n",
       "      <td>8</td>\n",
       "      <td>0</td>\n",
       "    </tr>\n",
       "    <tr>\n",
       "      <th>2</th>\n",
       "      <td>Fordham/University Heights</td>\n",
       "      <td>412648.569582</td>\n",
       "      <td>2005</td>\n",
       "      <td>NaN</td>\n",
       "      <td>28</td>\n",
       "      <td>0</td>\n",
       "    </tr>\n",
       "    <tr>\n",
       "      <th>3</th>\n",
       "      <td>Belmont/East Tremont</td>\n",
       "      <td>407180.895628</td>\n",
       "      <td>2005</td>\n",
       "      <td>NaN</td>\n",
       "      <td>44</td>\n",
       "      <td>0</td>\n",
       "    </tr>\n",
       "    <tr>\n",
       "      <th>4</th>\n",
       "      <td>Kingsbridge Heights/Bedford</td>\n",
       "      <td>418116.243535</td>\n",
       "      <td>2005</td>\n",
       "      <td>NaN</td>\n",
       "      <td>43</td>\n",
       "      <td>0</td>\n",
       "    </tr>\n",
       "  </tbody>\n",
       "</table>\n",
       "</div>"
      ],
      "text/plain": [
       "            Community_District  single_fam_home_price  year    condo_price  \\\n",
       "0           Morrisania/Crotona          382415.548895  2005  212274.400564   \n",
       "1         Highbridge/Concourse          331779.098780  2005            NaN   \n",
       "2   Fordham/University Heights          412648.569582  2005            NaN   \n",
       "3         Belmont/East Tremont          407180.895628  2005            NaN   \n",
       "4  Kingsbridge Heights/Bedford          418116.243535  2005            NaN   \n",
       "\n",
       "   single_fam_home_sales  condo_sales  \n",
       "0                     20            3  \n",
       "1                      8            0  \n",
       "2                     28            0  \n",
       "3                     44            0  \n",
       "4                     43            0  "
      ]
     },
     "execution_count": 104,
     "metadata": {},
     "output_type": "execute_result"
    }
   ],
   "source": [
    "sfh               = pd.read_excel(\"data/complete uncleaned data.xlsx\",sheet_name='price single family home')\n",
    "condo             = pd.read_excel(\"data/complete uncleaned data.xlsx\",sheet_name='price condominium')\n",
    "sfhv              = pd.read_excel(\"data/complete uncleaned data.xlsx\",sheet_name='single family sale volume')\n",
    "condov            = pd.read_excel(\"data/complete uncleaned data.xlsx\",sheet_name='condominium sale volume')\n",
    "\n",
    "frames = [sfh,condo,sfhv,condov]\n",
    "cols = ['single_fam_home_price','condo_price','single_fam_home_sales','condo_sales']\n",
    "\n",
    "dataframe3 = []\n",
    "\n",
    "for frame in range(len(frames)):\n",
    "    for year in range(2005,2019):\n",
    "        a = frames[frame][['Community District',year]].copy()\n",
    "        a['year'] = year\n",
    "        a.columns = ['Community_District',str(cols[frame]),'year']\n",
    "        a['Community_District'] = a['Community_District'].apply(lambda x:x[7:])\n",
    "        a['Community_District'] = a['Community_District'].str.strip()\n",
    "        dataframe3.append(a)\n",
    "\n",
    "dataframe4 = []\n",
    "\n",
    "for i in range(len(frames)):\n",
    "    dataframe4.append(pd.concat(dataframe3[0+i*14:14+i*14]))\n",
    "    \n",
    "\n",
    "community_district = reduce(lambda  left,right: pd.merge(left,right,on=['Community_District','year'],\n",
    "                                            how='inner'), dataframe4)\n",
    "\n",
    "community_district.head()"
   ]
  },
  {
   "cell_type": "code",
   "execution_count": 105,
   "metadata": {},
   "outputs": [
    {
     "name": "stdout",
     "output_type": "stream",
     "text": [
      "<class 'pandas.core.frame.DataFrame'>\n",
      "Int64Index: 826 entries, 0 to 825\n",
      "Data columns (total 6 columns):\n",
      " #   Column                 Non-Null Count  Dtype  \n",
      "---  ------                 --------------  -----  \n",
      " 0   Community_District     826 non-null    object \n",
      " 1   single_fam_home_price  796 non-null    float64\n",
      " 2   year                   826 non-null    int64  \n",
      " 3   condo_price            792 non-null    float64\n",
      " 4   single_fam_home_sales  826 non-null    int64  \n",
      " 5   condo_sales            826 non-null    int64  \n",
      "dtypes: float64(2), int64(3), object(1)\n",
      "memory usage: 45.2+ KB\n"
     ]
    }
   ],
   "source": [
    "community_district.info()"
   ]
  },
  {
   "cell_type": "markdown",
   "metadata": {},
   "source": [
    "It is apparent that there is some missing data that we need to handle in the community district pricing and sales data. Below, we will address the missing values."
   ]
  },
  {
   "cell_type": "markdown",
   "metadata": {},
   "source": [
    "### 2.2. Addressing Missing Values"
   ]
  },
  {
   "cell_type": "code",
   "execution_count": 106,
   "metadata": {},
   "outputs": [
    {
     "data": {
      "text/plain": [
       "Community_District        0\n",
       "single_fam_home_price    30\n",
       "year                      0\n",
       "condo_price              34\n",
       "single_fam_home_sales     0\n",
       "condo_sales               0\n",
       "dtype: int64"
      ]
     },
     "execution_count": 106,
     "metadata": {},
     "output_type": "execute_result"
    }
   ],
   "source": [
    "# Check how many values are null for each column in the community district dataset\n",
    "community_district.isnull().sum()"
   ]
  },
  {
   "cell_type": "markdown",
   "metadata": {},
   "source": [
    "There is a total of 30 missing data points in the single family home price data and 34 missing data points in the condominium price data. Below we will apply average prices and sales to missing data on a district level in order to try and maintain accuracy the best that we can."
   ]
  },
  {
   "cell_type": "code",
   "execution_count": 107,
   "metadata": {},
   "outputs": [
    {
     "data": {
      "text/plain": [
       "array(['Morrisania/Crotona', 'Highbridge/Concourse',\n",
       "       'Fordham/University Heights', 'Belmont/East Tremont',\n",
       "       'Kingsbridge Heights/Bedford', 'Riverdale/Fieldston',\n",
       "       'Parkchester/Soundview', 'Throgs Neck/Co-op City',\n",
       "       'Morris Park/Bronxdale', 'Williamsbridge/Baychester',\n",
       "       'Greenpoint/Williamsburg', 'Fort Greene/Brooklyn Heights',\n",
       "       'Bedford Stuyvesant', 'Bushwick', 'East New York/Starrett City',\n",
       "       'Park Slope/Carroll Gardens', 'Sunset Park',\n",
       "       'Crown Heights/Prospect Heights',\n",
       "       'South Crown Heights/Lefferts Gardens', 'Bay Ridge/Dyker Heights',\n",
       "       'Bensonhurst', 'Borough Park', 'Coney Island', 'Flatbush/Midwood',\n",
       "       'Sheepshead Bay', 'Brownsville', 'East Flatbush',\n",
       "       'Flatlands/Canarsie', 'Astoria', 'Woodside/Sunnyside',\n",
       "       'Jackson Heights', 'Elmhurst/Corona', 'Ridgewood/Maspeth',\n",
       "       'Rego Park/Forest Hills', 'Flushing/Whitestone',\n",
       "       'Hillcrest/Fresh Meadows', 'Kew Gardens/Woodhaven',\n",
       "       'South Ozone Park/Howard Beach', 'Bayside/Little Neck',\n",
       "       'Jamaica/Hollis', 'Queens Village', 'Rockaway/Broad Channel',\n",
       "       'St. George/Stapleton', 'South Beach/Willowbrook',\n",
       "       'Tottenville/Great Kills', 'Financial District',\n",
       "       'Greenwich Village/Soho', 'Lower East Side/Chinatown',\n",
       "       'Clinton/Chelsea', 'Midtown', 'Stuyvesant Town/Turtle Bay',\n",
       "       'Upper West Side', 'Upper East Side',\n",
       "       'Morningside Heights/Hamilton', 'Central Harlem', 'East Harlem',\n",
       "       'Washington Heights/Inwood', 'Mott Haven/Melrose',\n",
       "       'Hunts Point/Longwood'], dtype=object)"
      ]
     },
     "execution_count": 107,
     "metadata": {},
     "output_type": "execute_result"
    }
   ],
   "source": [
    "# Unique values in the community district column\n",
    "community_district['Community_District'].unique()"
   ]
  },
  {
   "cell_type": "code",
   "execution_count": 108,
   "metadata": {},
   "outputs": [
    {
     "name": "stderr",
     "output_type": "stream",
     "text": [
      "C:\\Users\\Tom\\anaconda3\\lib\\site-packages\\ipykernel_launcher.py:2: RuntimeWarning:\n",
      "\n",
      "Mean of empty slice.\n",
      "\n",
      "C:\\Users\\Tom\\anaconda3\\lib\\site-packages\\numpy\\core\\_methods.py:161: RuntimeWarning:\n",
      "\n",
      "invalid value encountered in double_scalars\n",
      "\n"
     ]
    },
    {
     "data": {
      "text/plain": [
       "Community_District\n",
       "Astoria                                 7.021407e+05\n",
       "Bay Ridge/Dyker Heights                 8.174878e+05\n",
       "Bayside/Little Neck                     7.780446e+05\n",
       "Bedford Stuyvesant                      6.179493e+05\n",
       "Belmont/East Tremont                    3.504350e+05\n",
       "Bensonhurst                             6.999565e+05\n",
       "Borough Park                            8.673152e+05\n",
       "Brownsville                             3.550721e+05\n",
       "Bushwick                                5.653581e+05\n",
       "Central Harlem                                   NaN\n",
       "Clinton/Chelsea                                  NaN\n",
       "Coney Island                            4.690606e+05\n",
       "Crown Heights/Prospect Heights          7.527713e+05\n",
       "East Flatbush                           4.428076e+05\n",
       "East Harlem                                      NaN\n",
       "East New York/Starrett City             3.748509e+05\n",
       "Elmhurst/Corona                         6.479495e+05\n",
       "Financial District                               NaN\n",
       "Flatbush/Midwood                        9.393235e+05\n",
       "Flatlands/Canarsie                      5.262066e+05\n",
       "Flushing/Whitestone                     7.345873e+05\n",
       "Fordham/University Heights                       NaN\n",
       "Fort Greene/Brooklyn Heights            2.746212e+06\n",
       "Greenpoint/Williamsburg                 1.119776e+06\n",
       "Greenwich Village/Soho                  8.958238e+06\n",
       "Highbridge/Concourse                    3.561669e+05\n",
       "Hillcrest/Fresh Meadows                 7.068637e+05\n",
       "Hunts Point/Longwood                             NaN\n",
       "Jackson Heights                         5.949703e+05\n",
       "Jamaica/Hollis                          3.915043e+05\n",
       "Kew Gardens/Woodhaven                   4.648699e+05\n",
       "Kingsbridge Heights/Bedford             3.718132e+05\n",
       "Lower East Side/Chinatown                        NaN\n",
       "Midtown                                          NaN\n",
       "Morningside Heights/Hamilton            2.054583e+06\n",
       "Morris Park/Bronxdale                   4.691698e+05\n",
       "Morrisania/Crotona                      3.451974e+05\n",
       "Mott Haven/Melrose                      3.810061e+05\n",
       "Park Slope/Carroll Gardens              2.289406e+06\n",
       "Parkchester/Soundview                   3.838386e+05\n",
       "Queens Village                          4.670184e+05\n",
       "Rego Park/Forest Hills                  8.295662e+05\n",
       "Ridgewood/Maspeth                       5.936375e+05\n",
       "Riverdale/Fieldston                     8.062666e+05\n",
       "Rockaway/Broad Channel                  4.813532e+05\n",
       "Sheepshead Bay                          6.561490e+05\n",
       "South Beach/Willowbrook                 4.840515e+05\n",
       "South Crown Heights/Lefferts Gardens    9.510830e+05\n",
       "South Ozone Park/Howard Beach           4.673847e+05\n",
       "St. George/Stapleton                    4.102454e+05\n",
       "Stuyvesant Town/Turtle Bay              5.394228e+06\n",
       "Sunset Park                             9.633610e+05\n",
       "Throgs Neck/Co-op City                  4.636479e+05\n",
       "Tottenville/Great Kills                 4.869409e+05\n",
       "Upper East Side                         9.070009e+06\n",
       "Upper West Side                         7.943545e+06\n",
       "Washington Heights/Inwood                        NaN\n",
       "Williamsbridge/Baychester               3.925002e+05\n",
       "Woodside/Sunnyside                      6.474868e+05\n",
       "Name: single_fam_home_price, dtype: float64"
      ]
     },
     "execution_count": 108,
     "metadata": {},
     "output_type": "execute_result"
    }
   ],
   "source": [
    "# Average single family home cost per district\n",
    "avg_cost_per_district = community_district.groupby(['Community_District'])['single_fam_home_price'].agg(lambda x: x.unique().mean())\n",
    "avg_cost_per_district.head(60)"
   ]
  },
  {
   "cell_type": "markdown",
   "metadata": {},
   "source": [
    "The output above shows the average price of single-family homes in each district present in the dataset, however if there is a missing value, it results in NaN. In order to handle this, we will fill null values with a mean of a grouby to replace the missing values with an average for each district across all of the recorded years. We will do this for the condo price column as well."
   ]
  },
  {
   "cell_type": "code",
   "execution_count": 109,
   "metadata": {},
   "outputs": [],
   "source": [
    "# Fill null values with average values for each district\n",
    "community_district['single_fam_home_price'] = community_district['single_fam_home_price'].fillna(community_district.groupby(['Community_District'])['single_fam_home_price'].transform('mean'))\n",
    "community_district['single_fam_home_price'] = community_district['single_fam_home_price'].fillna(community_district['single_fam_home_price'].mean())"
   ]
  },
  {
   "cell_type": "code",
   "execution_count": 110,
   "metadata": {},
   "outputs": [
    {
     "name": "stderr",
     "output_type": "stream",
     "text": [
      "C:\\Users\\Tom\\anaconda3\\lib\\site-packages\\ipykernel_launcher.py:2: RuntimeWarning:\n",
      "\n",
      "Mean of empty slice.\n",
      "\n"
     ]
    },
    {
     "data": {
      "text/plain": [
       "Community_District\n",
       "Astoria                                 4.481819e+05\n",
       "Bay Ridge/Dyker Heights                 5.119716e+05\n",
       "Bayside/Little Neck                     5.231336e+05\n",
       "Bedford Stuyvesant                      5.402918e+05\n",
       "Belmont/East Tremont                             NaN\n",
       "Bensonhurst                             5.169747e+05\n",
       "Borough Park                            5.712726e+05\n",
       "Brownsville                                      NaN\n",
       "Bushwick                                4.362832e+05\n",
       "Central Harlem                          7.044774e+05\n",
       "Clinton/Chelsea                         1.299741e+06\n",
       "Coney Island                            5.642018e+05\n",
       "Crown Heights/Prospect Heights          6.729314e+05\n",
       "East Flatbush                           3.782420e+05\n",
       "East Harlem                             6.603248e+05\n",
       "East New York/Starrett City             2.443023e+05\n",
       "Elmhurst/Corona                         3.718677e+05\n",
       "Financial District                      1.419008e+06\n",
       "Flatbush/Midwood                        4.889463e+05\n",
       "Flatlands/Canarsie                      3.784433e+05\n",
       "Flushing/Whitestone                     5.001588e+05\n",
       "Fordham/University Heights                       NaN\n",
       "Fort Greene/Brooklyn Heights            9.485658e+05\n",
       "Greenpoint/Williamsburg                 7.177754e+05\n",
       "Greenwich Village/Soho                  2.409858e+06\n",
       "Highbridge/Concourse                             NaN\n",
       "Hillcrest/Fresh Meadows                 4.005740e+05\n",
       "Hunts Point/Longwood                    1.743822e+05\n",
       "Jackson Heights                         3.638381e+05\n",
       "Jamaica/Hollis                          2.474147e+05\n",
       "Kew Gardens/Woodhaven                   4.094253e+05\n",
       "Kingsbridge Heights/Bedford                      NaN\n",
       "Lower East Side/Chinatown               1.161394e+06\n",
       "Midtown                                 1.695555e+06\n",
       "Morningside Heights/Hamilton            5.164589e+05\n",
       "Morris Park/Bronxdale                   1.981144e+05\n",
       "Morrisania/Crotona                      2.242905e+05\n",
       "Mott Haven/Melrose                      2.516292e+05\n",
       "Park Slope/Carroll Gardens              9.322769e+05\n",
       "Parkchester/Soundview                   1.351099e+05\n",
       "Queens Village                                   NaN\n",
       "Rego Park/Forest Hills                  4.617711e+05\n",
       "Ridgewood/Maspeth                       4.100171e+05\n",
       "Riverdale/Fieldston                     5.551940e+05\n",
       "Rockaway/Broad Channel                  3.892125e+05\n",
       "Sheepshead Bay                          4.928418e+05\n",
       "South Beach/Willowbrook                 3.005751e+05\n",
       "South Crown Heights/Lefferts Gardens    5.311344e+05\n",
       "South Ozone Park/Howard Beach           2.899740e+05\n",
       "St. George/Stapleton                    2.854253e+05\n",
       "Stuyvesant Town/Turtle Bay              1.102135e+06\n",
       "Sunset Park                             5.582218e+05\n",
       "Throgs Neck/Co-op City                  4.424321e+05\n",
       "Tottenville/Great Kills                 3.189373e+05\n",
       "Upper East Side                         1.401062e+06\n",
       "Upper West Side                         1.392040e+06\n",
       "Washington Heights/Inwood               4.533570e+05\n",
       "Williamsbridge/Baychester                        NaN\n",
       "Woodside/Sunnyside                      6.767516e+05\n",
       "Name: condo_price, dtype: float64"
      ]
     },
     "execution_count": 110,
     "metadata": {},
     "output_type": "execute_result"
    }
   ],
   "source": [
    "# Average condo cost per district\n",
    "avgcondo_cost_per_district = community_district.groupby(['Community_District'])['condo_price'].agg(lambda x: x.unique().mean())\n",
    "avgcondo_cost_per_district.head(60)"
   ]
  },
  {
   "cell_type": "code",
   "execution_count": 111,
   "metadata": {},
   "outputs": [],
   "source": [
    "# Fill null values with average values for each district\n",
    "community_district['condo_price'] = community_district['condo_price'].fillna(community_district.groupby(['Community_District'])['condo_price'].transform('mean'))\n",
    "community_district['condo_price'] = community_district['condo_price'].fillna(community_district['condo_price'].mean())"
   ]
  },
  {
   "cell_type": "code",
   "execution_count": 112,
   "metadata": {},
   "outputs": [
    {
     "data": {
      "text/plain": [
       "Community_District       0\n",
       "single_fam_home_price    0\n",
       "year                     0\n",
       "condo_price              0\n",
       "single_fam_home_sales    0\n",
       "condo_sales              0\n",
       "dtype: int64"
      ]
     },
     "execution_count": 112,
     "metadata": {},
     "output_type": "execute_result"
    }
   ],
   "source": [
    "community_district.isnull().sum()"
   ]
  },
  {
   "cell_type": "markdown",
   "metadata": {},
   "source": [
    "Now that we have taken care of the null values in our community district dataset, we can move on to making statistical inferences and some advanced analysis."
   ]
  },
  {
   "cell_type": "markdown",
   "metadata": {},
   "source": [
    "## 3. Statistics on Datasets"
   ]
  },
  {
   "cell_type": "code",
   "execution_count": 113,
   "metadata": {},
   "outputs": [
    {
     "data": {
      "text/html": [
       "<div>\n",
       "<style scoped>\n",
       "    .dataframe tbody tr th:only-of-type {\n",
       "        vertical-align: middle;\n",
       "    }\n",
       "\n",
       "    .dataframe tbody tr th {\n",
       "        vertical-align: top;\n",
       "    }\n",
       "\n",
       "    .dataframe thead th {\n",
       "        text-align: right;\n",
       "    }\n",
       "</style>\n",
       "<table border=\"1\" class=\"dataframe\">\n",
       "  <thead>\n",
       "    <tr style=\"text-align: right;\">\n",
       "      <th></th>\n",
       "      <th>homeowner_income</th>\n",
       "      <th>year</th>\n",
       "      <th>renter_income</th>\n",
       "      <th>pov_rate</th>\n",
       "      <th>population</th>\n",
       "      <th>home_own_rate</th>\n",
       "      <th>FHA_loans</th>\n",
       "      <th>LMI</th>\n",
       "      <th>hunits</th>\n",
       "      <th>rent_burden</th>\n",
       "      <th>pct_asian</th>\n",
       "      <th>pct_black</th>\n",
       "      <th>pct_hispanic</th>\n",
       "      <th>pct_white</th>\n",
       "    </tr>\n",
       "  </thead>\n",
       "  <tbody>\n",
       "    <tr>\n",
       "      <th>count</th>\n",
       "      <td>770.000000</td>\n",
       "      <td>770.000000</td>\n",
       "      <td>770.000000</td>\n",
       "      <td>770.000000</td>\n",
       "      <td>770.000000</td>\n",
       "      <td>770.000000</td>\n",
       "      <td>770.000000</td>\n",
       "      <td>770.000000</td>\n",
       "      <td>770.000000</td>\n",
       "      <td>770.000000</td>\n",
       "      <td>770.000000</td>\n",
       "      <td>770.000000</td>\n",
       "      <td>770.000000</td>\n",
       "      <td>770.000000</td>\n",
       "    </tr>\n",
       "    <tr>\n",
       "      <th>mean</th>\n",
       "      <td>93711.088917</td>\n",
       "      <td>2011.500000</td>\n",
       "      <td>47778.050573</td>\n",
       "      <td>0.198649</td>\n",
       "      <td>151914.390909</td>\n",
       "      <td>0.322923</td>\n",
       "      <td>0.146643</td>\n",
       "      <td>0.391237</td>\n",
       "      <td>61721.707792</td>\n",
       "      <td>0.322268</td>\n",
       "      <td>0.124226</td>\n",
       "      <td>0.230829</td>\n",
       "      <td>0.286418</td>\n",
       "      <td>0.332376</td>\n",
       "    </tr>\n",
       "    <tr>\n",
       "      <th>std</th>\n",
       "      <td>31459.919257</td>\n",
       "      <td>4.033749</td>\n",
       "      <td>20354.354313</td>\n",
       "      <td>0.098312</td>\n",
       "      <td>33105.474119</td>\n",
       "      <td>0.187092</td>\n",
       "      <td>0.212491</td>\n",
       "      <td>0.333710</td>\n",
       "      <td>18934.557254</td>\n",
       "      <td>0.042777</td>\n",
       "      <td>0.117961</td>\n",
       "      <td>0.237596</td>\n",
       "      <td>0.198499</td>\n",
       "      <td>0.248630</td>\n",
       "    </tr>\n",
       "    <tr>\n",
       "      <th>min</th>\n",
       "      <td>36043.534136</td>\n",
       "      <td>2005.000000</td>\n",
       "      <td>14150.822754</td>\n",
       "      <td>0.022349</td>\n",
       "      <td>98174.000000</td>\n",
       "      <td>0.027629</td>\n",
       "      <td>0.000000</td>\n",
       "      <td>0.000000</td>\n",
       "      <td>39682.000000</td>\n",
       "      <td>0.207000</td>\n",
       "      <td>0.001553</td>\n",
       "      <td>0.001495</td>\n",
       "      <td>0.047558</td>\n",
       "      <td>0.003916</td>\n",
       "    </tr>\n",
       "    <tr>\n",
       "      <th>25%</th>\n",
       "      <td>74533.836928</td>\n",
       "      <td>2008.000000</td>\n",
       "      <td>34949.953613</td>\n",
       "      <td>0.119993</td>\n",
       "      <td>127402.750000</td>\n",
       "      <td>0.181481</td>\n",
       "      <td>0.002912</td>\n",
       "      <td>0.080266</td>\n",
       "      <td>49044.000000</td>\n",
       "      <td>0.295000</td>\n",
       "      <td>0.035842</td>\n",
       "      <td>0.035909</td>\n",
       "      <td>0.129174</td>\n",
       "      <td>0.108261</td>\n",
       "    </tr>\n",
       "    <tr>\n",
       "      <th>50%</th>\n",
       "      <td>85622.351782</td>\n",
       "      <td>2011.500000</td>\n",
       "      <td>42867.465631</td>\n",
       "      <td>0.179691</td>\n",
       "      <td>144741.500000</td>\n",
       "      <td>0.306823</td>\n",
       "      <td>0.030721</td>\n",
       "      <td>0.335828</td>\n",
       "      <td>55919.500000</td>\n",
       "      <td>0.322000</td>\n",
       "      <td>0.082478</td>\n",
       "      <td>0.127024</td>\n",
       "      <td>0.211359</td>\n",
       "      <td>0.287744</td>\n",
       "    </tr>\n",
       "    <tr>\n",
       "      <th>75%</th>\n",
       "      <td>98450.327218</td>\n",
       "      <td>2015.000000</td>\n",
       "      <td>53518.742653</td>\n",
       "      <td>0.271473</td>\n",
       "      <td>168254.750000</td>\n",
       "      <td>0.430675</td>\n",
       "      <td>0.236388</td>\n",
       "      <td>0.644466</td>\n",
       "      <td>67426.000000</td>\n",
       "      <td>0.348000</td>\n",
       "      <td>0.165093</td>\n",
       "      <td>0.327898</td>\n",
       "      <td>0.411839</td>\n",
       "      <td>0.557414</td>\n",
       "    </tr>\n",
       "    <tr>\n",
       "      <th>max</th>\n",
       "      <td>227300.572383</td>\n",
       "      <td>2018.000000</td>\n",
       "      <td>137813.000000</td>\n",
       "      <td>0.521911</td>\n",
       "      <td>264586.000000</td>\n",
       "      <td>0.856985</td>\n",
       "      <td>0.906250</td>\n",
       "      <td>1.000000</td>\n",
       "      <td>148515.000000</td>\n",
       "      <td>0.500000</td>\n",
       "      <td>0.561835</td>\n",
       "      <td>0.906905</td>\n",
       "      <td>0.743286</td>\n",
       "      <td>0.878372</td>\n",
       "    </tr>\n",
       "  </tbody>\n",
       "</table>\n",
       "</div>"
      ],
      "text/plain": [
       "       homeowner_income         year  renter_income    pov_rate  \\\n",
       "count        770.000000   770.000000     770.000000  770.000000   \n",
       "mean       93711.088917  2011.500000   47778.050573    0.198649   \n",
       "std        31459.919257     4.033749   20354.354313    0.098312   \n",
       "min        36043.534136  2005.000000   14150.822754    0.022349   \n",
       "25%        74533.836928  2008.000000   34949.953613    0.119993   \n",
       "50%        85622.351782  2011.500000   42867.465631    0.179691   \n",
       "75%        98450.327218  2015.000000   53518.742653    0.271473   \n",
       "max       227300.572383  2018.000000  137813.000000    0.521911   \n",
       "\n",
       "          population  home_own_rate   FHA_loans         LMI         hunits  \\\n",
       "count     770.000000     770.000000  770.000000  770.000000     770.000000   \n",
       "mean   151914.390909       0.322923    0.146643    0.391237   61721.707792   \n",
       "std     33105.474119       0.187092    0.212491    0.333710   18934.557254   \n",
       "min     98174.000000       0.027629    0.000000    0.000000   39682.000000   \n",
       "25%    127402.750000       0.181481    0.002912    0.080266   49044.000000   \n",
       "50%    144741.500000       0.306823    0.030721    0.335828   55919.500000   \n",
       "75%    168254.750000       0.430675    0.236388    0.644466   67426.000000   \n",
       "max    264586.000000       0.856985    0.906250    1.000000  148515.000000   \n",
       "\n",
       "       rent_burden   pct_asian   pct_black  pct_hispanic   pct_white  \n",
       "count   770.000000  770.000000  770.000000    770.000000  770.000000  \n",
       "mean      0.322268    0.124226    0.230829      0.286418    0.332376  \n",
       "std       0.042777    0.117961    0.237596      0.198499    0.248630  \n",
       "min       0.207000    0.001553    0.001495      0.047558    0.003916  \n",
       "25%       0.295000    0.035842    0.035909      0.129174    0.108261  \n",
       "50%       0.322000    0.082478    0.127024      0.211359    0.287744  \n",
       "75%       0.348000    0.165093    0.327898      0.411839    0.557414  \n",
       "max       0.500000    0.561835    0.906905      0.743286    0.878372  "
      ]
     },
     "execution_count": 113,
     "metadata": {},
     "output_type": "execute_result"
    }
   ],
   "source": [
    "# Basic statistics on the sub-borough dataset\n",
    "sub_borough.describe()"
   ]
  },
  {
   "cell_type": "markdown",
   "metadata": {},
   "source": [
    "**Basic Statistical Findings for Sub-Borough Area Data:**\n",
    "\n",
    "* The average homeowner income is 93,711 dollars\n",
    "* The average renter income is 47,778 dollars\n",
    "* The average poverty rate is 19.86%.\n",
    "* The average home ownership rate is 32.3%.\n",
    "* The average home units available is 61,721."
   ]
  },
  {
   "cell_type": "code",
   "execution_count": 114,
   "metadata": {},
   "outputs": [
    {
     "data": {
      "text/html": [
       "<div>\n",
       "<style scoped>\n",
       "    .dataframe tbody tr th:only-of-type {\n",
       "        vertical-align: middle;\n",
       "    }\n",
       "\n",
       "    .dataframe tbody tr th {\n",
       "        vertical-align: top;\n",
       "    }\n",
       "\n",
       "    .dataframe thead th {\n",
       "        text-align: right;\n",
       "    }\n",
       "</style>\n",
       "<table border=\"1\" class=\"dataframe\">\n",
       "  <thead>\n",
       "    <tr style=\"text-align: right;\">\n",
       "      <th></th>\n",
       "      <th>single_fam_home_price</th>\n",
       "      <th>year</th>\n",
       "      <th>condo_price</th>\n",
       "      <th>single_fam_home_sales</th>\n",
       "      <th>condo_sales</th>\n",
       "    </tr>\n",
       "  </thead>\n",
       "  <tbody>\n",
       "    <tr>\n",
       "      <th>count</th>\n",
       "      <td>8.260000e+02</td>\n",
       "      <td>826.000000</td>\n",
       "      <td>8.260000e+02</td>\n",
       "      <td>826.000000</td>\n",
       "      <td>826.000000</td>\n",
       "    </tr>\n",
       "    <tr>\n",
       "      <th>mean</th>\n",
       "      <td>1.572209e+06</td>\n",
       "      <td>2011.500000</td>\n",
       "      <td>5.761870e+05</td>\n",
       "      <td>166.421308</td>\n",
       "      <td>199.645278</td>\n",
       "    </tr>\n",
       "    <tr>\n",
       "      <th>std</th>\n",
       "      <td>2.387751e+06</td>\n",
       "      <td>4.033571</td>\n",
       "      <td>4.504922e+05</td>\n",
       "      <td>284.868785</td>\n",
       "      <td>285.553967</td>\n",
       "    </tr>\n",
       "    <tr>\n",
       "      <th>min</th>\n",
       "      <td>1.044511e+05</td>\n",
       "      <td>2005.000000</td>\n",
       "      <td>6.234109e+04</td>\n",
       "      <td>0.000000</td>\n",
       "      <td>0.000000</td>\n",
       "    </tr>\n",
       "    <tr>\n",
       "      <th>25%</th>\n",
       "      <td>4.368280e+05</td>\n",
       "      <td>2008.000000</td>\n",
       "      <td>3.137305e+05</td>\n",
       "      <td>9.250000</td>\n",
       "      <td>24.250000</td>\n",
       "    </tr>\n",
       "    <tr>\n",
       "      <th>50%</th>\n",
       "      <td>6.212450e+05</td>\n",
       "      <td>2011.500000</td>\n",
       "      <td>4.470101e+05</td>\n",
       "      <td>45.000000</td>\n",
       "      <td>84.000000</td>\n",
       "    </tr>\n",
       "    <tr>\n",
       "      <th>75%</th>\n",
       "      <td>9.859336e+05</td>\n",
       "      <td>2015.000000</td>\n",
       "      <td>6.402758e+05</td>\n",
       "      <td>176.500000</td>\n",
       "      <td>223.250000</td>\n",
       "    </tr>\n",
       "    <tr>\n",
       "      <th>max</th>\n",
       "      <td>1.506576e+07</td>\n",
       "      <td>2018.000000</td>\n",
       "      <td>3.922370e+06</td>\n",
       "      <td>2160.000000</td>\n",
       "      <td>1665.000000</td>\n",
       "    </tr>\n",
       "  </tbody>\n",
       "</table>\n",
       "</div>"
      ],
      "text/plain": [
       "       single_fam_home_price         year   condo_price  \\\n",
       "count           8.260000e+02   826.000000  8.260000e+02   \n",
       "mean            1.572209e+06  2011.500000  5.761870e+05   \n",
       "std             2.387751e+06     4.033571  4.504922e+05   \n",
       "min             1.044511e+05  2005.000000  6.234109e+04   \n",
       "25%             4.368280e+05  2008.000000  3.137305e+05   \n",
       "50%             6.212450e+05  2011.500000  4.470101e+05   \n",
       "75%             9.859336e+05  2015.000000  6.402758e+05   \n",
       "max             1.506576e+07  2018.000000  3.922370e+06   \n",
       "\n",
       "       single_fam_home_sales  condo_sales  \n",
       "count             826.000000   826.000000  \n",
       "mean              166.421308   199.645278  \n",
       "std               284.868785   285.553967  \n",
       "min                 0.000000     0.000000  \n",
       "25%                 9.250000    24.250000  \n",
       "50%                45.000000    84.000000  \n",
       "75%               176.500000   223.250000  \n",
       "max              2160.000000  1665.000000  "
      ]
     },
     "execution_count": 114,
     "metadata": {},
     "output_type": "execute_result"
    }
   ],
   "source": [
    "# Basic statistics on the community district dataset\n",
    "community_district.describe()"
   ]
  },
  {
   "cell_type": "markdown",
   "metadata": {},
   "source": [
    "**Basic Statistical Findings for Community District Data:**\n",
    "- The average price for a single family home is 1,464,431 dollars\n",
    "- The average price for a condo is 5,902,253 dollars\n",
    "- The average number of single family homes is 166\n",
    "- The average number of condo sales is 200\n"
   ]
  },
  {
   "cell_type": "markdown",
   "metadata": {},
   "source": [
    "## 4. Data Analysis and Visualization"
   ]
  },
  {
   "cell_type": "markdown",
   "metadata": {},
   "source": [
    "We can take a look at the predictive variables and attempt to answer some important business analytics questions for NYC Housing."
   ]
  },
  {
   "cell_type": "markdown",
   "metadata": {},
   "source": [
    "### 4.2. Sub-Borough Analysis"
   ]
  },
  {
   "cell_type": "code",
   "execution_count": 115,
   "metadata": {},
   "outputs": [
    {
     "data": {
      "text/html": [
       "<div>\n",
       "<style scoped>\n",
       "    .dataframe tbody tr th:only-of-type {\n",
       "        vertical-align: middle;\n",
       "    }\n",
       "\n",
       "    .dataframe tbody tr th {\n",
       "        vertical-align: top;\n",
       "    }\n",
       "\n",
       "    .dataframe thead th {\n",
       "        text-align: right;\n",
       "    }\n",
       "</style>\n",
       "<table border=\"1\" class=\"dataframe\">\n",
       "  <thead>\n",
       "    <tr style=\"text-align: right;\">\n",
       "      <th></th>\n",
       "      <th>Sub-Borough Area</th>\n",
       "      <th>homeowner_income</th>\n",
       "      <th>year</th>\n",
       "      <th>renter_income</th>\n",
       "      <th>pov_rate</th>\n",
       "      <th>population</th>\n",
       "      <th>home_own_rate</th>\n",
       "      <th>FHA_loans</th>\n",
       "      <th>LMI</th>\n",
       "      <th>hunits</th>\n",
       "      <th>rent_burden</th>\n",
       "      <th>pct_asian</th>\n",
       "      <th>pct_black</th>\n",
       "      <th>pct_hispanic</th>\n",
       "      <th>pct_white</th>\n",
       "    </tr>\n",
       "  </thead>\n",
       "  <tbody>\n",
       "    <tr>\n",
       "      <th>0</th>\n",
       "      <td>Throgs Neck/Co-op City</td>\n",
       "      <td>70980.0</td>\n",
       "      <td>2005</td>\n",
       "      <td>38770.0</td>\n",
       "      <td>0.108605</td>\n",
       "      <td>98174</td>\n",
       "      <td>0.528852</td>\n",
       "      <td>0.001074</td>\n",
       "      <td>0.018260</td>\n",
       "      <td>44246</td>\n",
       "      <td>0.300</td>\n",
       "      <td>0.015605</td>\n",
       "      <td>0.241887</td>\n",
       "      <td>0.267637</td>\n",
       "      <td>0.461996</td>\n",
       "    </tr>\n",
       "    <tr>\n",
       "      <th>1</th>\n",
       "      <td>Pelham Parkway</td>\n",
       "      <td>87140.0</td>\n",
       "      <td>2005</td>\n",
       "      <td>39000.0</td>\n",
       "      <td>0.174917</td>\n",
       "      <td>119613</td>\n",
       "      <td>0.309782</td>\n",
       "      <td>0.010512</td>\n",
       "      <td>0.474376</td>\n",
       "      <td>46183</td>\n",
       "      <td>0.305</td>\n",
       "      <td>0.060888</td>\n",
       "      <td>0.198248</td>\n",
       "      <td>0.424260</td>\n",
       "      <td>0.295628</td>\n",
       "    </tr>\n",
       "    <tr>\n",
       "      <th>2</th>\n",
       "      <td>Williamsbridge/Baychester</td>\n",
       "      <td>78650.0</td>\n",
       "      <td>2005</td>\n",
       "      <td>38980.0</td>\n",
       "      <td>0.166809</td>\n",
       "      <td>141185</td>\n",
       "      <td>0.384936</td>\n",
       "      <td>0.017476</td>\n",
       "      <td>0.267961</td>\n",
       "      <td>50169</td>\n",
       "      <td>0.334</td>\n",
       "      <td>0.028920</td>\n",
       "      <td>0.647115</td>\n",
       "      <td>0.223777</td>\n",
       "      <td>0.069377</td>\n",
       "    </tr>\n",
       "    <tr>\n",
       "      <th>3</th>\n",
       "      <td>Williamsburg/Greenpoint</td>\n",
       "      <td>63730.0</td>\n",
       "      <td>2005</td>\n",
       "      <td>33340.0</td>\n",
       "      <td>0.341530</td>\n",
       "      <td>132287</td>\n",
       "      <td>0.160327</td>\n",
       "      <td>0.002232</td>\n",
       "      <td>0.774554</td>\n",
       "      <td>52628</td>\n",
       "      <td>0.326</td>\n",
       "      <td>0.049438</td>\n",
       "      <td>0.052008</td>\n",
       "      <td>0.307717</td>\n",
       "      <td>0.578356</td>\n",
       "    </tr>\n",
       "    <tr>\n",
       "      <th>4</th>\n",
       "      <td>Brooklyn Heights/Fort Greene</td>\n",
       "      <td>107130.0</td>\n",
       "      <td>2005</td>\n",
       "      <td>45620.0</td>\n",
       "      <td>0.189589</td>\n",
       "      <td>109811</td>\n",
       "      <td>0.313845</td>\n",
       "      <td>0.000000</td>\n",
       "      <td>0.171239</td>\n",
       "      <td>54826</td>\n",
       "      <td>0.272</td>\n",
       "      <td>0.060932</td>\n",
       "      <td>0.334721</td>\n",
       "      <td>0.219468</td>\n",
       "      <td>0.355356</td>\n",
       "    </tr>\n",
       "  </tbody>\n",
       "</table>\n",
       "</div>"
      ],
      "text/plain": [
       "               Sub-Borough Area  homeowner_income  year  renter_income  \\\n",
       "0        Throgs Neck/Co-op City           70980.0  2005        38770.0   \n",
       "1                Pelham Parkway           87140.0  2005        39000.0   \n",
       "2     Williamsbridge/Baychester           78650.0  2005        38980.0   \n",
       "3       Williamsburg/Greenpoint           63730.0  2005        33340.0   \n",
       "4  Brooklyn Heights/Fort Greene          107130.0  2005        45620.0   \n",
       "\n",
       "   pov_rate  population  home_own_rate  FHA_loans       LMI  hunits  \\\n",
       "0  0.108605       98174       0.528852   0.001074  0.018260   44246   \n",
       "1  0.174917      119613       0.309782   0.010512  0.474376   46183   \n",
       "2  0.166809      141185       0.384936   0.017476  0.267961   50169   \n",
       "3  0.341530      132287       0.160327   0.002232  0.774554   52628   \n",
       "4  0.189589      109811       0.313845   0.000000  0.171239   54826   \n",
       "\n",
       "   rent_burden  pct_asian  pct_black  pct_hispanic  pct_white  \n",
       "0        0.300   0.015605   0.241887      0.267637   0.461996  \n",
       "1        0.305   0.060888   0.198248      0.424260   0.295628  \n",
       "2        0.334   0.028920   0.647115      0.223777   0.069377  \n",
       "3        0.326   0.049438   0.052008      0.307717   0.578356  \n",
       "4        0.272   0.060932   0.334721      0.219468   0.355356  "
      ]
     },
     "execution_count": 115,
     "metadata": {},
     "output_type": "execute_result"
    }
   ],
   "source": [
    "# Viewing sub-borough data\n",
    "\n",
    "df = sub_borough\n",
    "df.head()"
   ]
  },
  {
   "cell_type": "code",
   "execution_count": 116,
   "metadata": {},
   "outputs": [
    {
     "data": {
      "text/plain": [
       "year\n",
       "2005    55\n",
       "2006    55\n",
       "2007    55\n",
       "2008    55\n",
       "2009    55\n",
       "2010    55\n",
       "2011    55\n",
       "2012    55\n",
       "2013    55\n",
       "2014    55\n",
       "2015    55\n",
       "2016    55\n",
       "2017    55\n",
       "2018    55\n",
       "dtype: int64"
      ]
     },
     "execution_count": 116,
     "metadata": {},
     "output_type": "execute_result"
    }
   ],
   "source": [
    "df.groupby('year').size()"
   ]
  },
  {
   "cell_type": "code",
   "execution_count": 117,
   "metadata": {},
   "outputs": [
    {
     "data": {
      "text/html": [
       "<div>\n",
       "<style scoped>\n",
       "    .dataframe tbody tr th:only-of-type {\n",
       "        vertical-align: middle;\n",
       "    }\n",
       "\n",
       "    .dataframe tbody tr th {\n",
       "        vertical-align: top;\n",
       "    }\n",
       "\n",
       "    .dataframe thead th {\n",
       "        text-align: right;\n",
       "    }\n",
       "</style>\n",
       "<table border=\"1\" class=\"dataframe\">\n",
       "  <thead>\n",
       "    <tr style=\"text-align: right;\">\n",
       "      <th></th>\n",
       "      <th>home_own_rate</th>\n",
       "      <th>homeowner_income</th>\n",
       "      <th>renter_income</th>\n",
       "    </tr>\n",
       "    <tr>\n",
       "      <th>year</th>\n",
       "      <th></th>\n",
       "      <th></th>\n",
       "      <th></th>\n",
       "    </tr>\n",
       "  </thead>\n",
       "  <tbody>\n",
       "    <tr>\n",
       "      <th>2005</th>\n",
       "      <td>0.327432</td>\n",
       "      <td>87575.454545</td>\n",
       "      <td>43192.363636</td>\n",
       "    </tr>\n",
       "    <tr>\n",
       "      <th>2006</th>\n",
       "      <td>0.339023</td>\n",
       "      <td>91094.533209</td>\n",
       "      <td>45532.095011</td>\n",
       "    </tr>\n",
       "    <tr>\n",
       "      <th>2007</th>\n",
       "      <td>0.329944</td>\n",
       "      <td>92689.380248</td>\n",
       "      <td>47532.093043</td>\n",
       "    </tr>\n",
       "    <tr>\n",
       "      <th>2008</th>\n",
       "      <td>0.332151</td>\n",
       "      <td>95740.577477</td>\n",
       "      <td>48786.662533</td>\n",
       "    </tr>\n",
       "    <tr>\n",
       "      <th>2009</th>\n",
       "      <td>0.329662</td>\n",
       "      <td>93039.000919</td>\n",
       "      <td>47177.690533</td>\n",
       "    </tr>\n",
       "  </tbody>\n",
       "</table>\n",
       "</div>"
      ],
      "text/plain": [
       "      home_own_rate  homeowner_income  renter_income\n",
       "year                                                \n",
       "2005       0.327432      87575.454545   43192.363636\n",
       "2006       0.339023      91094.533209   45532.095011\n",
       "2007       0.329944      92689.380248   47532.093043\n",
       "2008       0.332151      95740.577477   48786.662533\n",
       "2009       0.329662      93039.000919   47177.690533"
      ]
     },
     "execution_count": 117,
     "metadata": {},
     "output_type": "execute_result"
    }
   ],
   "source": [
    "borough = pd.pivot_table(sub_borough, values= ['home_own_rate', 'homeowner_income', 'renter_income'], index= 'year')\n",
    "borough.head()"
   ]
  },
  {
   "cell_type": "markdown",
   "metadata": {},
   "source": [
    "**Comparing homeowner vs. renter's income**"
   ]
  },
  {
   "cell_type": "code",
   "execution_count": 118,
   "metadata": {},
   "outputs": [
    {
     "data": {
      "application/vnd.plotly.v1+json": {
       "config": {
        "plotlyServerURL": "https://plot.ly"
       },
       "data": [
        {
         "connectgaps": true,
         "line": {
          "shape": "linear"
         },
         "mode": "markers+lines",
         "name": "homeowner_income",
         "type": "scatter",
         "x": [
          2005,
          2006,
          2007,
          2008,
          2009,
          2010,
          2011,
          2012,
          2013,
          2014,
          2015,
          2016,
          2017,
          2018
         ],
         "y": [
          87575.45454545454,
          91094.53320937509,
          92689.38024780272,
          95740.57747665216,
          93039.00091920576,
          92300.95809615683,
          91101.07968305606,
          87325.94014010597,
          92748.77675022646,
          92850.78585670717,
          94751.30081831373,
          97619.69808364823,
          99238.39536902611,
          103879.36363636363
         ]
        },
        {
         "connectgaps": true,
         "line": {
          "shape": "linear"
         },
         "mode": "markers+lines",
         "name": "renter_income",
         "type": "scatter",
         "x": [
          2005,
          2006,
          2007,
          2008,
          2009,
          2010,
          2011,
          2012,
          2013,
          2014,
          2015,
          2016,
          2017,
          2018
         ],
         "y": [
          43192.36363636364,
          45532.09501075092,
          47532.09304349571,
          48786.66253257053,
          47177.69053320922,
          44871.49977965686,
          45526.02671549542,
          45331.977800428154,
          46769.84218602606,
          46792.741963927045,
          49510.272052008695,
          50727.98034287016,
          52487.262419931474,
          54654.2
         ]
        }
       ],
       "layout": {
        "template": {
         "data": {
          "bar": [
           {
            "error_x": {
             "color": "#2a3f5f"
            },
            "error_y": {
             "color": "#2a3f5f"
            },
            "marker": {
             "line": {
              "color": "#E5ECF6",
              "width": 0.5
             }
            },
            "type": "bar"
           }
          ],
          "barpolar": [
           {
            "marker": {
             "line": {
              "color": "#E5ECF6",
              "width": 0.5
             }
            },
            "type": "barpolar"
           }
          ],
          "carpet": [
           {
            "aaxis": {
             "endlinecolor": "#2a3f5f",
             "gridcolor": "white",
             "linecolor": "white",
             "minorgridcolor": "white",
             "startlinecolor": "#2a3f5f"
            },
            "baxis": {
             "endlinecolor": "#2a3f5f",
             "gridcolor": "white",
             "linecolor": "white",
             "minorgridcolor": "white",
             "startlinecolor": "#2a3f5f"
            },
            "type": "carpet"
           }
          ],
          "choropleth": [
           {
            "colorbar": {
             "outlinewidth": 0,
             "ticks": ""
            },
            "type": "choropleth"
           }
          ],
          "contour": [
           {
            "colorbar": {
             "outlinewidth": 0,
             "ticks": ""
            },
            "colorscale": [
             [
              0,
              "#0d0887"
             ],
             [
              0.1111111111111111,
              "#46039f"
             ],
             [
              0.2222222222222222,
              "#7201a8"
             ],
             [
              0.3333333333333333,
              "#9c179e"
             ],
             [
              0.4444444444444444,
              "#bd3786"
             ],
             [
              0.5555555555555556,
              "#d8576b"
             ],
             [
              0.6666666666666666,
              "#ed7953"
             ],
             [
              0.7777777777777778,
              "#fb9f3a"
             ],
             [
              0.8888888888888888,
              "#fdca26"
             ],
             [
              1,
              "#f0f921"
             ]
            ],
            "type": "contour"
           }
          ],
          "contourcarpet": [
           {
            "colorbar": {
             "outlinewidth": 0,
             "ticks": ""
            },
            "type": "contourcarpet"
           }
          ],
          "heatmap": [
           {
            "colorbar": {
             "outlinewidth": 0,
             "ticks": ""
            },
            "colorscale": [
             [
              0,
              "#0d0887"
             ],
             [
              0.1111111111111111,
              "#46039f"
             ],
             [
              0.2222222222222222,
              "#7201a8"
             ],
             [
              0.3333333333333333,
              "#9c179e"
             ],
             [
              0.4444444444444444,
              "#bd3786"
             ],
             [
              0.5555555555555556,
              "#d8576b"
             ],
             [
              0.6666666666666666,
              "#ed7953"
             ],
             [
              0.7777777777777778,
              "#fb9f3a"
             ],
             [
              0.8888888888888888,
              "#fdca26"
             ],
             [
              1,
              "#f0f921"
             ]
            ],
            "type": "heatmap"
           }
          ],
          "heatmapgl": [
           {
            "colorbar": {
             "outlinewidth": 0,
             "ticks": ""
            },
            "colorscale": [
             [
              0,
              "#0d0887"
             ],
             [
              0.1111111111111111,
              "#46039f"
             ],
             [
              0.2222222222222222,
              "#7201a8"
             ],
             [
              0.3333333333333333,
              "#9c179e"
             ],
             [
              0.4444444444444444,
              "#bd3786"
             ],
             [
              0.5555555555555556,
              "#d8576b"
             ],
             [
              0.6666666666666666,
              "#ed7953"
             ],
             [
              0.7777777777777778,
              "#fb9f3a"
             ],
             [
              0.8888888888888888,
              "#fdca26"
             ],
             [
              1,
              "#f0f921"
             ]
            ],
            "type": "heatmapgl"
           }
          ],
          "histogram": [
           {
            "marker": {
             "colorbar": {
              "outlinewidth": 0,
              "ticks": ""
             }
            },
            "type": "histogram"
           }
          ],
          "histogram2d": [
           {
            "colorbar": {
             "outlinewidth": 0,
             "ticks": ""
            },
            "colorscale": [
             [
              0,
              "#0d0887"
             ],
             [
              0.1111111111111111,
              "#46039f"
             ],
             [
              0.2222222222222222,
              "#7201a8"
             ],
             [
              0.3333333333333333,
              "#9c179e"
             ],
             [
              0.4444444444444444,
              "#bd3786"
             ],
             [
              0.5555555555555556,
              "#d8576b"
             ],
             [
              0.6666666666666666,
              "#ed7953"
             ],
             [
              0.7777777777777778,
              "#fb9f3a"
             ],
             [
              0.8888888888888888,
              "#fdca26"
             ],
             [
              1,
              "#f0f921"
             ]
            ],
            "type": "histogram2d"
           }
          ],
          "histogram2dcontour": [
           {
            "colorbar": {
             "outlinewidth": 0,
             "ticks": ""
            },
            "colorscale": [
             [
              0,
              "#0d0887"
             ],
             [
              0.1111111111111111,
              "#46039f"
             ],
             [
              0.2222222222222222,
              "#7201a8"
             ],
             [
              0.3333333333333333,
              "#9c179e"
             ],
             [
              0.4444444444444444,
              "#bd3786"
             ],
             [
              0.5555555555555556,
              "#d8576b"
             ],
             [
              0.6666666666666666,
              "#ed7953"
             ],
             [
              0.7777777777777778,
              "#fb9f3a"
             ],
             [
              0.8888888888888888,
              "#fdca26"
             ],
             [
              1,
              "#f0f921"
             ]
            ],
            "type": "histogram2dcontour"
           }
          ],
          "mesh3d": [
           {
            "colorbar": {
             "outlinewidth": 0,
             "ticks": ""
            },
            "type": "mesh3d"
           }
          ],
          "parcoords": [
           {
            "line": {
             "colorbar": {
              "outlinewidth": 0,
              "ticks": ""
             }
            },
            "type": "parcoords"
           }
          ],
          "pie": [
           {
            "automargin": true,
            "type": "pie"
           }
          ],
          "scatter": [
           {
            "marker": {
             "colorbar": {
              "outlinewidth": 0,
              "ticks": ""
             }
            },
            "type": "scatter"
           }
          ],
          "scatter3d": [
           {
            "line": {
             "colorbar": {
              "outlinewidth": 0,
              "ticks": ""
             }
            },
            "marker": {
             "colorbar": {
              "outlinewidth": 0,
              "ticks": ""
             }
            },
            "type": "scatter3d"
           }
          ],
          "scattercarpet": [
           {
            "marker": {
             "colorbar": {
              "outlinewidth": 0,
              "ticks": ""
             }
            },
            "type": "scattercarpet"
           }
          ],
          "scattergeo": [
           {
            "marker": {
             "colorbar": {
              "outlinewidth": 0,
              "ticks": ""
             }
            },
            "type": "scattergeo"
           }
          ],
          "scattergl": [
           {
            "marker": {
             "colorbar": {
              "outlinewidth": 0,
              "ticks": ""
             }
            },
            "type": "scattergl"
           }
          ],
          "scattermapbox": [
           {
            "marker": {
             "colorbar": {
              "outlinewidth": 0,
              "ticks": ""
             }
            },
            "type": "scattermapbox"
           }
          ],
          "scatterpolar": [
           {
            "marker": {
             "colorbar": {
              "outlinewidth": 0,
              "ticks": ""
             }
            },
            "type": "scatterpolar"
           }
          ],
          "scatterpolargl": [
           {
            "marker": {
             "colorbar": {
              "outlinewidth": 0,
              "ticks": ""
             }
            },
            "type": "scatterpolargl"
           }
          ],
          "scatterternary": [
           {
            "marker": {
             "colorbar": {
              "outlinewidth": 0,
              "ticks": ""
             }
            },
            "type": "scatterternary"
           }
          ],
          "surface": [
           {
            "colorbar": {
             "outlinewidth": 0,
             "ticks": ""
            },
            "colorscale": [
             [
              0,
              "#0d0887"
             ],
             [
              0.1111111111111111,
              "#46039f"
             ],
             [
              0.2222222222222222,
              "#7201a8"
             ],
             [
              0.3333333333333333,
              "#9c179e"
             ],
             [
              0.4444444444444444,
              "#bd3786"
             ],
             [
              0.5555555555555556,
              "#d8576b"
             ],
             [
              0.6666666666666666,
              "#ed7953"
             ],
             [
              0.7777777777777778,
              "#fb9f3a"
             ],
             [
              0.8888888888888888,
              "#fdca26"
             ],
             [
              1,
              "#f0f921"
             ]
            ],
            "type": "surface"
           }
          ],
          "table": [
           {
            "cells": {
             "fill": {
              "color": "#EBF0F8"
             },
             "line": {
              "color": "white"
             }
            },
            "header": {
             "fill": {
              "color": "#C8D4E3"
             },
             "line": {
              "color": "white"
             }
            },
            "type": "table"
           }
          ]
         },
         "layout": {
          "annotationdefaults": {
           "arrowcolor": "#2a3f5f",
           "arrowhead": 0,
           "arrowwidth": 1
          },
          "coloraxis": {
           "colorbar": {
            "outlinewidth": 0,
            "ticks": ""
           }
          },
          "colorscale": {
           "diverging": [
            [
             0,
             "#8e0152"
            ],
            [
             0.1,
             "#c51b7d"
            ],
            [
             0.2,
             "#de77ae"
            ],
            [
             0.3,
             "#f1b6da"
            ],
            [
             0.4,
             "#fde0ef"
            ],
            [
             0.5,
             "#f7f7f7"
            ],
            [
             0.6,
             "#e6f5d0"
            ],
            [
             0.7,
             "#b8e186"
            ],
            [
             0.8,
             "#7fbc41"
            ],
            [
             0.9,
             "#4d9221"
            ],
            [
             1,
             "#276419"
            ]
           ],
           "sequential": [
            [
             0,
             "#0d0887"
            ],
            [
             0.1111111111111111,
             "#46039f"
            ],
            [
             0.2222222222222222,
             "#7201a8"
            ],
            [
             0.3333333333333333,
             "#9c179e"
            ],
            [
             0.4444444444444444,
             "#bd3786"
            ],
            [
             0.5555555555555556,
             "#d8576b"
            ],
            [
             0.6666666666666666,
             "#ed7953"
            ],
            [
             0.7777777777777778,
             "#fb9f3a"
            ],
            [
             0.8888888888888888,
             "#fdca26"
            ],
            [
             1,
             "#f0f921"
            ]
           ],
           "sequentialminus": [
            [
             0,
             "#0d0887"
            ],
            [
             0.1111111111111111,
             "#46039f"
            ],
            [
             0.2222222222222222,
             "#7201a8"
            ],
            [
             0.3333333333333333,
             "#9c179e"
            ],
            [
             0.4444444444444444,
             "#bd3786"
            ],
            [
             0.5555555555555556,
             "#d8576b"
            ],
            [
             0.6666666666666666,
             "#ed7953"
            ],
            [
             0.7777777777777778,
             "#fb9f3a"
            ],
            [
             0.8888888888888888,
             "#fdca26"
            ],
            [
             1,
             "#f0f921"
            ]
           ]
          },
          "colorway": [
           "#636efa",
           "#EF553B",
           "#00cc96",
           "#ab63fa",
           "#FFA15A",
           "#19d3f3",
           "#FF6692",
           "#B6E880",
           "#FF97FF",
           "#FECB52"
          ],
          "font": {
           "color": "#2a3f5f"
          },
          "geo": {
           "bgcolor": "white",
           "lakecolor": "white",
           "landcolor": "#E5ECF6",
           "showlakes": true,
           "showland": true,
           "subunitcolor": "white"
          },
          "hoverlabel": {
           "align": "left"
          },
          "hovermode": "closest",
          "mapbox": {
           "style": "light"
          },
          "paper_bgcolor": "white",
          "plot_bgcolor": "#E5ECF6",
          "polar": {
           "angularaxis": {
            "gridcolor": "white",
            "linecolor": "white",
            "ticks": ""
           },
           "bgcolor": "#E5ECF6",
           "radialaxis": {
            "gridcolor": "white",
            "linecolor": "white",
            "ticks": ""
           }
          },
          "scene": {
           "xaxis": {
            "backgroundcolor": "#E5ECF6",
            "gridcolor": "white",
            "gridwidth": 2,
            "linecolor": "white",
            "showbackground": true,
            "ticks": "",
            "zerolinecolor": "white"
           },
           "yaxis": {
            "backgroundcolor": "#E5ECF6",
            "gridcolor": "white",
            "gridwidth": 2,
            "linecolor": "white",
            "showbackground": true,
            "ticks": "",
            "zerolinecolor": "white"
           },
           "zaxis": {
            "backgroundcolor": "#E5ECF6",
            "gridcolor": "white",
            "gridwidth": 2,
            "linecolor": "white",
            "showbackground": true,
            "ticks": "",
            "zerolinecolor": "white"
           }
          },
          "shapedefaults": {
           "line": {
            "color": "#2a3f5f"
           }
          },
          "ternary": {
           "aaxis": {
            "gridcolor": "white",
            "linecolor": "white",
            "ticks": ""
           },
           "baxis": {
            "gridcolor": "white",
            "linecolor": "white",
            "ticks": ""
           },
           "bgcolor": "#E5ECF6",
           "caxis": {
            "gridcolor": "white",
            "linecolor": "white",
            "ticks": ""
           }
          },
          "title": {
           "x": 0.05
          },
          "xaxis": {
           "automargin": true,
           "gridcolor": "white",
           "linecolor": "white",
           "ticks": "",
           "title": {
            "standoff": 15
           },
           "zerolinecolor": "white",
           "zerolinewidth": 2
          },
          "yaxis": {
           "automargin": true,
           "gridcolor": "white",
           "linecolor": "white",
           "ticks": "",
           "title": {
            "standoff": 15
           },
           "zerolinecolor": "white",
           "zerolinewidth": 2
          }
         }
        }
       }
      },
      "text/html": [
       "<div>\n",
       "        \n",
       "        \n",
       "            <div id=\"32f9bee2-9655-4728-a957-4835bad11397\" class=\"plotly-graph-div\" style=\"height:525px; width:100%;\"></div>\n",
       "            <script type=\"text/javascript\">\n",
       "                require([\"plotly\"], function(Plotly) {\n",
       "                    window.PLOTLYENV=window.PLOTLYENV || {};\n",
       "                    \n",
       "                if (document.getElementById(\"32f9bee2-9655-4728-a957-4835bad11397\")) {\n",
       "                    Plotly.newPlot(\n",
       "                        '32f9bee2-9655-4728-a957-4835bad11397',\n",
       "                        [{\"connectgaps\": true, \"line\": {\"shape\": \"linear\"}, \"mode\": \"markers+lines\", \"name\": \"homeowner_income\", \"type\": \"scatter\", \"x\": [2005, 2006, 2007, 2008, 2009, 2010, 2011, 2012, 2013, 2014, 2015, 2016, 2017, 2018], \"y\": [87575.45454545454, 91094.53320937509, 92689.38024780272, 95740.57747665216, 93039.00091920576, 92300.95809615683, 91101.07968305606, 87325.94014010597, 92748.77675022646, 92850.78585670717, 94751.30081831373, 97619.69808364823, 99238.39536902611, 103879.36363636363]}, {\"connectgaps\": true, \"line\": {\"shape\": \"linear\"}, \"mode\": \"markers+lines\", \"name\": \"renter_income\", \"type\": \"scatter\", \"x\": [2005, 2006, 2007, 2008, 2009, 2010, 2011, 2012, 2013, 2014, 2015, 2016, 2017, 2018], \"y\": [43192.36363636364, 45532.09501075092, 47532.09304349571, 48786.66253257053, 47177.69053320922, 44871.49977965686, 45526.02671549542, 45331.977800428154, 46769.84218602606, 46792.741963927045, 49510.272052008695, 50727.98034287016, 52487.262419931474, 54654.2]}],\n",
       "                        {\"template\": {\"data\": {\"bar\": [{\"error_x\": {\"color\": \"#2a3f5f\"}, \"error_y\": {\"color\": \"#2a3f5f\"}, \"marker\": {\"line\": {\"color\": \"#E5ECF6\", \"width\": 0.5}}, \"type\": \"bar\"}], \"barpolar\": [{\"marker\": {\"line\": {\"color\": \"#E5ECF6\", \"width\": 0.5}}, \"type\": \"barpolar\"}], \"carpet\": [{\"aaxis\": {\"endlinecolor\": \"#2a3f5f\", \"gridcolor\": \"white\", \"linecolor\": \"white\", \"minorgridcolor\": \"white\", \"startlinecolor\": \"#2a3f5f\"}, \"baxis\": {\"endlinecolor\": \"#2a3f5f\", \"gridcolor\": \"white\", \"linecolor\": \"white\", \"minorgridcolor\": \"white\", \"startlinecolor\": \"#2a3f5f\"}, \"type\": \"carpet\"}], \"choropleth\": [{\"colorbar\": {\"outlinewidth\": 0, \"ticks\": \"\"}, \"type\": \"choropleth\"}], \"contour\": [{\"colorbar\": {\"outlinewidth\": 0, \"ticks\": \"\"}, \"colorscale\": [[0.0, \"#0d0887\"], [0.1111111111111111, \"#46039f\"], [0.2222222222222222, \"#7201a8\"], [0.3333333333333333, \"#9c179e\"], [0.4444444444444444, \"#bd3786\"], [0.5555555555555556, \"#d8576b\"], [0.6666666666666666, \"#ed7953\"], [0.7777777777777778, \"#fb9f3a\"], [0.8888888888888888, \"#fdca26\"], [1.0, \"#f0f921\"]], \"type\": \"contour\"}], \"contourcarpet\": [{\"colorbar\": {\"outlinewidth\": 0, \"ticks\": \"\"}, \"type\": \"contourcarpet\"}], \"heatmap\": [{\"colorbar\": {\"outlinewidth\": 0, \"ticks\": \"\"}, \"colorscale\": [[0.0, \"#0d0887\"], [0.1111111111111111, \"#46039f\"], [0.2222222222222222, \"#7201a8\"], [0.3333333333333333, \"#9c179e\"], [0.4444444444444444, \"#bd3786\"], [0.5555555555555556, \"#d8576b\"], [0.6666666666666666, \"#ed7953\"], [0.7777777777777778, \"#fb9f3a\"], [0.8888888888888888, \"#fdca26\"], [1.0, \"#f0f921\"]], \"type\": \"heatmap\"}], \"heatmapgl\": [{\"colorbar\": {\"outlinewidth\": 0, \"ticks\": \"\"}, \"colorscale\": [[0.0, \"#0d0887\"], [0.1111111111111111, \"#46039f\"], [0.2222222222222222, \"#7201a8\"], [0.3333333333333333, \"#9c179e\"], [0.4444444444444444, \"#bd3786\"], [0.5555555555555556, \"#d8576b\"], [0.6666666666666666, \"#ed7953\"], [0.7777777777777778, \"#fb9f3a\"], [0.8888888888888888, \"#fdca26\"], [1.0, \"#f0f921\"]], \"type\": \"heatmapgl\"}], \"histogram\": [{\"marker\": {\"colorbar\": {\"outlinewidth\": 0, \"ticks\": \"\"}}, \"type\": \"histogram\"}], \"histogram2d\": [{\"colorbar\": {\"outlinewidth\": 0, \"ticks\": \"\"}, \"colorscale\": [[0.0, \"#0d0887\"], [0.1111111111111111, \"#46039f\"], [0.2222222222222222, \"#7201a8\"], [0.3333333333333333, \"#9c179e\"], [0.4444444444444444, \"#bd3786\"], [0.5555555555555556, \"#d8576b\"], [0.6666666666666666, \"#ed7953\"], [0.7777777777777778, \"#fb9f3a\"], [0.8888888888888888, \"#fdca26\"], [1.0, \"#f0f921\"]], \"type\": \"histogram2d\"}], \"histogram2dcontour\": [{\"colorbar\": {\"outlinewidth\": 0, \"ticks\": \"\"}, \"colorscale\": [[0.0, \"#0d0887\"], [0.1111111111111111, \"#46039f\"], [0.2222222222222222, \"#7201a8\"], [0.3333333333333333, \"#9c179e\"], [0.4444444444444444, \"#bd3786\"], [0.5555555555555556, \"#d8576b\"], [0.6666666666666666, \"#ed7953\"], [0.7777777777777778, \"#fb9f3a\"], [0.8888888888888888, \"#fdca26\"], [1.0, \"#f0f921\"]], \"type\": \"histogram2dcontour\"}], \"mesh3d\": [{\"colorbar\": {\"outlinewidth\": 0, \"ticks\": \"\"}, \"type\": \"mesh3d\"}], \"parcoords\": [{\"line\": {\"colorbar\": {\"outlinewidth\": 0, \"ticks\": \"\"}}, \"type\": \"parcoords\"}], \"pie\": [{\"automargin\": true, \"type\": \"pie\"}], \"scatter\": [{\"marker\": {\"colorbar\": {\"outlinewidth\": 0, \"ticks\": \"\"}}, \"type\": \"scatter\"}], \"scatter3d\": [{\"line\": {\"colorbar\": {\"outlinewidth\": 0, \"ticks\": \"\"}}, \"marker\": {\"colorbar\": {\"outlinewidth\": 0, \"ticks\": \"\"}}, \"type\": \"scatter3d\"}], \"scattercarpet\": [{\"marker\": {\"colorbar\": {\"outlinewidth\": 0, \"ticks\": \"\"}}, \"type\": \"scattercarpet\"}], \"scattergeo\": [{\"marker\": {\"colorbar\": {\"outlinewidth\": 0, \"ticks\": \"\"}}, \"type\": \"scattergeo\"}], \"scattergl\": [{\"marker\": {\"colorbar\": {\"outlinewidth\": 0, \"ticks\": \"\"}}, \"type\": \"scattergl\"}], \"scattermapbox\": [{\"marker\": {\"colorbar\": {\"outlinewidth\": 0, \"ticks\": \"\"}}, \"type\": \"scattermapbox\"}], \"scatterpolar\": [{\"marker\": {\"colorbar\": {\"outlinewidth\": 0, \"ticks\": \"\"}}, \"type\": \"scatterpolar\"}], \"scatterpolargl\": [{\"marker\": {\"colorbar\": {\"outlinewidth\": 0, \"ticks\": \"\"}}, \"type\": \"scatterpolargl\"}], \"scatterternary\": [{\"marker\": {\"colorbar\": {\"outlinewidth\": 0, \"ticks\": \"\"}}, \"type\": \"scatterternary\"}], \"surface\": [{\"colorbar\": {\"outlinewidth\": 0, \"ticks\": \"\"}, \"colorscale\": [[0.0, \"#0d0887\"], [0.1111111111111111, \"#46039f\"], [0.2222222222222222, \"#7201a8\"], [0.3333333333333333, \"#9c179e\"], [0.4444444444444444, \"#bd3786\"], [0.5555555555555556, \"#d8576b\"], [0.6666666666666666, \"#ed7953\"], [0.7777777777777778, \"#fb9f3a\"], [0.8888888888888888, \"#fdca26\"], [1.0, \"#f0f921\"]], \"type\": \"surface\"}], \"table\": [{\"cells\": {\"fill\": {\"color\": \"#EBF0F8\"}, \"line\": {\"color\": \"white\"}}, \"header\": {\"fill\": {\"color\": \"#C8D4E3\"}, \"line\": {\"color\": \"white\"}}, \"type\": \"table\"}]}, \"layout\": {\"annotationdefaults\": {\"arrowcolor\": \"#2a3f5f\", \"arrowhead\": 0, \"arrowwidth\": 1}, \"coloraxis\": {\"colorbar\": {\"outlinewidth\": 0, \"ticks\": \"\"}}, \"colorscale\": {\"diverging\": [[0, \"#8e0152\"], [0.1, \"#c51b7d\"], [0.2, \"#de77ae\"], [0.3, \"#f1b6da\"], [0.4, \"#fde0ef\"], [0.5, \"#f7f7f7\"], [0.6, \"#e6f5d0\"], [0.7, \"#b8e186\"], [0.8, \"#7fbc41\"], [0.9, \"#4d9221\"], [1, \"#276419\"]], \"sequential\": [[0.0, \"#0d0887\"], [0.1111111111111111, \"#46039f\"], [0.2222222222222222, \"#7201a8\"], [0.3333333333333333, \"#9c179e\"], [0.4444444444444444, \"#bd3786\"], [0.5555555555555556, \"#d8576b\"], [0.6666666666666666, \"#ed7953\"], [0.7777777777777778, \"#fb9f3a\"], [0.8888888888888888, \"#fdca26\"], [1.0, \"#f0f921\"]], \"sequentialminus\": [[0.0, \"#0d0887\"], [0.1111111111111111, \"#46039f\"], [0.2222222222222222, \"#7201a8\"], [0.3333333333333333, \"#9c179e\"], [0.4444444444444444, \"#bd3786\"], [0.5555555555555556, \"#d8576b\"], [0.6666666666666666, \"#ed7953\"], [0.7777777777777778, \"#fb9f3a\"], [0.8888888888888888, \"#fdca26\"], [1.0, \"#f0f921\"]]}, \"colorway\": [\"#636efa\", \"#EF553B\", \"#00cc96\", \"#ab63fa\", \"#FFA15A\", \"#19d3f3\", \"#FF6692\", \"#B6E880\", \"#FF97FF\", \"#FECB52\"], \"font\": {\"color\": \"#2a3f5f\"}, \"geo\": {\"bgcolor\": \"white\", \"lakecolor\": \"white\", \"landcolor\": \"#E5ECF6\", \"showlakes\": true, \"showland\": true, \"subunitcolor\": \"white\"}, \"hoverlabel\": {\"align\": \"left\"}, \"hovermode\": \"closest\", \"mapbox\": {\"style\": \"light\"}, \"paper_bgcolor\": \"white\", \"plot_bgcolor\": \"#E5ECF6\", \"polar\": {\"angularaxis\": {\"gridcolor\": \"white\", \"linecolor\": \"white\", \"ticks\": \"\"}, \"bgcolor\": \"#E5ECF6\", \"radialaxis\": {\"gridcolor\": \"white\", \"linecolor\": \"white\", \"ticks\": \"\"}}, \"scene\": {\"xaxis\": {\"backgroundcolor\": \"#E5ECF6\", \"gridcolor\": \"white\", \"gridwidth\": 2, \"linecolor\": \"white\", \"showbackground\": true, \"ticks\": \"\", \"zerolinecolor\": \"white\"}, \"yaxis\": {\"backgroundcolor\": \"#E5ECF6\", \"gridcolor\": \"white\", \"gridwidth\": 2, \"linecolor\": \"white\", \"showbackground\": true, \"ticks\": \"\", \"zerolinecolor\": \"white\"}, \"zaxis\": {\"backgroundcolor\": \"#E5ECF6\", \"gridcolor\": \"white\", \"gridwidth\": 2, \"linecolor\": \"white\", \"showbackground\": true, \"ticks\": \"\", \"zerolinecolor\": \"white\"}}, \"shapedefaults\": {\"line\": {\"color\": \"#2a3f5f\"}}, \"ternary\": {\"aaxis\": {\"gridcolor\": \"white\", \"linecolor\": \"white\", \"ticks\": \"\"}, \"baxis\": {\"gridcolor\": \"white\", \"linecolor\": \"white\", \"ticks\": \"\"}, \"bgcolor\": \"#E5ECF6\", \"caxis\": {\"gridcolor\": \"white\", \"linecolor\": \"white\", \"ticks\": \"\"}}, \"title\": {\"x\": 0.05}, \"xaxis\": {\"automargin\": true, \"gridcolor\": \"white\", \"linecolor\": \"white\", \"ticks\": \"\", \"title\": {\"standoff\": 15}, \"zerolinecolor\": \"white\", \"zerolinewidth\": 2}, \"yaxis\": {\"automargin\": true, \"gridcolor\": \"white\", \"linecolor\": \"white\", \"ticks\": \"\", \"title\": {\"standoff\": 15}, \"zerolinecolor\": \"white\", \"zerolinewidth\": 2}}}},\n",
       "                        {\"responsive\": true}\n",
       "                    ).then(function(){\n",
       "                            \n",
       "var gd = document.getElementById('32f9bee2-9655-4728-a957-4835bad11397');\n",
       "var x = new MutationObserver(function (mutations, observer) {{\n",
       "        var display = window.getComputedStyle(gd).display;\n",
       "        if (!display || display === 'none') {{\n",
       "            console.log([gd, 'removed!']);\n",
       "            Plotly.purge(gd);\n",
       "            observer.disconnect();\n",
       "        }}\n",
       "}});\n",
       "\n",
       "// Listen for the removal of the full notebook cells\n",
       "var notebookContainer = gd.closest('#notebook-container');\n",
       "if (notebookContainer) {{\n",
       "    x.observe(notebookContainer, {childList: true});\n",
       "}}\n",
       "\n",
       "// Listen for the clearing of the current output cell\n",
       "var outputEl = gd.closest('.output');\n",
       "if (outputEl) {{\n",
       "    x.observe(outputEl, {childList: true});\n",
       "}}\n",
       "\n",
       "                        })\n",
       "                };\n",
       "                });\n",
       "            </script>\n",
       "        </div>"
      ]
     },
     "metadata": {},
     "output_type": "display_data"
    }
   ],
   "source": [
    "import plotly.graph_objs as go\n",
    "\n",
    "# data munging to get desired plot\n",
    "borough = pd.pivot_table(sub_borough, values= ['homeowner_income', 'renter_income'], index= ['year'], aggfunc=np.mean)\n",
    "# ploty\n",
    "fig = go.Figure()\n",
    "for col in borough.columns:\n",
    "    fig.add_trace(go.Scatter(x=borough.index, y=borough[col].values,\n",
    "                             name = col,\n",
    "                             mode = 'markers+lines',\n",
    "                             line=dict(shape='linear'),\n",
    "                             connectgaps=True\n",
    "                             )\n",
    "                 )\n",
    "fig.show()"
   ]
  },
  {
   "cell_type": "markdown",
   "metadata": {},
   "source": [
    "**Homeowner's rate**"
   ]
  },
  {
   "cell_type": "code",
   "execution_count": 119,
   "metadata": {},
   "outputs": [
    {
     "data": {
      "application/vnd.plotly.v1+json": {
       "config": {
        "plotlyServerURL": "https://plot.ly"
       },
       "data": [
        {
         "connectgaps": true,
         "line": {
          "shape": "linear"
         },
         "mode": "markers+lines",
         "name": "home_own_rate",
         "type": "scatter",
         "x": [
          2005,
          2006,
          2007,
          2008,
          2009,
          2010,
          2011,
          2012,
          2013,
          2014,
          2015,
          2016,
          2017,
          2018
         ],
         "y": [
          0.3274320796165656,
          0.3390233636363636,
          0.3299441854545455,
          0.3321509272727272,
          0.3296622127272727,
          0.3165750509090909,
          0.30961276,
          0.3153059145454545,
          0.3175724054545455,
          0.31066898000000004,
          0.31477414000000004,
          0.32232797454545453,
          0.3277439763636363,
          0.3281267054545455
         ]
        }
       ],
       "layout": {
        "template": {
         "data": {
          "bar": [
           {
            "error_x": {
             "color": "#2a3f5f"
            },
            "error_y": {
             "color": "#2a3f5f"
            },
            "marker": {
             "line": {
              "color": "#E5ECF6",
              "width": 0.5
             }
            },
            "type": "bar"
           }
          ],
          "barpolar": [
           {
            "marker": {
             "line": {
              "color": "#E5ECF6",
              "width": 0.5
             }
            },
            "type": "barpolar"
           }
          ],
          "carpet": [
           {
            "aaxis": {
             "endlinecolor": "#2a3f5f",
             "gridcolor": "white",
             "linecolor": "white",
             "minorgridcolor": "white",
             "startlinecolor": "#2a3f5f"
            },
            "baxis": {
             "endlinecolor": "#2a3f5f",
             "gridcolor": "white",
             "linecolor": "white",
             "minorgridcolor": "white",
             "startlinecolor": "#2a3f5f"
            },
            "type": "carpet"
           }
          ],
          "choropleth": [
           {
            "colorbar": {
             "outlinewidth": 0,
             "ticks": ""
            },
            "type": "choropleth"
           }
          ],
          "contour": [
           {
            "colorbar": {
             "outlinewidth": 0,
             "ticks": ""
            },
            "colorscale": [
             [
              0,
              "#0d0887"
             ],
             [
              0.1111111111111111,
              "#46039f"
             ],
             [
              0.2222222222222222,
              "#7201a8"
             ],
             [
              0.3333333333333333,
              "#9c179e"
             ],
             [
              0.4444444444444444,
              "#bd3786"
             ],
             [
              0.5555555555555556,
              "#d8576b"
             ],
             [
              0.6666666666666666,
              "#ed7953"
             ],
             [
              0.7777777777777778,
              "#fb9f3a"
             ],
             [
              0.8888888888888888,
              "#fdca26"
             ],
             [
              1,
              "#f0f921"
             ]
            ],
            "type": "contour"
           }
          ],
          "contourcarpet": [
           {
            "colorbar": {
             "outlinewidth": 0,
             "ticks": ""
            },
            "type": "contourcarpet"
           }
          ],
          "heatmap": [
           {
            "colorbar": {
             "outlinewidth": 0,
             "ticks": ""
            },
            "colorscale": [
             [
              0,
              "#0d0887"
             ],
             [
              0.1111111111111111,
              "#46039f"
             ],
             [
              0.2222222222222222,
              "#7201a8"
             ],
             [
              0.3333333333333333,
              "#9c179e"
             ],
             [
              0.4444444444444444,
              "#bd3786"
             ],
             [
              0.5555555555555556,
              "#d8576b"
             ],
             [
              0.6666666666666666,
              "#ed7953"
             ],
             [
              0.7777777777777778,
              "#fb9f3a"
             ],
             [
              0.8888888888888888,
              "#fdca26"
             ],
             [
              1,
              "#f0f921"
             ]
            ],
            "type": "heatmap"
           }
          ],
          "heatmapgl": [
           {
            "colorbar": {
             "outlinewidth": 0,
             "ticks": ""
            },
            "colorscale": [
             [
              0,
              "#0d0887"
             ],
             [
              0.1111111111111111,
              "#46039f"
             ],
             [
              0.2222222222222222,
              "#7201a8"
             ],
             [
              0.3333333333333333,
              "#9c179e"
             ],
             [
              0.4444444444444444,
              "#bd3786"
             ],
             [
              0.5555555555555556,
              "#d8576b"
             ],
             [
              0.6666666666666666,
              "#ed7953"
             ],
             [
              0.7777777777777778,
              "#fb9f3a"
             ],
             [
              0.8888888888888888,
              "#fdca26"
             ],
             [
              1,
              "#f0f921"
             ]
            ],
            "type": "heatmapgl"
           }
          ],
          "histogram": [
           {
            "marker": {
             "colorbar": {
              "outlinewidth": 0,
              "ticks": ""
             }
            },
            "type": "histogram"
           }
          ],
          "histogram2d": [
           {
            "colorbar": {
             "outlinewidth": 0,
             "ticks": ""
            },
            "colorscale": [
             [
              0,
              "#0d0887"
             ],
             [
              0.1111111111111111,
              "#46039f"
             ],
             [
              0.2222222222222222,
              "#7201a8"
             ],
             [
              0.3333333333333333,
              "#9c179e"
             ],
             [
              0.4444444444444444,
              "#bd3786"
             ],
             [
              0.5555555555555556,
              "#d8576b"
             ],
             [
              0.6666666666666666,
              "#ed7953"
             ],
             [
              0.7777777777777778,
              "#fb9f3a"
             ],
             [
              0.8888888888888888,
              "#fdca26"
             ],
             [
              1,
              "#f0f921"
             ]
            ],
            "type": "histogram2d"
           }
          ],
          "histogram2dcontour": [
           {
            "colorbar": {
             "outlinewidth": 0,
             "ticks": ""
            },
            "colorscale": [
             [
              0,
              "#0d0887"
             ],
             [
              0.1111111111111111,
              "#46039f"
             ],
             [
              0.2222222222222222,
              "#7201a8"
             ],
             [
              0.3333333333333333,
              "#9c179e"
             ],
             [
              0.4444444444444444,
              "#bd3786"
             ],
             [
              0.5555555555555556,
              "#d8576b"
             ],
             [
              0.6666666666666666,
              "#ed7953"
             ],
             [
              0.7777777777777778,
              "#fb9f3a"
             ],
             [
              0.8888888888888888,
              "#fdca26"
             ],
             [
              1,
              "#f0f921"
             ]
            ],
            "type": "histogram2dcontour"
           }
          ],
          "mesh3d": [
           {
            "colorbar": {
             "outlinewidth": 0,
             "ticks": ""
            },
            "type": "mesh3d"
           }
          ],
          "parcoords": [
           {
            "line": {
             "colorbar": {
              "outlinewidth": 0,
              "ticks": ""
             }
            },
            "type": "parcoords"
           }
          ],
          "pie": [
           {
            "automargin": true,
            "type": "pie"
           }
          ],
          "scatter": [
           {
            "marker": {
             "colorbar": {
              "outlinewidth": 0,
              "ticks": ""
             }
            },
            "type": "scatter"
           }
          ],
          "scatter3d": [
           {
            "line": {
             "colorbar": {
              "outlinewidth": 0,
              "ticks": ""
             }
            },
            "marker": {
             "colorbar": {
              "outlinewidth": 0,
              "ticks": ""
             }
            },
            "type": "scatter3d"
           }
          ],
          "scattercarpet": [
           {
            "marker": {
             "colorbar": {
              "outlinewidth": 0,
              "ticks": ""
             }
            },
            "type": "scattercarpet"
           }
          ],
          "scattergeo": [
           {
            "marker": {
             "colorbar": {
              "outlinewidth": 0,
              "ticks": ""
             }
            },
            "type": "scattergeo"
           }
          ],
          "scattergl": [
           {
            "marker": {
             "colorbar": {
              "outlinewidth": 0,
              "ticks": ""
             }
            },
            "type": "scattergl"
           }
          ],
          "scattermapbox": [
           {
            "marker": {
             "colorbar": {
              "outlinewidth": 0,
              "ticks": ""
             }
            },
            "type": "scattermapbox"
           }
          ],
          "scatterpolar": [
           {
            "marker": {
             "colorbar": {
              "outlinewidth": 0,
              "ticks": ""
             }
            },
            "type": "scatterpolar"
           }
          ],
          "scatterpolargl": [
           {
            "marker": {
             "colorbar": {
              "outlinewidth": 0,
              "ticks": ""
             }
            },
            "type": "scatterpolargl"
           }
          ],
          "scatterternary": [
           {
            "marker": {
             "colorbar": {
              "outlinewidth": 0,
              "ticks": ""
             }
            },
            "type": "scatterternary"
           }
          ],
          "surface": [
           {
            "colorbar": {
             "outlinewidth": 0,
             "ticks": ""
            },
            "colorscale": [
             [
              0,
              "#0d0887"
             ],
             [
              0.1111111111111111,
              "#46039f"
             ],
             [
              0.2222222222222222,
              "#7201a8"
             ],
             [
              0.3333333333333333,
              "#9c179e"
             ],
             [
              0.4444444444444444,
              "#bd3786"
             ],
             [
              0.5555555555555556,
              "#d8576b"
             ],
             [
              0.6666666666666666,
              "#ed7953"
             ],
             [
              0.7777777777777778,
              "#fb9f3a"
             ],
             [
              0.8888888888888888,
              "#fdca26"
             ],
             [
              1,
              "#f0f921"
             ]
            ],
            "type": "surface"
           }
          ],
          "table": [
           {
            "cells": {
             "fill": {
              "color": "#EBF0F8"
             },
             "line": {
              "color": "white"
             }
            },
            "header": {
             "fill": {
              "color": "#C8D4E3"
             },
             "line": {
              "color": "white"
             }
            },
            "type": "table"
           }
          ]
         },
         "layout": {
          "annotationdefaults": {
           "arrowcolor": "#2a3f5f",
           "arrowhead": 0,
           "arrowwidth": 1
          },
          "coloraxis": {
           "colorbar": {
            "outlinewidth": 0,
            "ticks": ""
           }
          },
          "colorscale": {
           "diverging": [
            [
             0,
             "#8e0152"
            ],
            [
             0.1,
             "#c51b7d"
            ],
            [
             0.2,
             "#de77ae"
            ],
            [
             0.3,
             "#f1b6da"
            ],
            [
             0.4,
             "#fde0ef"
            ],
            [
             0.5,
             "#f7f7f7"
            ],
            [
             0.6,
             "#e6f5d0"
            ],
            [
             0.7,
             "#b8e186"
            ],
            [
             0.8,
             "#7fbc41"
            ],
            [
             0.9,
             "#4d9221"
            ],
            [
             1,
             "#276419"
            ]
           ],
           "sequential": [
            [
             0,
             "#0d0887"
            ],
            [
             0.1111111111111111,
             "#46039f"
            ],
            [
             0.2222222222222222,
             "#7201a8"
            ],
            [
             0.3333333333333333,
             "#9c179e"
            ],
            [
             0.4444444444444444,
             "#bd3786"
            ],
            [
             0.5555555555555556,
             "#d8576b"
            ],
            [
             0.6666666666666666,
             "#ed7953"
            ],
            [
             0.7777777777777778,
             "#fb9f3a"
            ],
            [
             0.8888888888888888,
             "#fdca26"
            ],
            [
             1,
             "#f0f921"
            ]
           ],
           "sequentialminus": [
            [
             0,
             "#0d0887"
            ],
            [
             0.1111111111111111,
             "#46039f"
            ],
            [
             0.2222222222222222,
             "#7201a8"
            ],
            [
             0.3333333333333333,
             "#9c179e"
            ],
            [
             0.4444444444444444,
             "#bd3786"
            ],
            [
             0.5555555555555556,
             "#d8576b"
            ],
            [
             0.6666666666666666,
             "#ed7953"
            ],
            [
             0.7777777777777778,
             "#fb9f3a"
            ],
            [
             0.8888888888888888,
             "#fdca26"
            ],
            [
             1,
             "#f0f921"
            ]
           ]
          },
          "colorway": [
           "#636efa",
           "#EF553B",
           "#00cc96",
           "#ab63fa",
           "#FFA15A",
           "#19d3f3",
           "#FF6692",
           "#B6E880",
           "#FF97FF",
           "#FECB52"
          ],
          "font": {
           "color": "#2a3f5f"
          },
          "geo": {
           "bgcolor": "white",
           "lakecolor": "white",
           "landcolor": "#E5ECF6",
           "showlakes": true,
           "showland": true,
           "subunitcolor": "white"
          },
          "hoverlabel": {
           "align": "left"
          },
          "hovermode": "closest",
          "mapbox": {
           "style": "light"
          },
          "paper_bgcolor": "white",
          "plot_bgcolor": "#E5ECF6",
          "polar": {
           "angularaxis": {
            "gridcolor": "white",
            "linecolor": "white",
            "ticks": ""
           },
           "bgcolor": "#E5ECF6",
           "radialaxis": {
            "gridcolor": "white",
            "linecolor": "white",
            "ticks": ""
           }
          },
          "scene": {
           "xaxis": {
            "backgroundcolor": "#E5ECF6",
            "gridcolor": "white",
            "gridwidth": 2,
            "linecolor": "white",
            "showbackground": true,
            "ticks": "",
            "zerolinecolor": "white"
           },
           "yaxis": {
            "backgroundcolor": "#E5ECF6",
            "gridcolor": "white",
            "gridwidth": 2,
            "linecolor": "white",
            "showbackground": true,
            "ticks": "",
            "zerolinecolor": "white"
           },
           "zaxis": {
            "backgroundcolor": "#E5ECF6",
            "gridcolor": "white",
            "gridwidth": 2,
            "linecolor": "white",
            "showbackground": true,
            "ticks": "",
            "zerolinecolor": "white"
           }
          },
          "shapedefaults": {
           "line": {
            "color": "#2a3f5f"
           }
          },
          "ternary": {
           "aaxis": {
            "gridcolor": "white",
            "linecolor": "white",
            "ticks": ""
           },
           "baxis": {
            "gridcolor": "white",
            "linecolor": "white",
            "ticks": ""
           },
           "bgcolor": "#E5ECF6",
           "caxis": {
            "gridcolor": "white",
            "linecolor": "white",
            "ticks": ""
           }
          },
          "title": {
           "x": 0.05
          },
          "xaxis": {
           "automargin": true,
           "gridcolor": "white",
           "linecolor": "white",
           "ticks": "",
           "title": {
            "standoff": 15
           },
           "zerolinecolor": "white",
           "zerolinewidth": 2
          },
          "yaxis": {
           "automargin": true,
           "gridcolor": "white",
           "linecolor": "white",
           "ticks": "",
           "title": {
            "standoff": 15
           },
           "zerolinecolor": "white",
           "zerolinewidth": 2
          }
         }
        }
       }
      },
      "text/html": [
       "<div>\n",
       "        \n",
       "        \n",
       "            <div id=\"8e6f36f8-a01a-4b97-942c-08e12c710d71\" class=\"plotly-graph-div\" style=\"height:525px; width:100%;\"></div>\n",
       "            <script type=\"text/javascript\">\n",
       "                require([\"plotly\"], function(Plotly) {\n",
       "                    window.PLOTLYENV=window.PLOTLYENV || {};\n",
       "                    \n",
       "                if (document.getElementById(\"8e6f36f8-a01a-4b97-942c-08e12c710d71\")) {\n",
       "                    Plotly.newPlot(\n",
       "                        '8e6f36f8-a01a-4b97-942c-08e12c710d71',\n",
       "                        [{\"connectgaps\": true, \"line\": {\"shape\": \"linear\"}, \"mode\": \"markers+lines\", \"name\": \"home_own_rate\", \"type\": \"scatter\", \"x\": [2005, 2006, 2007, 2008, 2009, 2010, 2011, 2012, 2013, 2014, 2015, 2016, 2017, 2018], \"y\": [0.3274320796165656, 0.3390233636363636, 0.3299441854545455, 0.3321509272727272, 0.3296622127272727, 0.3165750509090909, 0.30961276, 0.3153059145454545, 0.3175724054545455, 0.31066898000000004, 0.31477414000000004, 0.32232797454545453, 0.3277439763636363, 0.3281267054545455]}],\n",
       "                        {\"template\": {\"data\": {\"bar\": [{\"error_x\": {\"color\": \"#2a3f5f\"}, \"error_y\": {\"color\": \"#2a3f5f\"}, \"marker\": {\"line\": {\"color\": \"#E5ECF6\", \"width\": 0.5}}, \"type\": \"bar\"}], \"barpolar\": [{\"marker\": {\"line\": {\"color\": \"#E5ECF6\", \"width\": 0.5}}, \"type\": \"barpolar\"}], \"carpet\": [{\"aaxis\": {\"endlinecolor\": \"#2a3f5f\", \"gridcolor\": \"white\", \"linecolor\": \"white\", \"minorgridcolor\": \"white\", \"startlinecolor\": \"#2a3f5f\"}, \"baxis\": {\"endlinecolor\": \"#2a3f5f\", \"gridcolor\": \"white\", \"linecolor\": \"white\", \"minorgridcolor\": \"white\", \"startlinecolor\": \"#2a3f5f\"}, \"type\": \"carpet\"}], \"choropleth\": [{\"colorbar\": {\"outlinewidth\": 0, \"ticks\": \"\"}, \"type\": \"choropleth\"}], \"contour\": [{\"colorbar\": {\"outlinewidth\": 0, \"ticks\": \"\"}, \"colorscale\": [[0.0, \"#0d0887\"], [0.1111111111111111, \"#46039f\"], [0.2222222222222222, \"#7201a8\"], [0.3333333333333333, \"#9c179e\"], [0.4444444444444444, \"#bd3786\"], [0.5555555555555556, \"#d8576b\"], [0.6666666666666666, \"#ed7953\"], [0.7777777777777778, \"#fb9f3a\"], [0.8888888888888888, \"#fdca26\"], [1.0, \"#f0f921\"]], \"type\": \"contour\"}], \"contourcarpet\": [{\"colorbar\": {\"outlinewidth\": 0, \"ticks\": \"\"}, \"type\": \"contourcarpet\"}], \"heatmap\": [{\"colorbar\": {\"outlinewidth\": 0, \"ticks\": \"\"}, \"colorscale\": [[0.0, \"#0d0887\"], [0.1111111111111111, \"#46039f\"], [0.2222222222222222, \"#7201a8\"], [0.3333333333333333, \"#9c179e\"], [0.4444444444444444, \"#bd3786\"], [0.5555555555555556, \"#d8576b\"], [0.6666666666666666, \"#ed7953\"], [0.7777777777777778, \"#fb9f3a\"], [0.8888888888888888, \"#fdca26\"], [1.0, \"#f0f921\"]], \"type\": \"heatmap\"}], \"heatmapgl\": [{\"colorbar\": {\"outlinewidth\": 0, \"ticks\": \"\"}, \"colorscale\": [[0.0, \"#0d0887\"], [0.1111111111111111, \"#46039f\"], [0.2222222222222222, \"#7201a8\"], [0.3333333333333333, \"#9c179e\"], [0.4444444444444444, \"#bd3786\"], [0.5555555555555556, \"#d8576b\"], [0.6666666666666666, \"#ed7953\"], [0.7777777777777778, \"#fb9f3a\"], [0.8888888888888888, \"#fdca26\"], [1.0, \"#f0f921\"]], \"type\": \"heatmapgl\"}], \"histogram\": [{\"marker\": {\"colorbar\": {\"outlinewidth\": 0, \"ticks\": \"\"}}, \"type\": \"histogram\"}], \"histogram2d\": [{\"colorbar\": {\"outlinewidth\": 0, \"ticks\": \"\"}, \"colorscale\": [[0.0, \"#0d0887\"], [0.1111111111111111, \"#46039f\"], [0.2222222222222222, \"#7201a8\"], [0.3333333333333333, \"#9c179e\"], [0.4444444444444444, \"#bd3786\"], [0.5555555555555556, \"#d8576b\"], [0.6666666666666666, \"#ed7953\"], [0.7777777777777778, \"#fb9f3a\"], [0.8888888888888888, \"#fdca26\"], [1.0, \"#f0f921\"]], \"type\": \"histogram2d\"}], \"histogram2dcontour\": [{\"colorbar\": {\"outlinewidth\": 0, \"ticks\": \"\"}, \"colorscale\": [[0.0, \"#0d0887\"], [0.1111111111111111, \"#46039f\"], [0.2222222222222222, \"#7201a8\"], [0.3333333333333333, \"#9c179e\"], [0.4444444444444444, \"#bd3786\"], [0.5555555555555556, \"#d8576b\"], [0.6666666666666666, \"#ed7953\"], [0.7777777777777778, \"#fb9f3a\"], [0.8888888888888888, \"#fdca26\"], [1.0, \"#f0f921\"]], \"type\": \"histogram2dcontour\"}], \"mesh3d\": [{\"colorbar\": {\"outlinewidth\": 0, \"ticks\": \"\"}, \"type\": \"mesh3d\"}], \"parcoords\": [{\"line\": {\"colorbar\": {\"outlinewidth\": 0, \"ticks\": \"\"}}, \"type\": \"parcoords\"}], \"pie\": [{\"automargin\": true, \"type\": \"pie\"}], \"scatter\": [{\"marker\": {\"colorbar\": {\"outlinewidth\": 0, \"ticks\": \"\"}}, \"type\": \"scatter\"}], \"scatter3d\": [{\"line\": {\"colorbar\": {\"outlinewidth\": 0, \"ticks\": \"\"}}, \"marker\": {\"colorbar\": {\"outlinewidth\": 0, \"ticks\": \"\"}}, \"type\": \"scatter3d\"}], \"scattercarpet\": [{\"marker\": {\"colorbar\": {\"outlinewidth\": 0, \"ticks\": \"\"}}, \"type\": \"scattercarpet\"}], \"scattergeo\": [{\"marker\": {\"colorbar\": {\"outlinewidth\": 0, \"ticks\": \"\"}}, \"type\": \"scattergeo\"}], \"scattergl\": [{\"marker\": {\"colorbar\": {\"outlinewidth\": 0, \"ticks\": \"\"}}, \"type\": \"scattergl\"}], \"scattermapbox\": [{\"marker\": {\"colorbar\": {\"outlinewidth\": 0, \"ticks\": \"\"}}, \"type\": \"scattermapbox\"}], \"scatterpolar\": [{\"marker\": {\"colorbar\": {\"outlinewidth\": 0, \"ticks\": \"\"}}, \"type\": \"scatterpolar\"}], \"scatterpolargl\": [{\"marker\": {\"colorbar\": {\"outlinewidth\": 0, \"ticks\": \"\"}}, \"type\": \"scatterpolargl\"}], \"scatterternary\": [{\"marker\": {\"colorbar\": {\"outlinewidth\": 0, \"ticks\": \"\"}}, \"type\": \"scatterternary\"}], \"surface\": [{\"colorbar\": {\"outlinewidth\": 0, \"ticks\": \"\"}, \"colorscale\": [[0.0, \"#0d0887\"], [0.1111111111111111, \"#46039f\"], [0.2222222222222222, \"#7201a8\"], [0.3333333333333333, \"#9c179e\"], [0.4444444444444444, \"#bd3786\"], [0.5555555555555556, \"#d8576b\"], [0.6666666666666666, \"#ed7953\"], [0.7777777777777778, \"#fb9f3a\"], [0.8888888888888888, \"#fdca26\"], [1.0, \"#f0f921\"]], \"type\": \"surface\"}], \"table\": [{\"cells\": {\"fill\": {\"color\": \"#EBF0F8\"}, \"line\": {\"color\": \"white\"}}, \"header\": {\"fill\": {\"color\": \"#C8D4E3\"}, \"line\": {\"color\": \"white\"}}, \"type\": \"table\"}]}, \"layout\": {\"annotationdefaults\": {\"arrowcolor\": \"#2a3f5f\", \"arrowhead\": 0, \"arrowwidth\": 1}, \"coloraxis\": {\"colorbar\": {\"outlinewidth\": 0, \"ticks\": \"\"}}, \"colorscale\": {\"diverging\": [[0, \"#8e0152\"], [0.1, \"#c51b7d\"], [0.2, \"#de77ae\"], [0.3, \"#f1b6da\"], [0.4, \"#fde0ef\"], [0.5, \"#f7f7f7\"], [0.6, \"#e6f5d0\"], [0.7, \"#b8e186\"], [0.8, \"#7fbc41\"], [0.9, \"#4d9221\"], [1, \"#276419\"]], \"sequential\": [[0.0, \"#0d0887\"], [0.1111111111111111, \"#46039f\"], [0.2222222222222222, \"#7201a8\"], [0.3333333333333333, \"#9c179e\"], [0.4444444444444444, \"#bd3786\"], [0.5555555555555556, \"#d8576b\"], [0.6666666666666666, \"#ed7953\"], [0.7777777777777778, \"#fb9f3a\"], [0.8888888888888888, \"#fdca26\"], [1.0, \"#f0f921\"]], \"sequentialminus\": [[0.0, \"#0d0887\"], [0.1111111111111111, \"#46039f\"], [0.2222222222222222, \"#7201a8\"], [0.3333333333333333, \"#9c179e\"], [0.4444444444444444, \"#bd3786\"], [0.5555555555555556, \"#d8576b\"], [0.6666666666666666, \"#ed7953\"], [0.7777777777777778, \"#fb9f3a\"], [0.8888888888888888, \"#fdca26\"], [1.0, \"#f0f921\"]]}, \"colorway\": [\"#636efa\", \"#EF553B\", \"#00cc96\", \"#ab63fa\", \"#FFA15A\", \"#19d3f3\", \"#FF6692\", \"#B6E880\", \"#FF97FF\", \"#FECB52\"], \"font\": {\"color\": \"#2a3f5f\"}, \"geo\": {\"bgcolor\": \"white\", \"lakecolor\": \"white\", \"landcolor\": \"#E5ECF6\", \"showlakes\": true, \"showland\": true, \"subunitcolor\": \"white\"}, \"hoverlabel\": {\"align\": \"left\"}, \"hovermode\": \"closest\", \"mapbox\": {\"style\": \"light\"}, \"paper_bgcolor\": \"white\", \"plot_bgcolor\": \"#E5ECF6\", \"polar\": {\"angularaxis\": {\"gridcolor\": \"white\", \"linecolor\": \"white\", \"ticks\": \"\"}, \"bgcolor\": \"#E5ECF6\", \"radialaxis\": {\"gridcolor\": \"white\", \"linecolor\": \"white\", \"ticks\": \"\"}}, \"scene\": {\"xaxis\": {\"backgroundcolor\": \"#E5ECF6\", \"gridcolor\": \"white\", \"gridwidth\": 2, \"linecolor\": \"white\", \"showbackground\": true, \"ticks\": \"\", \"zerolinecolor\": \"white\"}, \"yaxis\": {\"backgroundcolor\": \"#E5ECF6\", \"gridcolor\": \"white\", \"gridwidth\": 2, \"linecolor\": \"white\", \"showbackground\": true, \"ticks\": \"\", \"zerolinecolor\": \"white\"}, \"zaxis\": {\"backgroundcolor\": \"#E5ECF6\", \"gridcolor\": \"white\", \"gridwidth\": 2, \"linecolor\": \"white\", \"showbackground\": true, \"ticks\": \"\", \"zerolinecolor\": \"white\"}}, \"shapedefaults\": {\"line\": {\"color\": \"#2a3f5f\"}}, \"ternary\": {\"aaxis\": {\"gridcolor\": \"white\", \"linecolor\": \"white\", \"ticks\": \"\"}, \"baxis\": {\"gridcolor\": \"white\", \"linecolor\": \"white\", \"ticks\": \"\"}, \"bgcolor\": \"#E5ECF6\", \"caxis\": {\"gridcolor\": \"white\", \"linecolor\": \"white\", \"ticks\": \"\"}}, \"title\": {\"x\": 0.05}, \"xaxis\": {\"automargin\": true, \"gridcolor\": \"white\", \"linecolor\": \"white\", \"ticks\": \"\", \"title\": {\"standoff\": 15}, \"zerolinecolor\": \"white\", \"zerolinewidth\": 2}, \"yaxis\": {\"automargin\": true, \"gridcolor\": \"white\", \"linecolor\": \"white\", \"ticks\": \"\", \"title\": {\"standoff\": 15}, \"zerolinecolor\": \"white\", \"zerolinewidth\": 2}}}},\n",
       "                        {\"responsive\": true}\n",
       "                    ).then(function(){\n",
       "                            \n",
       "var gd = document.getElementById('8e6f36f8-a01a-4b97-942c-08e12c710d71');\n",
       "var x = new MutationObserver(function (mutations, observer) {{\n",
       "        var display = window.getComputedStyle(gd).display;\n",
       "        if (!display || display === 'none') {{\n",
       "            console.log([gd, 'removed!']);\n",
       "            Plotly.purge(gd);\n",
       "            observer.disconnect();\n",
       "        }}\n",
       "}});\n",
       "\n",
       "// Listen for the removal of the full notebook cells\n",
       "var notebookContainer = gd.closest('#notebook-container');\n",
       "if (notebookContainer) {{\n",
       "    x.observe(notebookContainer, {childList: true});\n",
       "}}\n",
       "\n",
       "// Listen for the clearing of the current output cell\n",
       "var outputEl = gd.closest('.output');\n",
       "if (outputEl) {{\n",
       "    x.observe(outputEl, {childList: true});\n",
       "}}\n",
       "\n",
       "                        })\n",
       "                };\n",
       "                });\n",
       "            </script>\n",
       "        </div>"
      ]
     },
     "metadata": {},
     "output_type": "display_data"
    }
   ],
   "source": [
    "# data munging to get desired plot\n",
    "borough = pd.pivot_table(sub_borough, values= ['home_own_rate'], index= ['year'], aggfunc=np.mean)\n",
    "\n",
    "# ploty\n",
    "fig = go.Figure()\n",
    "for col in borough.columns:\n",
    "    fig.add_trace(go.Scatter(x=borough.index, y=borough[col].values,\n",
    "                             name = col,\n",
    "                             mode = 'markers+lines',\n",
    "                             line=dict(shape='linear'),\n",
    "                             connectgaps=True\n",
    "                             )\n",
    "                 )\n",
    "fig.show()"
   ]
  },
  {
   "cell_type": "markdown",
   "metadata": {},
   "source": [
    "### 4.3. Community District Analysis"
   ]
  },
  {
   "cell_type": "code",
   "execution_count": 120,
   "metadata": {},
   "outputs": [
    {
     "name": "stdout",
     "output_type": "stream",
     "text": [
      "<class 'pandas.core.frame.DataFrame'>\n",
      "Int64Index: 826 entries, 0 to 825\n",
      "Data columns (total 6 columns):\n",
      " #   Column                 Non-Null Count  Dtype  \n",
      "---  ------                 --------------  -----  \n",
      " 0   Community_District     826 non-null    object \n",
      " 1   single_fam_home_price  826 non-null    float64\n",
      " 2   year                   826 non-null    int64  \n",
      " 3   condo_price            826 non-null    float64\n",
      " 4   single_fam_home_sales  826 non-null    int64  \n",
      " 5   condo_sales            826 non-null    int64  \n",
      "dtypes: float64(2), int64(3), object(1)\n",
      "memory usage: 45.2+ KB\n"
     ]
    }
   ],
   "source": [
    "community_district.info()"
   ]
  },
  {
   "cell_type": "code",
   "execution_count": 121,
   "metadata": {},
   "outputs": [
    {
     "data": {
      "text/html": [
       "<div>\n",
       "<style scoped>\n",
       "    .dataframe tbody tr th:only-of-type {\n",
       "        vertical-align: middle;\n",
       "    }\n",
       "\n",
       "    .dataframe tbody tr th {\n",
       "        vertical-align: top;\n",
       "    }\n",
       "\n",
       "    .dataframe thead th {\n",
       "        text-align: right;\n",
       "    }\n",
       "</style>\n",
       "<table border=\"1\" class=\"dataframe\">\n",
       "  <thead>\n",
       "    <tr style=\"text-align: right;\">\n",
       "      <th></th>\n",
       "      <th>condo_price</th>\n",
       "      <th>single_fam_home_price</th>\n",
       "    </tr>\n",
       "    <tr>\n",
       "      <th>year</th>\n",
       "      <th></th>\n",
       "      <th></th>\n",
       "    </tr>\n",
       "  </thead>\n",
       "  <tbody>\n",
       "    <tr>\n",
       "      <th>2005</th>\n",
       "      <td>513916.193758</td>\n",
       "      <td>1.447860e+06</td>\n",
       "    </tr>\n",
       "    <tr>\n",
       "      <th>2006</th>\n",
       "      <td>527529.554932</td>\n",
       "      <td>1.442545e+06</td>\n",
       "    </tr>\n",
       "    <tr>\n",
       "      <th>2007</th>\n",
       "      <td>568346.397144</td>\n",
       "      <td>1.542253e+06</td>\n",
       "    </tr>\n",
       "    <tr>\n",
       "      <th>2008</th>\n",
       "      <td>555588.098351</td>\n",
       "      <td>1.547463e+06</td>\n",
       "    </tr>\n",
       "    <tr>\n",
       "      <th>2009</th>\n",
       "      <td>514664.068784</td>\n",
       "      <td>1.348462e+06</td>\n",
       "    </tr>\n",
       "  </tbody>\n",
       "</table>\n",
       "</div>"
      ],
      "text/plain": [
       "        condo_price  single_fam_home_price\n",
       "year                                      \n",
       "2005  513916.193758           1.447860e+06\n",
       "2006  527529.554932           1.442545e+06\n",
       "2007  568346.397144           1.542253e+06\n",
       "2008  555588.098351           1.547463e+06\n",
       "2009  514664.068784           1.348462e+06"
      ]
     },
     "execution_count": 121,
     "metadata": {},
     "output_type": "execute_result"
    }
   ],
   "source": [
    "prices = pd.pivot_table(community_district, values= ['single_fam_home_price', 'condo_price'], index= 'year')\n",
    "prices.head()"
   ]
  },
  {
   "cell_type": "markdown",
   "metadata": {},
   "source": [
    "**Comparing Condo vs. Single Family Home Prices"
   ]
  },
  {
   "cell_type": "code",
   "execution_count": 122,
   "metadata": {},
   "outputs": [
    {
     "data": {
      "application/vnd.plotly.v1+json": {
       "config": {
        "plotlyServerURL": "https://plot.ly"
       },
       "data": [
        {
         "connectgaps": true,
         "line": {
          "shape": "linear"
         },
         "mode": "markers+lines",
         "name": "condo_price",
         "type": "scatter",
         "x": [
          2005,
          2006,
          2007,
          2008,
          2009,
          2010,
          2011,
          2012,
          2013,
          2014,
          2015,
          2016,
          2017,
          2018
         ],
         "y": [
          513916.1937583474,
          527529.5549316092,
          568346.3971444933,
          555588.0983508785,
          514664.0687837132,
          516375.65406920377,
          503705.928098648,
          507303.3034934807,
          525585.7427033213,
          570587.9113813228,
          643944.7819806548,
          702782.2365025887,
          712441.9003913586,
          703845.54289774
         ]
        },
        {
         "connectgaps": true,
         "line": {
          "shape": "linear"
         },
         "mode": "markers+lines",
         "name": "single_fam_home_price",
         "type": "scatter",
         "x": [
          2005,
          2006,
          2007,
          2008,
          2009,
          2010,
          2011,
          2012,
          2013,
          2014,
          2015,
          2016,
          2017,
          2018
         ],
         "y": [
          1447859.5174099451,
          1442544.6812176204,
          1542253.2765394903,
          1547463.2684929897,
          1348461.7621667983,
          1420396.415630587,
          1350507.1337065315,
          1485848.267136602,
          1405669.7734805164,
          1591863.754907877,
          1845321.3605877906,
          1828481.8564247435,
          1834654.3822765464,
          1919606.8630436284
         ]
        }
       ],
       "layout": {
        "template": {
         "data": {
          "bar": [
           {
            "error_x": {
             "color": "#2a3f5f"
            },
            "error_y": {
             "color": "#2a3f5f"
            },
            "marker": {
             "line": {
              "color": "#E5ECF6",
              "width": 0.5
             }
            },
            "type": "bar"
           }
          ],
          "barpolar": [
           {
            "marker": {
             "line": {
              "color": "#E5ECF6",
              "width": 0.5
             }
            },
            "type": "barpolar"
           }
          ],
          "carpet": [
           {
            "aaxis": {
             "endlinecolor": "#2a3f5f",
             "gridcolor": "white",
             "linecolor": "white",
             "minorgridcolor": "white",
             "startlinecolor": "#2a3f5f"
            },
            "baxis": {
             "endlinecolor": "#2a3f5f",
             "gridcolor": "white",
             "linecolor": "white",
             "minorgridcolor": "white",
             "startlinecolor": "#2a3f5f"
            },
            "type": "carpet"
           }
          ],
          "choropleth": [
           {
            "colorbar": {
             "outlinewidth": 0,
             "ticks": ""
            },
            "type": "choropleth"
           }
          ],
          "contour": [
           {
            "colorbar": {
             "outlinewidth": 0,
             "ticks": ""
            },
            "colorscale": [
             [
              0,
              "#0d0887"
             ],
             [
              0.1111111111111111,
              "#46039f"
             ],
             [
              0.2222222222222222,
              "#7201a8"
             ],
             [
              0.3333333333333333,
              "#9c179e"
             ],
             [
              0.4444444444444444,
              "#bd3786"
             ],
             [
              0.5555555555555556,
              "#d8576b"
             ],
             [
              0.6666666666666666,
              "#ed7953"
             ],
             [
              0.7777777777777778,
              "#fb9f3a"
             ],
             [
              0.8888888888888888,
              "#fdca26"
             ],
             [
              1,
              "#f0f921"
             ]
            ],
            "type": "contour"
           }
          ],
          "contourcarpet": [
           {
            "colorbar": {
             "outlinewidth": 0,
             "ticks": ""
            },
            "type": "contourcarpet"
           }
          ],
          "heatmap": [
           {
            "colorbar": {
             "outlinewidth": 0,
             "ticks": ""
            },
            "colorscale": [
             [
              0,
              "#0d0887"
             ],
             [
              0.1111111111111111,
              "#46039f"
             ],
             [
              0.2222222222222222,
              "#7201a8"
             ],
             [
              0.3333333333333333,
              "#9c179e"
             ],
             [
              0.4444444444444444,
              "#bd3786"
             ],
             [
              0.5555555555555556,
              "#d8576b"
             ],
             [
              0.6666666666666666,
              "#ed7953"
             ],
             [
              0.7777777777777778,
              "#fb9f3a"
             ],
             [
              0.8888888888888888,
              "#fdca26"
             ],
             [
              1,
              "#f0f921"
             ]
            ],
            "type": "heatmap"
           }
          ],
          "heatmapgl": [
           {
            "colorbar": {
             "outlinewidth": 0,
             "ticks": ""
            },
            "colorscale": [
             [
              0,
              "#0d0887"
             ],
             [
              0.1111111111111111,
              "#46039f"
             ],
             [
              0.2222222222222222,
              "#7201a8"
             ],
             [
              0.3333333333333333,
              "#9c179e"
             ],
             [
              0.4444444444444444,
              "#bd3786"
             ],
             [
              0.5555555555555556,
              "#d8576b"
             ],
             [
              0.6666666666666666,
              "#ed7953"
             ],
             [
              0.7777777777777778,
              "#fb9f3a"
             ],
             [
              0.8888888888888888,
              "#fdca26"
             ],
             [
              1,
              "#f0f921"
             ]
            ],
            "type": "heatmapgl"
           }
          ],
          "histogram": [
           {
            "marker": {
             "colorbar": {
              "outlinewidth": 0,
              "ticks": ""
             }
            },
            "type": "histogram"
           }
          ],
          "histogram2d": [
           {
            "colorbar": {
             "outlinewidth": 0,
             "ticks": ""
            },
            "colorscale": [
             [
              0,
              "#0d0887"
             ],
             [
              0.1111111111111111,
              "#46039f"
             ],
             [
              0.2222222222222222,
              "#7201a8"
             ],
             [
              0.3333333333333333,
              "#9c179e"
             ],
             [
              0.4444444444444444,
              "#bd3786"
             ],
             [
              0.5555555555555556,
              "#d8576b"
             ],
             [
              0.6666666666666666,
              "#ed7953"
             ],
             [
              0.7777777777777778,
              "#fb9f3a"
             ],
             [
              0.8888888888888888,
              "#fdca26"
             ],
             [
              1,
              "#f0f921"
             ]
            ],
            "type": "histogram2d"
           }
          ],
          "histogram2dcontour": [
           {
            "colorbar": {
             "outlinewidth": 0,
             "ticks": ""
            },
            "colorscale": [
             [
              0,
              "#0d0887"
             ],
             [
              0.1111111111111111,
              "#46039f"
             ],
             [
              0.2222222222222222,
              "#7201a8"
             ],
             [
              0.3333333333333333,
              "#9c179e"
             ],
             [
              0.4444444444444444,
              "#bd3786"
             ],
             [
              0.5555555555555556,
              "#d8576b"
             ],
             [
              0.6666666666666666,
              "#ed7953"
             ],
             [
              0.7777777777777778,
              "#fb9f3a"
             ],
             [
              0.8888888888888888,
              "#fdca26"
             ],
             [
              1,
              "#f0f921"
             ]
            ],
            "type": "histogram2dcontour"
           }
          ],
          "mesh3d": [
           {
            "colorbar": {
             "outlinewidth": 0,
             "ticks": ""
            },
            "type": "mesh3d"
           }
          ],
          "parcoords": [
           {
            "line": {
             "colorbar": {
              "outlinewidth": 0,
              "ticks": ""
             }
            },
            "type": "parcoords"
           }
          ],
          "pie": [
           {
            "automargin": true,
            "type": "pie"
           }
          ],
          "scatter": [
           {
            "marker": {
             "colorbar": {
              "outlinewidth": 0,
              "ticks": ""
             }
            },
            "type": "scatter"
           }
          ],
          "scatter3d": [
           {
            "line": {
             "colorbar": {
              "outlinewidth": 0,
              "ticks": ""
             }
            },
            "marker": {
             "colorbar": {
              "outlinewidth": 0,
              "ticks": ""
             }
            },
            "type": "scatter3d"
           }
          ],
          "scattercarpet": [
           {
            "marker": {
             "colorbar": {
              "outlinewidth": 0,
              "ticks": ""
             }
            },
            "type": "scattercarpet"
           }
          ],
          "scattergeo": [
           {
            "marker": {
             "colorbar": {
              "outlinewidth": 0,
              "ticks": ""
             }
            },
            "type": "scattergeo"
           }
          ],
          "scattergl": [
           {
            "marker": {
             "colorbar": {
              "outlinewidth": 0,
              "ticks": ""
             }
            },
            "type": "scattergl"
           }
          ],
          "scattermapbox": [
           {
            "marker": {
             "colorbar": {
              "outlinewidth": 0,
              "ticks": ""
             }
            },
            "type": "scattermapbox"
           }
          ],
          "scatterpolar": [
           {
            "marker": {
             "colorbar": {
              "outlinewidth": 0,
              "ticks": ""
             }
            },
            "type": "scatterpolar"
           }
          ],
          "scatterpolargl": [
           {
            "marker": {
             "colorbar": {
              "outlinewidth": 0,
              "ticks": ""
             }
            },
            "type": "scatterpolargl"
           }
          ],
          "scatterternary": [
           {
            "marker": {
             "colorbar": {
              "outlinewidth": 0,
              "ticks": ""
             }
            },
            "type": "scatterternary"
           }
          ],
          "surface": [
           {
            "colorbar": {
             "outlinewidth": 0,
             "ticks": ""
            },
            "colorscale": [
             [
              0,
              "#0d0887"
             ],
             [
              0.1111111111111111,
              "#46039f"
             ],
             [
              0.2222222222222222,
              "#7201a8"
             ],
             [
              0.3333333333333333,
              "#9c179e"
             ],
             [
              0.4444444444444444,
              "#bd3786"
             ],
             [
              0.5555555555555556,
              "#d8576b"
             ],
             [
              0.6666666666666666,
              "#ed7953"
             ],
             [
              0.7777777777777778,
              "#fb9f3a"
             ],
             [
              0.8888888888888888,
              "#fdca26"
             ],
             [
              1,
              "#f0f921"
             ]
            ],
            "type": "surface"
           }
          ],
          "table": [
           {
            "cells": {
             "fill": {
              "color": "#EBF0F8"
             },
             "line": {
              "color": "white"
             }
            },
            "header": {
             "fill": {
              "color": "#C8D4E3"
             },
             "line": {
              "color": "white"
             }
            },
            "type": "table"
           }
          ]
         },
         "layout": {
          "annotationdefaults": {
           "arrowcolor": "#2a3f5f",
           "arrowhead": 0,
           "arrowwidth": 1
          },
          "coloraxis": {
           "colorbar": {
            "outlinewidth": 0,
            "ticks": ""
           }
          },
          "colorscale": {
           "diverging": [
            [
             0,
             "#8e0152"
            ],
            [
             0.1,
             "#c51b7d"
            ],
            [
             0.2,
             "#de77ae"
            ],
            [
             0.3,
             "#f1b6da"
            ],
            [
             0.4,
             "#fde0ef"
            ],
            [
             0.5,
             "#f7f7f7"
            ],
            [
             0.6,
             "#e6f5d0"
            ],
            [
             0.7,
             "#b8e186"
            ],
            [
             0.8,
             "#7fbc41"
            ],
            [
             0.9,
             "#4d9221"
            ],
            [
             1,
             "#276419"
            ]
           ],
           "sequential": [
            [
             0,
             "#0d0887"
            ],
            [
             0.1111111111111111,
             "#46039f"
            ],
            [
             0.2222222222222222,
             "#7201a8"
            ],
            [
             0.3333333333333333,
             "#9c179e"
            ],
            [
             0.4444444444444444,
             "#bd3786"
            ],
            [
             0.5555555555555556,
             "#d8576b"
            ],
            [
             0.6666666666666666,
             "#ed7953"
            ],
            [
             0.7777777777777778,
             "#fb9f3a"
            ],
            [
             0.8888888888888888,
             "#fdca26"
            ],
            [
             1,
             "#f0f921"
            ]
           ],
           "sequentialminus": [
            [
             0,
             "#0d0887"
            ],
            [
             0.1111111111111111,
             "#46039f"
            ],
            [
             0.2222222222222222,
             "#7201a8"
            ],
            [
             0.3333333333333333,
             "#9c179e"
            ],
            [
             0.4444444444444444,
             "#bd3786"
            ],
            [
             0.5555555555555556,
             "#d8576b"
            ],
            [
             0.6666666666666666,
             "#ed7953"
            ],
            [
             0.7777777777777778,
             "#fb9f3a"
            ],
            [
             0.8888888888888888,
             "#fdca26"
            ],
            [
             1,
             "#f0f921"
            ]
           ]
          },
          "colorway": [
           "#636efa",
           "#EF553B",
           "#00cc96",
           "#ab63fa",
           "#FFA15A",
           "#19d3f3",
           "#FF6692",
           "#B6E880",
           "#FF97FF",
           "#FECB52"
          ],
          "font": {
           "color": "#2a3f5f"
          },
          "geo": {
           "bgcolor": "white",
           "lakecolor": "white",
           "landcolor": "#E5ECF6",
           "showlakes": true,
           "showland": true,
           "subunitcolor": "white"
          },
          "hoverlabel": {
           "align": "left"
          },
          "hovermode": "closest",
          "mapbox": {
           "style": "light"
          },
          "paper_bgcolor": "white",
          "plot_bgcolor": "#E5ECF6",
          "polar": {
           "angularaxis": {
            "gridcolor": "white",
            "linecolor": "white",
            "ticks": ""
           },
           "bgcolor": "#E5ECF6",
           "radialaxis": {
            "gridcolor": "white",
            "linecolor": "white",
            "ticks": ""
           }
          },
          "scene": {
           "xaxis": {
            "backgroundcolor": "#E5ECF6",
            "gridcolor": "white",
            "gridwidth": 2,
            "linecolor": "white",
            "showbackground": true,
            "ticks": "",
            "zerolinecolor": "white"
           },
           "yaxis": {
            "backgroundcolor": "#E5ECF6",
            "gridcolor": "white",
            "gridwidth": 2,
            "linecolor": "white",
            "showbackground": true,
            "ticks": "",
            "zerolinecolor": "white"
           },
           "zaxis": {
            "backgroundcolor": "#E5ECF6",
            "gridcolor": "white",
            "gridwidth": 2,
            "linecolor": "white",
            "showbackground": true,
            "ticks": "",
            "zerolinecolor": "white"
           }
          },
          "shapedefaults": {
           "line": {
            "color": "#2a3f5f"
           }
          },
          "ternary": {
           "aaxis": {
            "gridcolor": "white",
            "linecolor": "white",
            "ticks": ""
           },
           "baxis": {
            "gridcolor": "white",
            "linecolor": "white",
            "ticks": ""
           },
           "bgcolor": "#E5ECF6",
           "caxis": {
            "gridcolor": "white",
            "linecolor": "white",
            "ticks": ""
           }
          },
          "title": {
           "x": 0.05
          },
          "xaxis": {
           "automargin": true,
           "gridcolor": "white",
           "linecolor": "white",
           "ticks": "",
           "title": {
            "standoff": 15
           },
           "zerolinecolor": "white",
           "zerolinewidth": 2
          },
          "yaxis": {
           "automargin": true,
           "gridcolor": "white",
           "linecolor": "white",
           "ticks": "",
           "title": {
            "standoff": 15
           },
           "zerolinecolor": "white",
           "zerolinewidth": 2
          }
         }
        }
       }
      },
      "text/html": [
       "<div>\n",
       "        \n",
       "        \n",
       "            <div id=\"bce22903-3b64-4853-96a7-774e952c6619\" class=\"plotly-graph-div\" style=\"height:525px; width:100%;\"></div>\n",
       "            <script type=\"text/javascript\">\n",
       "                require([\"plotly\"], function(Plotly) {\n",
       "                    window.PLOTLYENV=window.PLOTLYENV || {};\n",
       "                    \n",
       "                if (document.getElementById(\"bce22903-3b64-4853-96a7-774e952c6619\")) {\n",
       "                    Plotly.newPlot(\n",
       "                        'bce22903-3b64-4853-96a7-774e952c6619',\n",
       "                        [{\"connectgaps\": true, \"line\": {\"shape\": \"linear\"}, \"mode\": \"markers+lines\", \"name\": \"condo_price\", \"type\": \"scatter\", \"x\": [2005, 2006, 2007, 2008, 2009, 2010, 2011, 2012, 2013, 2014, 2015, 2016, 2017, 2018], \"y\": [513916.1937583474, 527529.5549316092, 568346.3971444933, 555588.0983508785, 514664.0687837132, 516375.65406920377, 503705.928098648, 507303.3034934807, 525585.7427033213, 570587.9113813228, 643944.7819806548, 702782.2365025887, 712441.9003913586, 703845.54289774]}, {\"connectgaps\": true, \"line\": {\"shape\": \"linear\"}, \"mode\": \"markers+lines\", \"name\": \"single_fam_home_price\", \"type\": \"scatter\", \"x\": [2005, 2006, 2007, 2008, 2009, 2010, 2011, 2012, 2013, 2014, 2015, 2016, 2017, 2018], \"y\": [1447859.5174099451, 1442544.6812176204, 1542253.2765394903, 1547463.2684929897, 1348461.7621667983, 1420396.415630587, 1350507.1337065315, 1485848.267136602, 1405669.7734805164, 1591863.754907877, 1845321.3605877906, 1828481.8564247435, 1834654.3822765464, 1919606.8630436284]}],\n",
       "                        {\"template\": {\"data\": {\"bar\": [{\"error_x\": {\"color\": \"#2a3f5f\"}, \"error_y\": {\"color\": \"#2a3f5f\"}, \"marker\": {\"line\": {\"color\": \"#E5ECF6\", \"width\": 0.5}}, \"type\": \"bar\"}], \"barpolar\": [{\"marker\": {\"line\": {\"color\": \"#E5ECF6\", \"width\": 0.5}}, \"type\": \"barpolar\"}], \"carpet\": [{\"aaxis\": {\"endlinecolor\": \"#2a3f5f\", \"gridcolor\": \"white\", \"linecolor\": \"white\", \"minorgridcolor\": \"white\", \"startlinecolor\": \"#2a3f5f\"}, \"baxis\": {\"endlinecolor\": \"#2a3f5f\", \"gridcolor\": \"white\", \"linecolor\": \"white\", \"minorgridcolor\": \"white\", \"startlinecolor\": \"#2a3f5f\"}, \"type\": \"carpet\"}], \"choropleth\": [{\"colorbar\": {\"outlinewidth\": 0, \"ticks\": \"\"}, \"type\": \"choropleth\"}], \"contour\": [{\"colorbar\": {\"outlinewidth\": 0, \"ticks\": \"\"}, \"colorscale\": [[0.0, \"#0d0887\"], [0.1111111111111111, \"#46039f\"], [0.2222222222222222, \"#7201a8\"], [0.3333333333333333, \"#9c179e\"], [0.4444444444444444, \"#bd3786\"], [0.5555555555555556, \"#d8576b\"], [0.6666666666666666, \"#ed7953\"], [0.7777777777777778, \"#fb9f3a\"], [0.8888888888888888, \"#fdca26\"], [1.0, \"#f0f921\"]], \"type\": \"contour\"}], \"contourcarpet\": [{\"colorbar\": {\"outlinewidth\": 0, \"ticks\": \"\"}, \"type\": \"contourcarpet\"}], \"heatmap\": [{\"colorbar\": {\"outlinewidth\": 0, \"ticks\": \"\"}, \"colorscale\": [[0.0, \"#0d0887\"], [0.1111111111111111, \"#46039f\"], [0.2222222222222222, \"#7201a8\"], [0.3333333333333333, \"#9c179e\"], [0.4444444444444444, \"#bd3786\"], [0.5555555555555556, \"#d8576b\"], [0.6666666666666666, \"#ed7953\"], [0.7777777777777778, \"#fb9f3a\"], [0.8888888888888888, \"#fdca26\"], [1.0, \"#f0f921\"]], \"type\": \"heatmap\"}], \"heatmapgl\": [{\"colorbar\": {\"outlinewidth\": 0, \"ticks\": \"\"}, \"colorscale\": [[0.0, \"#0d0887\"], [0.1111111111111111, \"#46039f\"], [0.2222222222222222, \"#7201a8\"], [0.3333333333333333, \"#9c179e\"], [0.4444444444444444, \"#bd3786\"], [0.5555555555555556, \"#d8576b\"], [0.6666666666666666, \"#ed7953\"], [0.7777777777777778, \"#fb9f3a\"], [0.8888888888888888, \"#fdca26\"], [1.0, \"#f0f921\"]], \"type\": \"heatmapgl\"}], \"histogram\": [{\"marker\": {\"colorbar\": {\"outlinewidth\": 0, \"ticks\": \"\"}}, \"type\": \"histogram\"}], \"histogram2d\": [{\"colorbar\": {\"outlinewidth\": 0, \"ticks\": \"\"}, \"colorscale\": [[0.0, \"#0d0887\"], [0.1111111111111111, \"#46039f\"], [0.2222222222222222, \"#7201a8\"], [0.3333333333333333, \"#9c179e\"], [0.4444444444444444, \"#bd3786\"], [0.5555555555555556, \"#d8576b\"], [0.6666666666666666, \"#ed7953\"], [0.7777777777777778, \"#fb9f3a\"], [0.8888888888888888, \"#fdca26\"], [1.0, \"#f0f921\"]], \"type\": \"histogram2d\"}], \"histogram2dcontour\": [{\"colorbar\": {\"outlinewidth\": 0, \"ticks\": \"\"}, \"colorscale\": [[0.0, \"#0d0887\"], [0.1111111111111111, \"#46039f\"], [0.2222222222222222, \"#7201a8\"], [0.3333333333333333, \"#9c179e\"], [0.4444444444444444, \"#bd3786\"], [0.5555555555555556, \"#d8576b\"], [0.6666666666666666, \"#ed7953\"], [0.7777777777777778, \"#fb9f3a\"], [0.8888888888888888, \"#fdca26\"], [1.0, \"#f0f921\"]], \"type\": \"histogram2dcontour\"}], \"mesh3d\": [{\"colorbar\": {\"outlinewidth\": 0, \"ticks\": \"\"}, \"type\": \"mesh3d\"}], \"parcoords\": [{\"line\": {\"colorbar\": {\"outlinewidth\": 0, \"ticks\": \"\"}}, \"type\": \"parcoords\"}], \"pie\": [{\"automargin\": true, \"type\": \"pie\"}], \"scatter\": [{\"marker\": {\"colorbar\": {\"outlinewidth\": 0, \"ticks\": \"\"}}, \"type\": \"scatter\"}], \"scatter3d\": [{\"line\": {\"colorbar\": {\"outlinewidth\": 0, \"ticks\": \"\"}}, \"marker\": {\"colorbar\": {\"outlinewidth\": 0, \"ticks\": \"\"}}, \"type\": \"scatter3d\"}], \"scattercarpet\": [{\"marker\": {\"colorbar\": {\"outlinewidth\": 0, \"ticks\": \"\"}}, \"type\": \"scattercarpet\"}], \"scattergeo\": [{\"marker\": {\"colorbar\": {\"outlinewidth\": 0, \"ticks\": \"\"}}, \"type\": \"scattergeo\"}], \"scattergl\": [{\"marker\": {\"colorbar\": {\"outlinewidth\": 0, \"ticks\": \"\"}}, \"type\": \"scattergl\"}], \"scattermapbox\": [{\"marker\": {\"colorbar\": {\"outlinewidth\": 0, \"ticks\": \"\"}}, \"type\": \"scattermapbox\"}], \"scatterpolar\": [{\"marker\": {\"colorbar\": {\"outlinewidth\": 0, \"ticks\": \"\"}}, \"type\": \"scatterpolar\"}], \"scatterpolargl\": [{\"marker\": {\"colorbar\": {\"outlinewidth\": 0, \"ticks\": \"\"}}, \"type\": \"scatterpolargl\"}], \"scatterternary\": [{\"marker\": {\"colorbar\": {\"outlinewidth\": 0, \"ticks\": \"\"}}, \"type\": \"scatterternary\"}], \"surface\": [{\"colorbar\": {\"outlinewidth\": 0, \"ticks\": \"\"}, \"colorscale\": [[0.0, \"#0d0887\"], [0.1111111111111111, \"#46039f\"], [0.2222222222222222, \"#7201a8\"], [0.3333333333333333, \"#9c179e\"], [0.4444444444444444, \"#bd3786\"], [0.5555555555555556, \"#d8576b\"], [0.6666666666666666, \"#ed7953\"], [0.7777777777777778, \"#fb9f3a\"], [0.8888888888888888, \"#fdca26\"], [1.0, \"#f0f921\"]], \"type\": \"surface\"}], \"table\": [{\"cells\": {\"fill\": {\"color\": \"#EBF0F8\"}, \"line\": {\"color\": \"white\"}}, \"header\": {\"fill\": {\"color\": \"#C8D4E3\"}, \"line\": {\"color\": \"white\"}}, \"type\": \"table\"}]}, \"layout\": {\"annotationdefaults\": {\"arrowcolor\": \"#2a3f5f\", \"arrowhead\": 0, \"arrowwidth\": 1}, \"coloraxis\": {\"colorbar\": {\"outlinewidth\": 0, \"ticks\": \"\"}}, \"colorscale\": {\"diverging\": [[0, \"#8e0152\"], [0.1, \"#c51b7d\"], [0.2, \"#de77ae\"], [0.3, \"#f1b6da\"], [0.4, \"#fde0ef\"], [0.5, \"#f7f7f7\"], [0.6, \"#e6f5d0\"], [0.7, \"#b8e186\"], [0.8, \"#7fbc41\"], [0.9, \"#4d9221\"], [1, \"#276419\"]], \"sequential\": [[0.0, \"#0d0887\"], [0.1111111111111111, \"#46039f\"], [0.2222222222222222, \"#7201a8\"], [0.3333333333333333, \"#9c179e\"], [0.4444444444444444, \"#bd3786\"], [0.5555555555555556, \"#d8576b\"], [0.6666666666666666, \"#ed7953\"], [0.7777777777777778, \"#fb9f3a\"], [0.8888888888888888, \"#fdca26\"], [1.0, \"#f0f921\"]], \"sequentialminus\": [[0.0, \"#0d0887\"], [0.1111111111111111, \"#46039f\"], [0.2222222222222222, \"#7201a8\"], [0.3333333333333333, \"#9c179e\"], [0.4444444444444444, \"#bd3786\"], [0.5555555555555556, \"#d8576b\"], [0.6666666666666666, \"#ed7953\"], [0.7777777777777778, \"#fb9f3a\"], [0.8888888888888888, \"#fdca26\"], [1.0, \"#f0f921\"]]}, \"colorway\": [\"#636efa\", \"#EF553B\", \"#00cc96\", \"#ab63fa\", \"#FFA15A\", \"#19d3f3\", \"#FF6692\", \"#B6E880\", \"#FF97FF\", \"#FECB52\"], \"font\": {\"color\": \"#2a3f5f\"}, \"geo\": {\"bgcolor\": \"white\", \"lakecolor\": \"white\", \"landcolor\": \"#E5ECF6\", \"showlakes\": true, \"showland\": true, \"subunitcolor\": \"white\"}, \"hoverlabel\": {\"align\": \"left\"}, \"hovermode\": \"closest\", \"mapbox\": {\"style\": \"light\"}, \"paper_bgcolor\": \"white\", \"plot_bgcolor\": \"#E5ECF6\", \"polar\": {\"angularaxis\": {\"gridcolor\": \"white\", \"linecolor\": \"white\", \"ticks\": \"\"}, \"bgcolor\": \"#E5ECF6\", \"radialaxis\": {\"gridcolor\": \"white\", \"linecolor\": \"white\", \"ticks\": \"\"}}, \"scene\": {\"xaxis\": {\"backgroundcolor\": \"#E5ECF6\", \"gridcolor\": \"white\", \"gridwidth\": 2, \"linecolor\": \"white\", \"showbackground\": true, \"ticks\": \"\", \"zerolinecolor\": \"white\"}, \"yaxis\": {\"backgroundcolor\": \"#E5ECF6\", \"gridcolor\": \"white\", \"gridwidth\": 2, \"linecolor\": \"white\", \"showbackground\": true, \"ticks\": \"\", \"zerolinecolor\": \"white\"}, \"zaxis\": {\"backgroundcolor\": \"#E5ECF6\", \"gridcolor\": \"white\", \"gridwidth\": 2, \"linecolor\": \"white\", \"showbackground\": true, \"ticks\": \"\", \"zerolinecolor\": \"white\"}}, \"shapedefaults\": {\"line\": {\"color\": \"#2a3f5f\"}}, \"ternary\": {\"aaxis\": {\"gridcolor\": \"white\", \"linecolor\": \"white\", \"ticks\": \"\"}, \"baxis\": {\"gridcolor\": \"white\", \"linecolor\": \"white\", \"ticks\": \"\"}, \"bgcolor\": \"#E5ECF6\", \"caxis\": {\"gridcolor\": \"white\", \"linecolor\": \"white\", \"ticks\": \"\"}}, \"title\": {\"x\": 0.05}, \"xaxis\": {\"automargin\": true, \"gridcolor\": \"white\", \"linecolor\": \"white\", \"ticks\": \"\", \"title\": {\"standoff\": 15}, \"zerolinecolor\": \"white\", \"zerolinewidth\": 2}, \"yaxis\": {\"automargin\": true, \"gridcolor\": \"white\", \"linecolor\": \"white\", \"ticks\": \"\", \"title\": {\"standoff\": 15}, \"zerolinecolor\": \"white\", \"zerolinewidth\": 2}}}},\n",
       "                        {\"responsive\": true}\n",
       "                    ).then(function(){\n",
       "                            \n",
       "var gd = document.getElementById('bce22903-3b64-4853-96a7-774e952c6619');\n",
       "var x = new MutationObserver(function (mutations, observer) {{\n",
       "        var display = window.getComputedStyle(gd).display;\n",
       "        if (!display || display === 'none') {{\n",
       "            console.log([gd, 'removed!']);\n",
       "            Plotly.purge(gd);\n",
       "            observer.disconnect();\n",
       "        }}\n",
       "}});\n",
       "\n",
       "// Listen for the removal of the full notebook cells\n",
       "var notebookContainer = gd.closest('#notebook-container');\n",
       "if (notebookContainer) {{\n",
       "    x.observe(notebookContainer, {childList: true});\n",
       "}}\n",
       "\n",
       "// Listen for the clearing of the current output cell\n",
       "var outputEl = gd.closest('.output');\n",
       "if (outputEl) {{\n",
       "    x.observe(outputEl, {childList: true});\n",
       "}}\n",
       "\n",
       "                        })\n",
       "                };\n",
       "                });\n",
       "            </script>\n",
       "        </div>"
      ]
     },
     "metadata": {},
     "output_type": "display_data"
    }
   ],
   "source": [
    "# data munging to get desired plot\n",
    "borough = pd.pivot_table(prices, values= ['single_fam_home_price', 'condo_price'], index= ['year'], aggfunc=np.mean)\n",
    "\n",
    "# ploty\n",
    "fig = go.Figure()\n",
    "for col in prices.columns:\n",
    "    fig.add_trace(go.Scatter(x=prices.index, y=prices[col].values,\n",
    "                             name = col,\n",
    "                             mode = 'markers+lines',\n",
    "                             line=dict(shape='linear'),\n",
    "                             connectgaps=True\n",
    "                             )\n",
    "                 )\n",
    "fig.show()"
   ]
  },
  {
   "cell_type": "markdown",
   "metadata": {},
   "source": [
    "**Comparing Condo vs. Single Family Home Sales**"
   ]
  },
  {
   "cell_type": "code",
   "execution_count": 123,
   "metadata": {},
   "outputs": [
    {
     "data": {
      "text/html": [
       "<div>\n",
       "<style scoped>\n",
       "    .dataframe tbody tr th:only-of-type {\n",
       "        vertical-align: middle;\n",
       "    }\n",
       "\n",
       "    .dataframe tbody tr th {\n",
       "        vertical-align: top;\n",
       "    }\n",
       "\n",
       "    .dataframe thead th {\n",
       "        text-align: right;\n",
       "    }\n",
       "</style>\n",
       "<table border=\"1\" class=\"dataframe\">\n",
       "  <thead>\n",
       "    <tr style=\"text-align: right;\">\n",
       "      <th></th>\n",
       "      <th>condo_sales</th>\n",
       "      <th>single_fam_home_sales</th>\n",
       "    </tr>\n",
       "    <tr>\n",
       "      <th>year</th>\n",
       "      <th></th>\n",
       "      <th></th>\n",
       "    </tr>\n",
       "  </thead>\n",
       "  <tbody>\n",
       "    <tr>\n",
       "      <th>2005</th>\n",
       "      <td>203.000000</td>\n",
       "      <td>290.440678</td>\n",
       "    </tr>\n",
       "    <tr>\n",
       "      <th>2006</th>\n",
       "      <td>230.898305</td>\n",
       "      <td>282.542373</td>\n",
       "    </tr>\n",
       "    <tr>\n",
       "      <th>2007</th>\n",
       "      <td>269.610169</td>\n",
       "      <td>223.203390</td>\n",
       "    </tr>\n",
       "    <tr>\n",
       "      <th>2008</th>\n",
       "      <td>246.881356</td>\n",
       "      <td>162.254237</td>\n",
       "    </tr>\n",
       "    <tr>\n",
       "      <th>2009</th>\n",
       "      <td>157.762712</td>\n",
       "      <td>137.932203</td>\n",
       "    </tr>\n",
       "  </tbody>\n",
       "</table>\n",
       "</div>"
      ],
      "text/plain": [
       "      condo_sales  single_fam_home_sales\n",
       "year                                    \n",
       "2005   203.000000             290.440678\n",
       "2006   230.898305             282.542373\n",
       "2007   269.610169             223.203390\n",
       "2008   246.881356             162.254237\n",
       "2009   157.762712             137.932203"
      ]
     },
     "execution_count": 123,
     "metadata": {},
     "output_type": "execute_result"
    }
   ],
   "source": [
    "sales = pd.pivot_table(community_district, values= ['single_fam_home_sales', 'condo_sales'], index= 'year')\n",
    "sales.head()"
   ]
  },
  {
   "cell_type": "code",
   "execution_count": 124,
   "metadata": {},
   "outputs": [
    {
     "data": {
      "application/vnd.plotly.v1+json": {
       "config": {
        "plotlyServerURL": "https://plot.ly"
       },
       "data": [
        {
         "connectgaps": true,
         "line": {
          "shape": "linear"
         },
         "mode": "markers+lines",
         "name": "condo_sales",
         "type": "scatter",
         "x": [
          2005,
          2006,
          2007,
          2008,
          2009,
          2010,
          2011,
          2012,
          2013,
          2014,
          2015,
          2016,
          2017,
          2018
         ],
         "y": [
          203,
          230.89830508474577,
          269.6101694915254,
          246.88135593220338,
          157.76271186440678,
          188.35593220338984,
          178.864406779661,
          179.8135593220339,
          194.6271186440678,
          181.96610169491527,
          185.64406779661016,
          187.84745762711864,
          212.08474576271186,
          177.67796610169492
         ]
        },
        {
         "connectgaps": true,
         "line": {
          "shape": "linear"
         },
         "mode": "markers+lines",
         "name": "single_fam_home_sales",
         "type": "scatter",
         "x": [
          2005,
          2006,
          2007,
          2008,
          2009,
          2010,
          2011,
          2012,
          2013,
          2014,
          2015,
          2016,
          2017,
          2018
         ],
         "y": [
          290.4406779661017,
          282.54237288135596,
          223.20338983050848,
          162.25423728813558,
          137.9322033898305,
          127.27118644067797,
          98.76271186440678,
          112.76271186440678,
          133.71186440677965,
          127.62711864406779,
          127.76271186440678,
          147.3050847457627,
          164.54237288135593,
          193.77966101694915
         ]
        }
       ],
       "layout": {
        "template": {
         "data": {
          "bar": [
           {
            "error_x": {
             "color": "#2a3f5f"
            },
            "error_y": {
             "color": "#2a3f5f"
            },
            "marker": {
             "line": {
              "color": "#E5ECF6",
              "width": 0.5
             }
            },
            "type": "bar"
           }
          ],
          "barpolar": [
           {
            "marker": {
             "line": {
              "color": "#E5ECF6",
              "width": 0.5
             }
            },
            "type": "barpolar"
           }
          ],
          "carpet": [
           {
            "aaxis": {
             "endlinecolor": "#2a3f5f",
             "gridcolor": "white",
             "linecolor": "white",
             "minorgridcolor": "white",
             "startlinecolor": "#2a3f5f"
            },
            "baxis": {
             "endlinecolor": "#2a3f5f",
             "gridcolor": "white",
             "linecolor": "white",
             "minorgridcolor": "white",
             "startlinecolor": "#2a3f5f"
            },
            "type": "carpet"
           }
          ],
          "choropleth": [
           {
            "colorbar": {
             "outlinewidth": 0,
             "ticks": ""
            },
            "type": "choropleth"
           }
          ],
          "contour": [
           {
            "colorbar": {
             "outlinewidth": 0,
             "ticks": ""
            },
            "colorscale": [
             [
              0,
              "#0d0887"
             ],
             [
              0.1111111111111111,
              "#46039f"
             ],
             [
              0.2222222222222222,
              "#7201a8"
             ],
             [
              0.3333333333333333,
              "#9c179e"
             ],
             [
              0.4444444444444444,
              "#bd3786"
             ],
             [
              0.5555555555555556,
              "#d8576b"
             ],
             [
              0.6666666666666666,
              "#ed7953"
             ],
             [
              0.7777777777777778,
              "#fb9f3a"
             ],
             [
              0.8888888888888888,
              "#fdca26"
             ],
             [
              1,
              "#f0f921"
             ]
            ],
            "type": "contour"
           }
          ],
          "contourcarpet": [
           {
            "colorbar": {
             "outlinewidth": 0,
             "ticks": ""
            },
            "type": "contourcarpet"
           }
          ],
          "heatmap": [
           {
            "colorbar": {
             "outlinewidth": 0,
             "ticks": ""
            },
            "colorscale": [
             [
              0,
              "#0d0887"
             ],
             [
              0.1111111111111111,
              "#46039f"
             ],
             [
              0.2222222222222222,
              "#7201a8"
             ],
             [
              0.3333333333333333,
              "#9c179e"
             ],
             [
              0.4444444444444444,
              "#bd3786"
             ],
             [
              0.5555555555555556,
              "#d8576b"
             ],
             [
              0.6666666666666666,
              "#ed7953"
             ],
             [
              0.7777777777777778,
              "#fb9f3a"
             ],
             [
              0.8888888888888888,
              "#fdca26"
             ],
             [
              1,
              "#f0f921"
             ]
            ],
            "type": "heatmap"
           }
          ],
          "heatmapgl": [
           {
            "colorbar": {
             "outlinewidth": 0,
             "ticks": ""
            },
            "colorscale": [
             [
              0,
              "#0d0887"
             ],
             [
              0.1111111111111111,
              "#46039f"
             ],
             [
              0.2222222222222222,
              "#7201a8"
             ],
             [
              0.3333333333333333,
              "#9c179e"
             ],
             [
              0.4444444444444444,
              "#bd3786"
             ],
             [
              0.5555555555555556,
              "#d8576b"
             ],
             [
              0.6666666666666666,
              "#ed7953"
             ],
             [
              0.7777777777777778,
              "#fb9f3a"
             ],
             [
              0.8888888888888888,
              "#fdca26"
             ],
             [
              1,
              "#f0f921"
             ]
            ],
            "type": "heatmapgl"
           }
          ],
          "histogram": [
           {
            "marker": {
             "colorbar": {
              "outlinewidth": 0,
              "ticks": ""
             }
            },
            "type": "histogram"
           }
          ],
          "histogram2d": [
           {
            "colorbar": {
             "outlinewidth": 0,
             "ticks": ""
            },
            "colorscale": [
             [
              0,
              "#0d0887"
             ],
             [
              0.1111111111111111,
              "#46039f"
             ],
             [
              0.2222222222222222,
              "#7201a8"
             ],
             [
              0.3333333333333333,
              "#9c179e"
             ],
             [
              0.4444444444444444,
              "#bd3786"
             ],
             [
              0.5555555555555556,
              "#d8576b"
             ],
             [
              0.6666666666666666,
              "#ed7953"
             ],
             [
              0.7777777777777778,
              "#fb9f3a"
             ],
             [
              0.8888888888888888,
              "#fdca26"
             ],
             [
              1,
              "#f0f921"
             ]
            ],
            "type": "histogram2d"
           }
          ],
          "histogram2dcontour": [
           {
            "colorbar": {
             "outlinewidth": 0,
             "ticks": ""
            },
            "colorscale": [
             [
              0,
              "#0d0887"
             ],
             [
              0.1111111111111111,
              "#46039f"
             ],
             [
              0.2222222222222222,
              "#7201a8"
             ],
             [
              0.3333333333333333,
              "#9c179e"
             ],
             [
              0.4444444444444444,
              "#bd3786"
             ],
             [
              0.5555555555555556,
              "#d8576b"
             ],
             [
              0.6666666666666666,
              "#ed7953"
             ],
             [
              0.7777777777777778,
              "#fb9f3a"
             ],
             [
              0.8888888888888888,
              "#fdca26"
             ],
             [
              1,
              "#f0f921"
             ]
            ],
            "type": "histogram2dcontour"
           }
          ],
          "mesh3d": [
           {
            "colorbar": {
             "outlinewidth": 0,
             "ticks": ""
            },
            "type": "mesh3d"
           }
          ],
          "parcoords": [
           {
            "line": {
             "colorbar": {
              "outlinewidth": 0,
              "ticks": ""
             }
            },
            "type": "parcoords"
           }
          ],
          "pie": [
           {
            "automargin": true,
            "type": "pie"
           }
          ],
          "scatter": [
           {
            "marker": {
             "colorbar": {
              "outlinewidth": 0,
              "ticks": ""
             }
            },
            "type": "scatter"
           }
          ],
          "scatter3d": [
           {
            "line": {
             "colorbar": {
              "outlinewidth": 0,
              "ticks": ""
             }
            },
            "marker": {
             "colorbar": {
              "outlinewidth": 0,
              "ticks": ""
             }
            },
            "type": "scatter3d"
           }
          ],
          "scattercarpet": [
           {
            "marker": {
             "colorbar": {
              "outlinewidth": 0,
              "ticks": ""
             }
            },
            "type": "scattercarpet"
           }
          ],
          "scattergeo": [
           {
            "marker": {
             "colorbar": {
              "outlinewidth": 0,
              "ticks": ""
             }
            },
            "type": "scattergeo"
           }
          ],
          "scattergl": [
           {
            "marker": {
             "colorbar": {
              "outlinewidth": 0,
              "ticks": ""
             }
            },
            "type": "scattergl"
           }
          ],
          "scattermapbox": [
           {
            "marker": {
             "colorbar": {
              "outlinewidth": 0,
              "ticks": ""
             }
            },
            "type": "scattermapbox"
           }
          ],
          "scatterpolar": [
           {
            "marker": {
             "colorbar": {
              "outlinewidth": 0,
              "ticks": ""
             }
            },
            "type": "scatterpolar"
           }
          ],
          "scatterpolargl": [
           {
            "marker": {
             "colorbar": {
              "outlinewidth": 0,
              "ticks": ""
             }
            },
            "type": "scatterpolargl"
           }
          ],
          "scatterternary": [
           {
            "marker": {
             "colorbar": {
              "outlinewidth": 0,
              "ticks": ""
             }
            },
            "type": "scatterternary"
           }
          ],
          "surface": [
           {
            "colorbar": {
             "outlinewidth": 0,
             "ticks": ""
            },
            "colorscale": [
             [
              0,
              "#0d0887"
             ],
             [
              0.1111111111111111,
              "#46039f"
             ],
             [
              0.2222222222222222,
              "#7201a8"
             ],
             [
              0.3333333333333333,
              "#9c179e"
             ],
             [
              0.4444444444444444,
              "#bd3786"
             ],
             [
              0.5555555555555556,
              "#d8576b"
             ],
             [
              0.6666666666666666,
              "#ed7953"
             ],
             [
              0.7777777777777778,
              "#fb9f3a"
             ],
             [
              0.8888888888888888,
              "#fdca26"
             ],
             [
              1,
              "#f0f921"
             ]
            ],
            "type": "surface"
           }
          ],
          "table": [
           {
            "cells": {
             "fill": {
              "color": "#EBF0F8"
             },
             "line": {
              "color": "white"
             }
            },
            "header": {
             "fill": {
              "color": "#C8D4E3"
             },
             "line": {
              "color": "white"
             }
            },
            "type": "table"
           }
          ]
         },
         "layout": {
          "annotationdefaults": {
           "arrowcolor": "#2a3f5f",
           "arrowhead": 0,
           "arrowwidth": 1
          },
          "coloraxis": {
           "colorbar": {
            "outlinewidth": 0,
            "ticks": ""
           }
          },
          "colorscale": {
           "diverging": [
            [
             0,
             "#8e0152"
            ],
            [
             0.1,
             "#c51b7d"
            ],
            [
             0.2,
             "#de77ae"
            ],
            [
             0.3,
             "#f1b6da"
            ],
            [
             0.4,
             "#fde0ef"
            ],
            [
             0.5,
             "#f7f7f7"
            ],
            [
             0.6,
             "#e6f5d0"
            ],
            [
             0.7,
             "#b8e186"
            ],
            [
             0.8,
             "#7fbc41"
            ],
            [
             0.9,
             "#4d9221"
            ],
            [
             1,
             "#276419"
            ]
           ],
           "sequential": [
            [
             0,
             "#0d0887"
            ],
            [
             0.1111111111111111,
             "#46039f"
            ],
            [
             0.2222222222222222,
             "#7201a8"
            ],
            [
             0.3333333333333333,
             "#9c179e"
            ],
            [
             0.4444444444444444,
             "#bd3786"
            ],
            [
             0.5555555555555556,
             "#d8576b"
            ],
            [
             0.6666666666666666,
             "#ed7953"
            ],
            [
             0.7777777777777778,
             "#fb9f3a"
            ],
            [
             0.8888888888888888,
             "#fdca26"
            ],
            [
             1,
             "#f0f921"
            ]
           ],
           "sequentialminus": [
            [
             0,
             "#0d0887"
            ],
            [
             0.1111111111111111,
             "#46039f"
            ],
            [
             0.2222222222222222,
             "#7201a8"
            ],
            [
             0.3333333333333333,
             "#9c179e"
            ],
            [
             0.4444444444444444,
             "#bd3786"
            ],
            [
             0.5555555555555556,
             "#d8576b"
            ],
            [
             0.6666666666666666,
             "#ed7953"
            ],
            [
             0.7777777777777778,
             "#fb9f3a"
            ],
            [
             0.8888888888888888,
             "#fdca26"
            ],
            [
             1,
             "#f0f921"
            ]
           ]
          },
          "colorway": [
           "#636efa",
           "#EF553B",
           "#00cc96",
           "#ab63fa",
           "#FFA15A",
           "#19d3f3",
           "#FF6692",
           "#B6E880",
           "#FF97FF",
           "#FECB52"
          ],
          "font": {
           "color": "#2a3f5f"
          },
          "geo": {
           "bgcolor": "white",
           "lakecolor": "white",
           "landcolor": "#E5ECF6",
           "showlakes": true,
           "showland": true,
           "subunitcolor": "white"
          },
          "hoverlabel": {
           "align": "left"
          },
          "hovermode": "closest",
          "mapbox": {
           "style": "light"
          },
          "paper_bgcolor": "white",
          "plot_bgcolor": "#E5ECF6",
          "polar": {
           "angularaxis": {
            "gridcolor": "white",
            "linecolor": "white",
            "ticks": ""
           },
           "bgcolor": "#E5ECF6",
           "radialaxis": {
            "gridcolor": "white",
            "linecolor": "white",
            "ticks": ""
           }
          },
          "scene": {
           "xaxis": {
            "backgroundcolor": "#E5ECF6",
            "gridcolor": "white",
            "gridwidth": 2,
            "linecolor": "white",
            "showbackground": true,
            "ticks": "",
            "zerolinecolor": "white"
           },
           "yaxis": {
            "backgroundcolor": "#E5ECF6",
            "gridcolor": "white",
            "gridwidth": 2,
            "linecolor": "white",
            "showbackground": true,
            "ticks": "",
            "zerolinecolor": "white"
           },
           "zaxis": {
            "backgroundcolor": "#E5ECF6",
            "gridcolor": "white",
            "gridwidth": 2,
            "linecolor": "white",
            "showbackground": true,
            "ticks": "",
            "zerolinecolor": "white"
           }
          },
          "shapedefaults": {
           "line": {
            "color": "#2a3f5f"
           }
          },
          "ternary": {
           "aaxis": {
            "gridcolor": "white",
            "linecolor": "white",
            "ticks": ""
           },
           "baxis": {
            "gridcolor": "white",
            "linecolor": "white",
            "ticks": ""
           },
           "bgcolor": "#E5ECF6",
           "caxis": {
            "gridcolor": "white",
            "linecolor": "white",
            "ticks": ""
           }
          },
          "title": {
           "x": 0.05
          },
          "xaxis": {
           "automargin": true,
           "gridcolor": "white",
           "linecolor": "white",
           "ticks": "",
           "title": {
            "standoff": 15
           },
           "zerolinecolor": "white",
           "zerolinewidth": 2
          },
          "yaxis": {
           "automargin": true,
           "gridcolor": "white",
           "linecolor": "white",
           "ticks": "",
           "title": {
            "standoff": 15
           },
           "zerolinecolor": "white",
           "zerolinewidth": 2
          }
         }
        }
       }
      },
      "text/html": [
       "<div>\n",
       "        \n",
       "        \n",
       "            <div id=\"82d70231-c58f-4e26-9668-daafb1d98ce5\" class=\"plotly-graph-div\" style=\"height:525px; width:100%;\"></div>\n",
       "            <script type=\"text/javascript\">\n",
       "                require([\"plotly\"], function(Plotly) {\n",
       "                    window.PLOTLYENV=window.PLOTLYENV || {};\n",
       "                    \n",
       "                if (document.getElementById(\"82d70231-c58f-4e26-9668-daafb1d98ce5\")) {\n",
       "                    Plotly.newPlot(\n",
       "                        '82d70231-c58f-4e26-9668-daafb1d98ce5',\n",
       "                        [{\"connectgaps\": true, \"line\": {\"shape\": \"linear\"}, \"mode\": \"markers+lines\", \"name\": \"condo_sales\", \"type\": \"scatter\", \"x\": [2005, 2006, 2007, 2008, 2009, 2010, 2011, 2012, 2013, 2014, 2015, 2016, 2017, 2018], \"y\": [203.0, 230.89830508474577, 269.6101694915254, 246.88135593220338, 157.76271186440678, 188.35593220338984, 178.864406779661, 179.8135593220339, 194.6271186440678, 181.96610169491527, 185.64406779661016, 187.84745762711864, 212.08474576271186, 177.67796610169492]}, {\"connectgaps\": true, \"line\": {\"shape\": \"linear\"}, \"mode\": \"markers+lines\", \"name\": \"single_fam_home_sales\", \"type\": \"scatter\", \"x\": [2005, 2006, 2007, 2008, 2009, 2010, 2011, 2012, 2013, 2014, 2015, 2016, 2017, 2018], \"y\": [290.4406779661017, 282.54237288135596, 223.20338983050848, 162.25423728813558, 137.9322033898305, 127.27118644067797, 98.76271186440678, 112.76271186440678, 133.71186440677965, 127.62711864406779, 127.76271186440678, 147.3050847457627, 164.54237288135593, 193.77966101694915]}],\n",
       "                        {\"template\": {\"data\": {\"bar\": [{\"error_x\": {\"color\": \"#2a3f5f\"}, \"error_y\": {\"color\": \"#2a3f5f\"}, \"marker\": {\"line\": {\"color\": \"#E5ECF6\", \"width\": 0.5}}, \"type\": \"bar\"}], \"barpolar\": [{\"marker\": {\"line\": {\"color\": \"#E5ECF6\", \"width\": 0.5}}, \"type\": \"barpolar\"}], \"carpet\": [{\"aaxis\": {\"endlinecolor\": \"#2a3f5f\", \"gridcolor\": \"white\", \"linecolor\": \"white\", \"minorgridcolor\": \"white\", \"startlinecolor\": \"#2a3f5f\"}, \"baxis\": {\"endlinecolor\": \"#2a3f5f\", \"gridcolor\": \"white\", \"linecolor\": \"white\", \"minorgridcolor\": \"white\", \"startlinecolor\": \"#2a3f5f\"}, \"type\": \"carpet\"}], \"choropleth\": [{\"colorbar\": {\"outlinewidth\": 0, \"ticks\": \"\"}, \"type\": \"choropleth\"}], \"contour\": [{\"colorbar\": {\"outlinewidth\": 0, \"ticks\": \"\"}, \"colorscale\": [[0.0, \"#0d0887\"], [0.1111111111111111, \"#46039f\"], [0.2222222222222222, \"#7201a8\"], [0.3333333333333333, \"#9c179e\"], [0.4444444444444444, \"#bd3786\"], [0.5555555555555556, \"#d8576b\"], [0.6666666666666666, \"#ed7953\"], [0.7777777777777778, \"#fb9f3a\"], [0.8888888888888888, \"#fdca26\"], [1.0, \"#f0f921\"]], \"type\": \"contour\"}], \"contourcarpet\": [{\"colorbar\": {\"outlinewidth\": 0, \"ticks\": \"\"}, \"type\": \"contourcarpet\"}], \"heatmap\": [{\"colorbar\": {\"outlinewidth\": 0, \"ticks\": \"\"}, \"colorscale\": [[0.0, \"#0d0887\"], [0.1111111111111111, \"#46039f\"], [0.2222222222222222, \"#7201a8\"], [0.3333333333333333, \"#9c179e\"], [0.4444444444444444, \"#bd3786\"], [0.5555555555555556, \"#d8576b\"], [0.6666666666666666, \"#ed7953\"], [0.7777777777777778, \"#fb9f3a\"], [0.8888888888888888, \"#fdca26\"], [1.0, \"#f0f921\"]], \"type\": \"heatmap\"}], \"heatmapgl\": [{\"colorbar\": {\"outlinewidth\": 0, \"ticks\": \"\"}, \"colorscale\": [[0.0, \"#0d0887\"], [0.1111111111111111, \"#46039f\"], [0.2222222222222222, \"#7201a8\"], [0.3333333333333333, \"#9c179e\"], [0.4444444444444444, \"#bd3786\"], [0.5555555555555556, \"#d8576b\"], [0.6666666666666666, \"#ed7953\"], [0.7777777777777778, \"#fb9f3a\"], [0.8888888888888888, \"#fdca26\"], [1.0, \"#f0f921\"]], \"type\": \"heatmapgl\"}], \"histogram\": [{\"marker\": {\"colorbar\": {\"outlinewidth\": 0, \"ticks\": \"\"}}, \"type\": \"histogram\"}], \"histogram2d\": [{\"colorbar\": {\"outlinewidth\": 0, \"ticks\": \"\"}, \"colorscale\": [[0.0, \"#0d0887\"], [0.1111111111111111, \"#46039f\"], [0.2222222222222222, \"#7201a8\"], [0.3333333333333333, \"#9c179e\"], [0.4444444444444444, \"#bd3786\"], [0.5555555555555556, \"#d8576b\"], [0.6666666666666666, \"#ed7953\"], [0.7777777777777778, \"#fb9f3a\"], [0.8888888888888888, \"#fdca26\"], [1.0, \"#f0f921\"]], \"type\": \"histogram2d\"}], \"histogram2dcontour\": [{\"colorbar\": {\"outlinewidth\": 0, \"ticks\": \"\"}, \"colorscale\": [[0.0, \"#0d0887\"], [0.1111111111111111, \"#46039f\"], [0.2222222222222222, \"#7201a8\"], [0.3333333333333333, \"#9c179e\"], [0.4444444444444444, \"#bd3786\"], [0.5555555555555556, \"#d8576b\"], [0.6666666666666666, \"#ed7953\"], [0.7777777777777778, \"#fb9f3a\"], [0.8888888888888888, \"#fdca26\"], [1.0, \"#f0f921\"]], \"type\": \"histogram2dcontour\"}], \"mesh3d\": [{\"colorbar\": {\"outlinewidth\": 0, \"ticks\": \"\"}, \"type\": \"mesh3d\"}], \"parcoords\": [{\"line\": {\"colorbar\": {\"outlinewidth\": 0, \"ticks\": \"\"}}, \"type\": \"parcoords\"}], \"pie\": [{\"automargin\": true, \"type\": \"pie\"}], \"scatter\": [{\"marker\": {\"colorbar\": {\"outlinewidth\": 0, \"ticks\": \"\"}}, \"type\": \"scatter\"}], \"scatter3d\": [{\"line\": {\"colorbar\": {\"outlinewidth\": 0, \"ticks\": \"\"}}, \"marker\": {\"colorbar\": {\"outlinewidth\": 0, \"ticks\": \"\"}}, \"type\": \"scatter3d\"}], \"scattercarpet\": [{\"marker\": {\"colorbar\": {\"outlinewidth\": 0, \"ticks\": \"\"}}, \"type\": \"scattercarpet\"}], \"scattergeo\": [{\"marker\": {\"colorbar\": {\"outlinewidth\": 0, \"ticks\": \"\"}}, \"type\": \"scattergeo\"}], \"scattergl\": [{\"marker\": {\"colorbar\": {\"outlinewidth\": 0, \"ticks\": \"\"}}, \"type\": \"scattergl\"}], \"scattermapbox\": [{\"marker\": {\"colorbar\": {\"outlinewidth\": 0, \"ticks\": \"\"}}, \"type\": \"scattermapbox\"}], \"scatterpolar\": [{\"marker\": {\"colorbar\": {\"outlinewidth\": 0, \"ticks\": \"\"}}, \"type\": \"scatterpolar\"}], \"scatterpolargl\": [{\"marker\": {\"colorbar\": {\"outlinewidth\": 0, \"ticks\": \"\"}}, \"type\": \"scatterpolargl\"}], \"scatterternary\": [{\"marker\": {\"colorbar\": {\"outlinewidth\": 0, \"ticks\": \"\"}}, \"type\": \"scatterternary\"}], \"surface\": [{\"colorbar\": {\"outlinewidth\": 0, \"ticks\": \"\"}, \"colorscale\": [[0.0, \"#0d0887\"], [0.1111111111111111, \"#46039f\"], [0.2222222222222222, \"#7201a8\"], [0.3333333333333333, \"#9c179e\"], [0.4444444444444444, \"#bd3786\"], [0.5555555555555556, \"#d8576b\"], [0.6666666666666666, \"#ed7953\"], [0.7777777777777778, \"#fb9f3a\"], [0.8888888888888888, \"#fdca26\"], [1.0, \"#f0f921\"]], \"type\": \"surface\"}], \"table\": [{\"cells\": {\"fill\": {\"color\": \"#EBF0F8\"}, \"line\": {\"color\": \"white\"}}, \"header\": {\"fill\": {\"color\": \"#C8D4E3\"}, \"line\": {\"color\": \"white\"}}, \"type\": \"table\"}]}, \"layout\": {\"annotationdefaults\": {\"arrowcolor\": \"#2a3f5f\", \"arrowhead\": 0, \"arrowwidth\": 1}, \"coloraxis\": {\"colorbar\": {\"outlinewidth\": 0, \"ticks\": \"\"}}, \"colorscale\": {\"diverging\": [[0, \"#8e0152\"], [0.1, \"#c51b7d\"], [0.2, \"#de77ae\"], [0.3, \"#f1b6da\"], [0.4, \"#fde0ef\"], [0.5, \"#f7f7f7\"], [0.6, \"#e6f5d0\"], [0.7, \"#b8e186\"], [0.8, \"#7fbc41\"], [0.9, \"#4d9221\"], [1, \"#276419\"]], \"sequential\": [[0.0, \"#0d0887\"], [0.1111111111111111, \"#46039f\"], [0.2222222222222222, \"#7201a8\"], [0.3333333333333333, \"#9c179e\"], [0.4444444444444444, \"#bd3786\"], [0.5555555555555556, \"#d8576b\"], [0.6666666666666666, \"#ed7953\"], [0.7777777777777778, \"#fb9f3a\"], [0.8888888888888888, \"#fdca26\"], [1.0, \"#f0f921\"]], \"sequentialminus\": [[0.0, \"#0d0887\"], [0.1111111111111111, \"#46039f\"], [0.2222222222222222, \"#7201a8\"], [0.3333333333333333, \"#9c179e\"], [0.4444444444444444, \"#bd3786\"], [0.5555555555555556, \"#d8576b\"], [0.6666666666666666, \"#ed7953\"], [0.7777777777777778, \"#fb9f3a\"], [0.8888888888888888, \"#fdca26\"], [1.0, \"#f0f921\"]]}, \"colorway\": [\"#636efa\", \"#EF553B\", \"#00cc96\", \"#ab63fa\", \"#FFA15A\", \"#19d3f3\", \"#FF6692\", \"#B6E880\", \"#FF97FF\", \"#FECB52\"], \"font\": {\"color\": \"#2a3f5f\"}, \"geo\": {\"bgcolor\": \"white\", \"lakecolor\": \"white\", \"landcolor\": \"#E5ECF6\", \"showlakes\": true, \"showland\": true, \"subunitcolor\": \"white\"}, \"hoverlabel\": {\"align\": \"left\"}, \"hovermode\": \"closest\", \"mapbox\": {\"style\": \"light\"}, \"paper_bgcolor\": \"white\", \"plot_bgcolor\": \"#E5ECF6\", \"polar\": {\"angularaxis\": {\"gridcolor\": \"white\", \"linecolor\": \"white\", \"ticks\": \"\"}, \"bgcolor\": \"#E5ECF6\", \"radialaxis\": {\"gridcolor\": \"white\", \"linecolor\": \"white\", \"ticks\": \"\"}}, \"scene\": {\"xaxis\": {\"backgroundcolor\": \"#E5ECF6\", \"gridcolor\": \"white\", \"gridwidth\": 2, \"linecolor\": \"white\", \"showbackground\": true, \"ticks\": \"\", \"zerolinecolor\": \"white\"}, \"yaxis\": {\"backgroundcolor\": \"#E5ECF6\", \"gridcolor\": \"white\", \"gridwidth\": 2, \"linecolor\": \"white\", \"showbackground\": true, \"ticks\": \"\", \"zerolinecolor\": \"white\"}, \"zaxis\": {\"backgroundcolor\": \"#E5ECF6\", \"gridcolor\": \"white\", \"gridwidth\": 2, \"linecolor\": \"white\", \"showbackground\": true, \"ticks\": \"\", \"zerolinecolor\": \"white\"}}, \"shapedefaults\": {\"line\": {\"color\": \"#2a3f5f\"}}, \"ternary\": {\"aaxis\": {\"gridcolor\": \"white\", \"linecolor\": \"white\", \"ticks\": \"\"}, \"baxis\": {\"gridcolor\": \"white\", \"linecolor\": \"white\", \"ticks\": \"\"}, \"bgcolor\": \"#E5ECF6\", \"caxis\": {\"gridcolor\": \"white\", \"linecolor\": \"white\", \"ticks\": \"\"}}, \"title\": {\"x\": 0.05}, \"xaxis\": {\"automargin\": true, \"gridcolor\": \"white\", \"linecolor\": \"white\", \"ticks\": \"\", \"title\": {\"standoff\": 15}, \"zerolinecolor\": \"white\", \"zerolinewidth\": 2}, \"yaxis\": {\"automargin\": true, \"gridcolor\": \"white\", \"linecolor\": \"white\", \"ticks\": \"\", \"title\": {\"standoff\": 15}, \"zerolinecolor\": \"white\", \"zerolinewidth\": 2}}}},\n",
       "                        {\"responsive\": true}\n",
       "                    ).then(function(){\n",
       "                            \n",
       "var gd = document.getElementById('82d70231-c58f-4e26-9668-daafb1d98ce5');\n",
       "var x = new MutationObserver(function (mutations, observer) {{\n",
       "        var display = window.getComputedStyle(gd).display;\n",
       "        if (!display || display === 'none') {{\n",
       "            console.log([gd, 'removed!']);\n",
       "            Plotly.purge(gd);\n",
       "            observer.disconnect();\n",
       "        }}\n",
       "}});\n",
       "\n",
       "// Listen for the removal of the full notebook cells\n",
       "var notebookContainer = gd.closest('#notebook-container');\n",
       "if (notebookContainer) {{\n",
       "    x.observe(notebookContainer, {childList: true});\n",
       "}}\n",
       "\n",
       "// Listen for the clearing of the current output cell\n",
       "var outputEl = gd.closest('.output');\n",
       "if (outputEl) {{\n",
       "    x.observe(outputEl, {childList: true});\n",
       "}}\n",
       "\n",
       "                        })\n",
       "                };\n",
       "                });\n",
       "            </script>\n",
       "        </div>"
      ]
     },
     "metadata": {},
     "output_type": "display_data"
    }
   ],
   "source": [
    "# data munging to get desired plot\n",
    "sales = pd.pivot_table(sales, values= ['single_fam_home_sales', 'condo_sales'], index= ['year'], aggfunc=np.mean)\n",
    "\n",
    "# ploty\n",
    "fig = go.Figure()\n",
    "for col in sales.columns:\n",
    "    fig.add_trace(go.Scatter(x=sales.index, y=sales[col].values,\n",
    "                             name = col,\n",
    "                             mode = 'markers+lines',\n",
    "                             line=dict(shape='linear'),\n",
    "                             connectgaps=True\n",
    "                             )\n",
    "                 )\n",
    "fig.show()"
   ]
  },
  {
   "cell_type": "code",
   "execution_count": 125,
   "metadata": {},
   "outputs": [
    {
     "data": {
      "text/html": [
       "<div>\n",
       "<style scoped>\n",
       "    .dataframe tbody tr th:only-of-type {\n",
       "        vertical-align: middle;\n",
       "    }\n",
       "\n",
       "    .dataframe tbody tr th {\n",
       "        vertical-align: top;\n",
       "    }\n",
       "\n",
       "    .dataframe thead th {\n",
       "        text-align: right;\n",
       "    }\n",
       "</style>\n",
       "<table border=\"1\" class=\"dataframe\">\n",
       "  <thead>\n",
       "    <tr style=\"text-align: right;\">\n",
       "      <th></th>\n",
       "      <th>pct_asian</th>\n",
       "      <th>pct_black</th>\n",
       "      <th>pct_hispanic</th>\n",
       "      <th>pct_white</th>\n",
       "    </tr>\n",
       "    <tr>\n",
       "      <th>year</th>\n",
       "      <th></th>\n",
       "      <th></th>\n",
       "      <th></th>\n",
       "      <th></th>\n",
       "    </tr>\n",
       "  </thead>\n",
       "  <tbody>\n",
       "    <tr>\n",
       "      <th>2005</th>\n",
       "      <td>0.110902</td>\n",
       "      <td>0.244404</td>\n",
       "      <td>0.283113</td>\n",
       "      <td>0.339331</td>\n",
       "    </tr>\n",
       "    <tr>\n",
       "      <th>2006</th>\n",
       "      <td>0.111638</td>\n",
       "      <td>0.241237</td>\n",
       "      <td>0.279762</td>\n",
       "      <td>0.344416</td>\n",
       "    </tr>\n",
       "    <tr>\n",
       "      <th>2007</th>\n",
       "      <td>0.111718</td>\n",
       "      <td>0.242272</td>\n",
       "      <td>0.276945</td>\n",
       "      <td>0.346227</td>\n",
       "    </tr>\n",
       "    <tr>\n",
       "      <th>2008</th>\n",
       "      <td>0.111918</td>\n",
       "      <td>0.239941</td>\n",
       "      <td>0.280645</td>\n",
       "      <td>0.345090</td>\n",
       "    </tr>\n",
       "    <tr>\n",
       "      <th>2009</th>\n",
       "      <td>0.114167</td>\n",
       "      <td>0.235783</td>\n",
       "      <td>0.278425</td>\n",
       "      <td>0.349733</td>\n",
       "    </tr>\n",
       "  </tbody>\n",
       "</table>\n",
       "</div>"
      ],
      "text/plain": [
       "      pct_asian  pct_black  pct_hispanic  pct_white\n",
       "year                                               \n",
       "2005   0.110902   0.244404      0.283113   0.339331\n",
       "2006   0.111638   0.241237      0.279762   0.344416\n",
       "2007   0.111718   0.242272      0.276945   0.346227\n",
       "2008   0.111918   0.239941      0.280645   0.345090\n",
       "2009   0.114167   0.235783      0.278425   0.349733"
      ]
     },
     "execution_count": 125,
     "metadata": {},
     "output_type": "execute_result"
    }
   ],
   "source": [
    "ethnicity = pd.pivot_table(sub_borough, values= ['pct_asian', 'pct_black', 'pct_hispanic', 'pct_white'], index= 'year')\n",
    "ethnicity.head()"
   ]
  },
  {
   "cell_type": "code",
   "execution_count": 126,
   "metadata": {},
   "outputs": [
    {
     "data": {
      "image/png": "[encoded data removed]",
      "text/plain": [
       "<Figure size 1440x720 with 1 Axes>"
      ]
     },
     "metadata": {
      "needs_background": "light"
     },
     "output_type": "display_data"
    }
   ],
   "source": [
    "# Compare ethnicities\n",
    "ethnicity = pd.pivot_table(sub_borough, values= ['pct_asian', 'pct_black', 'pct_hispanic', 'pct_white'], index= 'year')\n",
    "ethnicity.plot(kind='bar', figsize = (20,10), rot=0, align='center', width = 0.5)\n",
    "sns.set(font_scale=1.4)\n",
    "plt.xlabel(\"Year\", labelpad=14)\n",
    "plt.ylabel(\"Ethnicity\", labelpad=14)\n",
    "plt.title(\"Ethnicity Percentage\", y=1.02);"
   ]
  },
  {
   "cell_type": "code",
   "execution_count": 127,
   "metadata": {},
   "outputs": [
    {
     "data": {
      "text/plain": [
       "<matplotlib.axes._subplots.AxesSubplot at 0x2015e8360c8>"
      ]
     },
     "execution_count": 127,
     "metadata": {},
     "output_type": "execute_result"
    },
    {
     "data": {
      "image/png": "[encoded data removed]",
      "text/plain": [
       "<Figure size 432x288 with 1 Axes>"
      ]
     },
     "metadata": {},
     "output_type": "display_data"
    }
   ],
   "source": [
    "sub_borough.groupby('year')['pov_rate'].mean().plot()"
   ]
  },
  {
   "cell_type": "markdown",
   "metadata": {},
   "source": [
    "The chart above shows poverty rate over the course of our dataset. There is a spike in rates around 2012 and then a sharp decrease afterwards."
   ]
  },
  {
   "cell_type": "markdown",
   "metadata": {},
   "source": [
    "## 5. Correlation Analysis"
   ]
  },
  {
   "cell_type": "markdown",
   "metadata": {},
   "source": [
    "### 5.1. Correlation Heatmap"
   ]
  },
  {
   "cell_type": "markdown",
   "metadata": {},
   "source": [
    "Viewing correlation between the variables can help provide insight on which factors to focus when identifying barriers to home ownership."
   ]
  },
  {
   "cell_type": "code",
   "execution_count": 128,
   "metadata": {},
   "outputs": [
    {
     "data": {
      "text/html": [
       "<div>\n",
       "<style scoped>\n",
       "    .dataframe tbody tr th:only-of-type {\n",
       "        vertical-align: middle;\n",
       "    }\n",
       "\n",
       "    .dataframe tbody tr th {\n",
       "        vertical-align: top;\n",
       "    }\n",
       "\n",
       "    .dataframe thead th {\n",
       "        text-align: right;\n",
       "    }\n",
       "</style>\n",
       "<table border=\"1\" class=\"dataframe\">\n",
       "  <thead>\n",
       "    <tr style=\"text-align: right;\">\n",
       "      <th></th>\n",
       "      <th>homeowner_income</th>\n",
       "      <th>year</th>\n",
       "      <th>renter_income</th>\n",
       "      <th>pov_rate</th>\n",
       "      <th>population</th>\n",
       "      <th>home_own_rate</th>\n",
       "      <th>FHA_loans</th>\n",
       "      <th>LMI</th>\n",
       "      <th>hunits</th>\n",
       "      <th>rent_burden</th>\n",
       "      <th>pct_asian</th>\n",
       "      <th>pct_black</th>\n",
       "      <th>pct_hispanic</th>\n",
       "      <th>pct_white</th>\n",
       "    </tr>\n",
       "  </thead>\n",
       "  <tbody>\n",
       "    <tr>\n",
       "      <th>homeowner_income</th>\n",
       "      <td>1.000000</td>\n",
       "      <td>0.094574</td>\n",
       "      <td>0.786065</td>\n",
       "      <td>-0.460246</td>\n",
       "      <td>0.135328</td>\n",
       "      <td>0.098696</td>\n",
       "      <td>-0.299787</td>\n",
       "      <td>-0.484436</td>\n",
       "      <td>0.658725</td>\n",
       "      <td>-0.639420</td>\n",
       "      <td>-0.050407</td>\n",
       "      <td>-0.219152</td>\n",
       "      <td>-0.412156</td>\n",
       "      <td>0.554597</td>\n",
       "    </tr>\n",
       "    <tr>\n",
       "      <th>year</th>\n",
       "      <td>0.094574</td>\n",
       "      <td>1.000000</td>\n",
       "      <td>0.114513</td>\n",
       "      <td>-0.018176</td>\n",
       "      <td>0.073893</td>\n",
       "      <td>-0.018552</td>\n",
       "      <td>0.184963</td>\n",
       "      <td>-0.034806</td>\n",
       "      <td>0.064247</td>\n",
       "      <td>0.129459</td>\n",
       "      <td>0.085926</td>\n",
       "      <td>-0.036535</td>\n",
       "      <td>0.023579</td>\n",
       "      <td>-0.036905</td>\n",
       "    </tr>\n",
       "    <tr>\n",
       "      <th>renter_income</th>\n",
       "      <td>0.786065</td>\n",
       "      <td>0.114513</td>\n",
       "      <td>1.000000</td>\n",
       "      <td>-0.697128</td>\n",
       "      <td>0.130892</td>\n",
       "      <td>0.269507</td>\n",
       "      <td>-0.363125</td>\n",
       "      <td>-0.660292</td>\n",
       "      <td>0.613915</td>\n",
       "      <td>-0.679553</td>\n",
       "      <td>0.208983</td>\n",
       "      <td>-0.386293</td>\n",
       "      <td>-0.449547</td>\n",
       "      <td>0.614354</td>\n",
       "    </tr>\n",
       "    <tr>\n",
       "      <th>pov_rate</th>\n",
       "      <td>-0.460246</td>\n",
       "      <td>-0.018176</td>\n",
       "      <td>-0.697128</td>\n",
       "      <td>1.000000</td>\n",
       "      <td>-0.193345</td>\n",
       "      <td>-0.746871</td>\n",
       "      <td>0.285755</td>\n",
       "      <td>0.877307</td>\n",
       "      <td>-0.366369</td>\n",
       "      <td>0.525082</td>\n",
       "      <td>-0.364088</td>\n",
       "      <td>0.283733</td>\n",
       "      <td>0.612455</td>\n",
       "      <td>-0.565906</td>\n",
       "    </tr>\n",
       "    <tr>\n",
       "      <th>population</th>\n",
       "      <td>0.135328</td>\n",
       "      <td>0.073893</td>\n",
       "      <td>0.130892</td>\n",
       "      <td>-0.193345</td>\n",
       "      <td>1.000000</td>\n",
       "      <td>0.186788</td>\n",
       "      <td>0.073542</td>\n",
       "      <td>-0.175739</td>\n",
       "      <td>0.660441</td>\n",
       "      <td>0.027056</td>\n",
       "      <td>0.185815</td>\n",
       "      <td>-0.074989</td>\n",
       "      <td>-0.030354</td>\n",
       "      <td>0.006034</td>\n",
       "    </tr>\n",
       "    <tr>\n",
       "      <th>home_own_rate</th>\n",
       "      <td>0.098696</td>\n",
       "      <td>-0.018552</td>\n",
       "      <td>0.269507</td>\n",
       "      <td>-0.746871</td>\n",
       "      <td>0.186788</td>\n",
       "      <td>1.000000</td>\n",
       "      <td>-0.018145</td>\n",
       "      <td>-0.736950</td>\n",
       "      <td>0.029138</td>\n",
       "      <td>-0.159140</td>\n",
       "      <td>0.316332</td>\n",
       "      <td>-0.147838</td>\n",
       "      <td>-0.544413</td>\n",
       "      <td>0.400868</td>\n",
       "    </tr>\n",
       "    <tr>\n",
       "      <th>FHA_loans</th>\n",
       "      <td>-0.299787</td>\n",
       "      <td>0.184963</td>\n",
       "      <td>-0.363125</td>\n",
       "      <td>0.285755</td>\n",
       "      <td>0.073542</td>\n",
       "      <td>-0.018145</td>\n",
       "      <td>1.000000</td>\n",
       "      <td>0.250931</td>\n",
       "      <td>-0.198407</td>\n",
       "      <td>0.339930</td>\n",
       "      <td>-0.344927</td>\n",
       "      <td>0.505443</td>\n",
       "      <td>0.199002</td>\n",
       "      <td>-0.484468</td>\n",
       "    </tr>\n",
       "    <tr>\n",
       "      <th>LMI</th>\n",
       "      <td>-0.484436</td>\n",
       "      <td>-0.034806</td>\n",
       "      <td>-0.660292</td>\n",
       "      <td>0.877307</td>\n",
       "      <td>-0.175739</td>\n",
       "      <td>-0.736950</td>\n",
       "      <td>0.250931</td>\n",
       "      <td>1.000000</td>\n",
       "      <td>-0.381484</td>\n",
       "      <td>0.513009</td>\n",
       "      <td>-0.344723</td>\n",
       "      <td>0.377406</td>\n",
       "      <td>0.596540</td>\n",
       "      <td>-0.650303</td>\n",
       "    </tr>\n",
       "    <tr>\n",
       "      <th>hunits</th>\n",
       "      <td>0.658725</td>\n",
       "      <td>0.064247</td>\n",
       "      <td>0.613915</td>\n",
       "      <td>-0.366369</td>\n",
       "      <td>0.660441</td>\n",
       "      <td>0.029138</td>\n",
       "      <td>-0.198407</td>\n",
       "      <td>-0.381484</td>\n",
       "      <td>1.000000</td>\n",
       "      <td>-0.425704</td>\n",
       "      <td>0.118522</td>\n",
       "      <td>-0.243117</td>\n",
       "      <td>-0.300262</td>\n",
       "      <td>0.420283</td>\n",
       "    </tr>\n",
       "    <tr>\n",
       "      <th>rent_burden</th>\n",
       "      <td>-0.639420</td>\n",
       "      <td>0.129459</td>\n",
       "      <td>-0.679553</td>\n",
       "      <td>0.525082</td>\n",
       "      <td>0.027056</td>\n",
       "      <td>-0.159140</td>\n",
       "      <td>0.339930</td>\n",
       "      <td>0.513009</td>\n",
       "      <td>-0.425704</td>\n",
       "      <td>1.000000</td>\n",
       "      <td>0.065922</td>\n",
       "      <td>0.139845</td>\n",
       "      <td>0.376808</td>\n",
       "      <td>-0.464750</td>\n",
       "    </tr>\n",
       "    <tr>\n",
       "      <th>pct_asian</th>\n",
       "      <td>-0.050407</td>\n",
       "      <td>0.085926</td>\n",
       "      <td>0.208983</td>\n",
       "      <td>-0.364088</td>\n",
       "      <td>0.185815</td>\n",
       "      <td>0.316332</td>\n",
       "      <td>-0.344927</td>\n",
       "      <td>-0.344723</td>\n",
       "      <td>0.118522</td>\n",
       "      <td>0.065922</td>\n",
       "      <td>1.000000</td>\n",
       "      <td>-0.531098</td>\n",
       "      <td>-0.210036</td>\n",
       "      <td>0.185242</td>\n",
       "    </tr>\n",
       "    <tr>\n",
       "      <th>pct_black</th>\n",
       "      <td>-0.219152</td>\n",
       "      <td>-0.036535</td>\n",
       "      <td>-0.386293</td>\n",
       "      <td>0.283733</td>\n",
       "      <td>-0.074989</td>\n",
       "      <td>-0.147838</td>\n",
       "      <td>0.505443</td>\n",
       "      <td>0.377406</td>\n",
       "      <td>-0.243117</td>\n",
       "      <td>0.139845</td>\n",
       "      <td>-0.531098</td>\n",
       "      <td>1.000000</td>\n",
       "      <td>-0.094529</td>\n",
       "      <td>-0.629606</td>\n",
       "    </tr>\n",
       "    <tr>\n",
       "      <th>pct_hispanic</th>\n",
       "      <td>-0.412156</td>\n",
       "      <td>0.023579</td>\n",
       "      <td>-0.449547</td>\n",
       "      <td>0.612455</td>\n",
       "      <td>-0.030354</td>\n",
       "      <td>-0.544413</td>\n",
       "      <td>0.199002</td>\n",
       "      <td>0.596540</td>\n",
       "      <td>-0.300262</td>\n",
       "      <td>0.376808</td>\n",
       "      <td>-0.210036</td>\n",
       "      <td>-0.094529</td>\n",
       "      <td>1.000000</td>\n",
       "      <td>-0.598091</td>\n",
       "    </tr>\n",
       "    <tr>\n",
       "      <th>pct_white</th>\n",
       "      <td>0.554597</td>\n",
       "      <td>-0.036905</td>\n",
       "      <td>0.614354</td>\n",
       "      <td>-0.565906</td>\n",
       "      <td>0.006034</td>\n",
       "      <td>0.400868</td>\n",
       "      <td>-0.484468</td>\n",
       "      <td>-0.650303</td>\n",
       "      <td>0.420283</td>\n",
       "      <td>-0.464750</td>\n",
       "      <td>0.185242</td>\n",
       "      <td>-0.629606</td>\n",
       "      <td>-0.598091</td>\n",
       "      <td>1.000000</td>\n",
       "    </tr>\n",
       "  </tbody>\n",
       "</table>\n",
       "</div>"
      ],
      "text/plain": [
       "                  homeowner_income      year  renter_income  pov_rate  \\\n",
       "homeowner_income          1.000000  0.094574       0.786065 -0.460246   \n",
       "year                      0.094574  1.000000       0.114513 -0.018176   \n",
       "renter_income             0.786065  0.114513       1.000000 -0.697128   \n",
       "pov_rate                 -0.460246 -0.018176      -0.697128  1.000000   \n",
       "population                0.135328  0.073893       0.130892 -0.193345   \n",
       "home_own_rate             0.098696 -0.018552       0.269507 -0.746871   \n",
       "FHA_loans                -0.299787  0.184963      -0.363125  0.285755   \n",
       "LMI                      -0.484436 -0.034806      -0.660292  0.877307   \n",
       "hunits                    0.658725  0.064247       0.613915 -0.366369   \n",
       "rent_burden              -0.639420  0.129459      -0.679553  0.525082   \n",
       "pct_asian                -0.050407  0.085926       0.208983 -0.364088   \n",
       "pct_black                -0.219152 -0.036535      -0.386293  0.283733   \n",
       "pct_hispanic             -0.412156  0.023579      -0.449547  0.612455   \n",
       "pct_white                 0.554597 -0.036905       0.614354 -0.565906   \n",
       "\n",
       "                  population  home_own_rate  FHA_loans       LMI    hunits  \\\n",
       "homeowner_income    0.135328       0.098696  -0.299787 -0.484436  0.658725   \n",
       "year                0.073893      -0.018552   0.184963 -0.034806  0.064247   \n",
       "renter_income       0.130892       0.269507  -0.363125 -0.660292  0.613915   \n",
       "pov_rate           -0.193345      -0.746871   0.285755  0.877307 -0.366369   \n",
       "population          1.000000       0.186788   0.073542 -0.175739  0.660441   \n",
       "home_own_rate       0.186788       1.000000  -0.018145 -0.736950  0.029138   \n",
       "FHA_loans           0.073542      -0.018145   1.000000  0.250931 -0.198407   \n",
       "LMI                -0.175739      -0.736950   0.250931  1.000000 -0.381484   \n",
       "hunits              0.660441       0.029138  -0.198407 -0.381484  1.000000   \n",
       "rent_burden         0.027056      -0.159140   0.339930  0.513009 -0.425704   \n",
       "pct_asian           0.185815       0.316332  -0.344927 -0.344723  0.118522   \n",
       "pct_black          -0.074989      -0.147838   0.505443  0.377406 -0.243117   \n",
       "pct_hispanic       -0.030354      -0.544413   0.199002  0.596540 -0.300262   \n",
       "pct_white           0.006034       0.400868  -0.484468 -0.650303  0.420283   \n",
       "\n",
       "                  rent_burden  pct_asian  pct_black  pct_hispanic  pct_white  \n",
       "homeowner_income    -0.639420  -0.050407  -0.219152     -0.412156   0.554597  \n",
       "year                 0.129459   0.085926  -0.036535      0.023579  -0.036905  \n",
       "renter_income       -0.679553   0.208983  -0.386293     -0.449547   0.614354  \n",
       "pov_rate             0.525082  -0.364088   0.283733      0.612455  -0.565906  \n",
       "population           0.027056   0.185815  -0.074989     -0.030354   0.006034  \n",
       "home_own_rate       -0.159140   0.316332  -0.147838     -0.544413   0.400868  \n",
       "FHA_loans            0.339930  -0.344927   0.505443      0.199002  -0.484468  \n",
       "LMI                  0.513009  -0.344723   0.377406      0.596540  -0.650303  \n",
       "hunits              -0.425704   0.118522  -0.243117     -0.300262   0.420283  \n",
       "rent_burden          1.000000   0.065922   0.139845      0.376808  -0.464750  \n",
       "pct_asian            0.065922   1.000000  -0.531098     -0.210036   0.185242  \n",
       "pct_black            0.139845  -0.531098   1.000000     -0.094529  -0.629606  \n",
       "pct_hispanic         0.376808  -0.210036  -0.094529      1.000000  -0.598091  \n",
       "pct_white           -0.464750   0.185242  -0.629606     -0.598091   1.000000  "
      ]
     },
     "execution_count": 128,
     "metadata": {},
     "output_type": "execute_result"
    }
   ],
   "source": [
    "# Correlation Analysis Table: Sub-Borough Area\n",
    "sub_borough.corr()"
   ]
  },
  {
   "cell_type": "code",
   "execution_count": 129,
   "metadata": {
    "scrolled": false
   },
   "outputs": [
    {
     "data": {
      "text/plain": [
       "(14.0, 0)"
      ]
     },
     "execution_count": 129,
     "metadata": {},
     "output_type": "execute_result"
    },
    {
     "data": {
      "image/png": "[encoded data removed]",
      "text/plain": [
       "<Figure size 1080x1080 with 2 Axes>"
      ]
     },
     "metadata": {},
     "output_type": "display_data"
    }
   ],
   "source": [
    "# Correlation heatmap of sub-borough variables\n",
    "plt.figure(figsize=(15,15))\n",
    "ax = sns.heatmap(sub_borough.corr(), vmax=.5, square=True, annot=True)\n",
    "ax.set_ylim(14.0,0)"
   ]
  },
  {
   "cell_type": "code",
   "execution_count": 130,
   "metadata": {},
   "outputs": [
    {
     "data": {
      "text/html": [
       "<div>\n",
       "<style scoped>\n",
       "    .dataframe tbody tr th:only-of-type {\n",
       "        vertical-align: middle;\n",
       "    }\n",
       "\n",
       "    .dataframe tbody tr th {\n",
       "        vertical-align: top;\n",
       "    }\n",
       "\n",
       "    .dataframe thead th {\n",
       "        text-align: right;\n",
       "    }\n",
       "</style>\n",
       "<table border=\"1\" class=\"dataframe\">\n",
       "  <thead>\n",
       "    <tr style=\"text-align: right;\">\n",
       "      <th></th>\n",
       "      <th>single_fam_home_price</th>\n",
       "      <th>year</th>\n",
       "      <th>condo_price</th>\n",
       "      <th>single_fam_home_sales</th>\n",
       "      <th>condo_sales</th>\n",
       "    </tr>\n",
       "  </thead>\n",
       "  <tbody>\n",
       "    <tr>\n",
       "      <th>single_fam_home_price</th>\n",
       "      <td>1.000000</td>\n",
       "      <td>0.060944</td>\n",
       "      <td>0.839504</td>\n",
       "      <td>-0.236832</td>\n",
       "      <td>0.729033</td>\n",
       "    </tr>\n",
       "    <tr>\n",
       "      <th>year</th>\n",
       "      <td>0.060944</td>\n",
       "      <td>1.000000</td>\n",
       "      <td>0.130712</td>\n",
       "      <td>-0.108835</td>\n",
       "      <td>-0.048426</td>\n",
       "    </tr>\n",
       "    <tr>\n",
       "      <th>condo_price</th>\n",
       "      <td>0.839504</td>\n",
       "      <td>0.130712</td>\n",
       "      <td>1.000000</td>\n",
       "      <td>-0.248624</td>\n",
       "      <td>0.666206</td>\n",
       "    </tr>\n",
       "    <tr>\n",
       "      <th>single_fam_home_sales</th>\n",
       "      <td>-0.236832</td>\n",
       "      <td>-0.108835</td>\n",
       "      <td>-0.248624</td>\n",
       "      <td>1.000000</td>\n",
       "      <td>-0.170331</td>\n",
       "    </tr>\n",
       "    <tr>\n",
       "      <th>condo_sales</th>\n",
       "      <td>0.729033</td>\n",
       "      <td>-0.048426</td>\n",
       "      <td>0.666206</td>\n",
       "      <td>-0.170331</td>\n",
       "      <td>1.000000</td>\n",
       "    </tr>\n",
       "  </tbody>\n",
       "</table>\n",
       "</div>"
      ],
      "text/plain": [
       "                       single_fam_home_price      year  condo_price  \\\n",
       "single_fam_home_price               1.000000  0.060944     0.839504   \n",
       "year                                0.060944  1.000000     0.130712   \n",
       "condo_price                         0.839504  0.130712     1.000000   \n",
       "single_fam_home_sales              -0.236832 -0.108835    -0.248624   \n",
       "condo_sales                         0.729033 -0.048426     0.666206   \n",
       "\n",
       "                       single_fam_home_sales  condo_sales  \n",
       "single_fam_home_price              -0.236832     0.729033  \n",
       "year                               -0.108835    -0.048426  \n",
       "condo_price                        -0.248624     0.666206  \n",
       "single_fam_home_sales               1.000000    -0.170331  \n",
       "condo_sales                        -0.170331     1.000000  "
      ]
     },
     "execution_count": 130,
     "metadata": {},
     "output_type": "execute_result"
    }
   ],
   "source": [
    "# Correlation Analysis Table: Community District\n",
    "community_district.corr()"
   ]
  },
  {
   "cell_type": "code",
   "execution_count": 131,
   "metadata": {
    "scrolled": false
   },
   "outputs": [
    {
     "data": {
      "text/plain": [
       "(5.0, 0)"
      ]
     },
     "execution_count": 131,
     "metadata": {},
     "output_type": "execute_result"
    },
    {
     "data": {
      "image/png": "[encoded data removed]",
      "text/plain": [
       "<Figure size 720x720 with 2 Axes>"
      ]
     },
     "metadata": {},
     "output_type": "display_data"
    }
   ],
   "source": [
    "# Correlation heatmap of all variables\n",
    "plt.figure(figsize=(10,10))\n",
    "ac = sns.heatmap(community_district.corr(), vmax=.5, square=True, annot=True)\n",
    "ac.set_ylim(5.0,0)"
   ]
  },
  {
   "cell_type": "markdown",
   "metadata": {},
   "source": [
    "### 5.2. Correlation Summary"
   ]
  },
  {
   "cell_type": "markdown",
   "metadata": {},
   "source": [
    "#### 5.2.1. Sub-Borough"
   ]
  },
  {
   "cell_type": "markdown",
   "metadata": {},
   "source": [
    "**Homeowner Income:**\n",
    "\n",
    "•\tThere is a strong positive correlation between homeowner income and the number of housing units that are occupied or intend to be occupied as separate living quarters.\n",
    "\n",
    "•\tThere is a very strong positive correlation between homeowner income and renter’s income, meaning we can assume that if the average homeowner income is high in one district, we can also expect the average renter’s income will also be higher.\n",
    "\n",
    "•\tThere is a correlation between the homeowner income and LMI borrowers. Expected there to be a higher correlation in this area. \n",
    "\n",
    "•\tThere is a correlation between the homeowner income and poverty rate. Expected there to be a higher correlation in this area. \n",
    "\n",
    "•\tThere is a strong negative correlation between homeowner income and the rent burden. So the more money people make on average the less of a percent of that has to go towards living expenses\n",
    "\n",
    "**Year:**\n",
    "\n",
    "•\tNo correlation with anything.\n",
    "\n",
    "**Renter Income:**\n",
    "\n",
    "•\t(See homeowner income)\n",
    "\n",
    "•\tVery strong negative correlation with poverty rate. \n",
    "\n",
    "•\tVery strong negative correlation with LMI borrowers.\n",
    "\n",
    "•\tVery strong negative correlation with rent burden.\n",
    "\n",
    "•\tThere is a strong positive correlation between renter income and the number of housing units that are occupied or intend to be occupied as separate living quarters.\n",
    "\n",
    "There seems to be a correlation in that the higher the average income whether it is based on renter or housing income, the lower the percent of Hispanics and Black people are and higher percent of white people. (Not sure if this is useful but I find it very interesting)\n",
    "\n",
    "Renter’s Income does a better job about telling about how poor a district is. \n",
    "\n",
    "**Poverty Rate:**\n",
    "\n",
    "•\t(see renters’ income)\n",
    "\n",
    "•\tThere is a very strong negative correlation between the poverty rate and home own rate.\n",
    "\n",
    "•\tThere is a super strong correlation between the poverty rate and LMI borrowers.\n",
    "\n",
    "•\tThere is a strong correlation between rent burden and poverty rate.\n",
    "\n",
    "•\tThere is a strong correlation between poverty rate and the percent of Hispanics \n",
    "\n",
    "•\tThere is a strong negative correlation between poverty rate and the percent of white.\n",
    "\n",
    "**Population:**\n",
    "\n",
    "•\tThere is a strong positive correlation between the population and the number of housing units that are occupied or intend to be occupied as separate living quarters.\n",
    "\n",
    "**Homeowner Rate:**\n",
    "\n",
    "•\t(see poverty rate) (Maybe important for answering one of the questions)\n",
    "\n",
    "•\tThere is a strong negative correlation between LMI borrowers and homeowner rates(Maybe important for answering one of the questions)\n",
    "\n",
    "•\tThere is a strong negative correlation between homeowner rate and percent Hispanics\n",
    "\n",
    "•\tOnly a .4 correlation between homeowner rate and percent white\n",
    "\n",
    "**FHA Loans:**\n",
    "\n",
    "•\tThere is a strong correlation between blacks and FHA loans\n",
    "\n",
    "•\tThere is a strong negative correlation between whites and FHA loans.\n",
    "\n",
    "•\tHas a bunch of weak correlations with a bunch of different stuff (I know, great analysis)\n",
    "\n",
    "**LMI:**\n",
    "\n",
    "•\t(See homeowner income)\n",
    "\n",
    "•\t(See renter’s income)\n",
    "\n",
    "•\t(See poverty rate)\n",
    "\n",
    "•\t(See homeowner rate)\n",
    "\n",
    "•\tStrong correlation between rent burden and LMI\n",
    "\n",
    "•\tStrong correlation between Hispanics and LMI\n",
    "\n",
    "•\tStrong negative correlation between white and LMI\n",
    "\n",
    "•\tStrong correlation between rent burden and LMI\n",
    "\n",
    "\n",
    "**House Units:**\n",
    "\n",
    "•\t(See homeowner income)\n",
    "\n",
    "•\t(See renter income)\n",
    "\n",
    "•\t(see population)\n",
    "\n",
    "•\t(See rent burden)\n",
    "\n",
    "**Rent Burden:**\n",
    "\n",
    "•\t(See homeowner income)\n",
    "\n",
    "•\t(See renter income)\n",
    "\n",
    "•\t(See poverty rate)\n",
    "\n",
    "•\t(See LMI)\n",
    "\n",
    "•\t(See house units)"
   ]
  },
  {
   "cell_type": "markdown",
   "metadata": {},
   "source": [
    "#### 5.2.2. Community District"
   ]
  },
  {
   "cell_type": "markdown",
   "metadata": {},
   "source": [
    "**Single Family Home Price:** \n",
    "\n",
    "•\tStrong correlation with single family home price and condo price\n",
    "\n",
    "•\tStrong correlation with condo sales\n",
    "\n",
    "**Year:**\n",
    "\n",
    "•\tNo correlation \n",
    "\n",
    "**Condo Price:**\n",
    "\n",
    "•\t(See single family home price)\n",
    "\n",
    "•\tStrong correlation with condo sales\n",
    "\n",
    "**Single Family Home Sales:**\n",
    "\n",
    "•\tNo correlation which is very strange \n",
    "\n",
    "**Condo Sales:**\n",
    "\n",
    "•\t(See single family home price)\n",
    "\n",
    "•\t(See condo price)"
   ]
  },
  {
   "cell_type": "markdown",
   "metadata": {},
   "source": [
    "## 6. Business Analytics Summary"
   ]
  },
  {
   "cell_type": "markdown",
   "metadata": {},
   "source": [
    "In order to make suggestions as to which sub-buroughs should qualify for a pilot program promoting home ownership, we are looking at home units, LMI, poverty rates, rent burden, home ownership rates, renter income, and homeowner income in each of the different sub-boroughs. From this data, we hope to build a model and suggest at least five different sub-boroughs that would be good candidates. We are looking for sub-boroughs with a narrow gap between homeowner and renter incomes along with low homeownership rates, low LMI values, and low rent burden. We deteremined these variables by our correlation analysis and by business intuition. We will also view housing units to make sure there aren't any outliers that we can suggest advocating for government intervention to create more condominiums."
   ]
  },
  {
   "cell_type": "markdown",
   "metadata": {},
   "source": [
    "### 6.1. Available Housing Unit Analysis"
   ]
  },
  {
   "cell_type": "code",
   "execution_count": 132,
   "metadata": {},
   "outputs": [
    {
     "data": {
      "text/plain": [
       "<matplotlib.axes._subplots.AxesSubplot at 0x2015f37c588>"
      ]
     },
     "execution_count": 132,
     "metadata": {},
     "output_type": "execute_result"
    },
    {
     "data": {
      "image/png": "[encoded data removed]",
      "text/plain": [
       "<Figure size 432x288 with 1 Axes>"
      ]
     },
     "metadata": {},
     "output_type": "display_data"
    }
   ],
   "source": [
    "# Visualizing top 10 areas with the most housing units available\n",
    "home_own.groupby('Sub-Borough Area')[['hunits', 'renter_income', 'homeowner_income']].mean().sort_values(by='hunits', ascending=False).head(10).plot(kind='bar')"
   ]
  },
  {
   "cell_type": "code",
   "execution_count": 133,
   "metadata": {},
   "outputs": [
    {
     "data": {
      "text/plain": [
       "<matplotlib.axes._subplots.AxesSubplot at 0x2015f545688>"
      ]
     },
     "execution_count": 133,
     "metadata": {},
     "output_type": "execute_result"
    },
    {
     "data": {
      "image/png": "[encoded data removed]",
      "text/plain": [
       "<Figure size 432x288 with 1 Axes>"
      ]
     },
     "metadata": {},
     "output_type": "display_data"
    }
   ],
   "source": [
    "# Visualizing top 10 areas with the least housing units available\n",
    "home_own.groupby('Sub-Borough Area')[['hunits', 'renter_income', 'homeowner_income']].mean().sort_values(by='hunits', ascending=True).head(10).plot(kind='bar')"
   ]
  },
  {
   "cell_type": "code",
   "execution_count": 134,
   "metadata": {},
   "outputs": [
    {
     "data": {
      "text/plain": [
       "count       770.000000\n",
       "mean      61721.707792\n",
       "std       18934.557254\n",
       "min       39682.000000\n",
       "25%       49044.000000\n",
       "50%       55919.500000\n",
       "75%       67426.000000\n",
       "max      148515.000000\n",
       "Name: hunits, dtype: float64"
      ]
     },
     "execution_count": 134,
     "metadata": {},
     "output_type": "execute_result"
    }
   ],
   "source": [
    "# Basic statistics on the sub-borough units\n",
    "sub_borough['hunits'].describe()"
   ]
  },
  {
   "cell_type": "markdown",
   "metadata": {},
   "source": [
    "Without more knowledge of the data, such as square kilometers for each sub-borough area, it is hard to recommend whether the government should build more condominiums or tear down older apartments to replace with condominiums in order to provide more opportunities for home ownership."
   ]
  },
  {
   "cell_type": "markdown",
   "metadata": {},
   "source": [
    "### 6.2. Identifying Key Variables for Target Areas to Increase Homeownership"
   ]
  },
  {
   "cell_type": "code",
   "execution_count": 216,
   "metadata": {},
   "outputs": [
    {
     "name": "stderr",
     "output_type": "stream",
     "text": [
      "C:\\Users\\Tom\\anaconda3\\lib\\site-packages\\ipykernel_launcher.py:3: FutureWarning:\n",
      "\n",
      "Indexing with multiple keys (implicitly converted to a tuple of keys) will be deprecated, use a list instead.\n",
      "\n"
     ]
    },
    {
     "data": {
      "text/html": [
       "<div>\n",
       "<style scoped>\n",
       "    .dataframe tbody tr th:only-of-type {\n",
       "        vertical-align: middle;\n",
       "    }\n",
       "\n",
       "    .dataframe tbody tr th {\n",
       "        vertical-align: top;\n",
       "    }\n",
       "\n",
       "    .dataframe thead th {\n",
       "        text-align: right;\n",
       "    }\n",
       "</style>\n",
       "<table border=\"1\" class=\"dataframe\">\n",
       "  <thead>\n",
       "    <tr style=\"text-align: right;\">\n",
       "      <th></th>\n",
       "      <th>home_own_rate</th>\n",
       "      <th>rent_burden</th>\n",
       "      <th>LMI</th>\n",
       "      <th>pov_rate</th>\n",
       "      <th>renter_income</th>\n",
       "      <th>homeowner_income</th>\n",
       "      <th>gap</th>\n",
       "    </tr>\n",
       "    <tr>\n",
       "      <th>Sub-Borough Area</th>\n",
       "      <th></th>\n",
       "      <th></th>\n",
       "      <th></th>\n",
       "      <th></th>\n",
       "      <th></th>\n",
       "      <th></th>\n",
       "      <th></th>\n",
       "    </tr>\n",
       "  </thead>\n",
       "  <tbody>\n",
       "    <tr>\n",
       "      <th>Elmhurst/Corona</th>\n",
       "      <td>0.248517</td>\n",
       "      <td>0.366714</td>\n",
       "      <td>0.681266</td>\n",
       "      <td>0.191770</td>\n",
       "      <td>45406.081493</td>\n",
       "      <td>64912.265972</td>\n",
       "      <td>19506.184479</td>\n",
       "    </tr>\n",
       "    <tr>\n",
       "      <th>Sunnyside/Woodside</th>\n",
       "      <td>0.274079</td>\n",
       "      <td>0.310857</td>\n",
       "      <td>0.232825</td>\n",
       "      <td>0.128110</td>\n",
       "      <td>57601.950202</td>\n",
       "      <td>77592.493818</td>\n",
       "      <td>19990.543616</td>\n",
       "    </tr>\n",
       "    <tr>\n",
       "      <th>Astoria</th>\n",
       "      <td>0.194888</td>\n",
       "      <td>0.296357</td>\n",
       "      <td>0.310912</td>\n",
       "      <td>0.167290</td>\n",
       "      <td>53453.497814</td>\n",
       "      <td>76124.618775</td>\n",
       "      <td>22671.120960</td>\n",
       "    </tr>\n",
       "    <tr>\n",
       "      <th>Jackson Heights</th>\n",
       "      <td>0.352451</td>\n",
       "      <td>0.357286</td>\n",
       "      <td>0.499713</td>\n",
       "      <td>0.175851</td>\n",
       "      <td>46870.298596</td>\n",
       "      <td>73697.382471</td>\n",
       "      <td>26827.083876</td>\n",
       "    </tr>\n",
       "    <tr>\n",
       "      <th>Middle Village/Ridgewood</th>\n",
       "      <td>0.419482</td>\n",
       "      <td>0.304857</td>\n",
       "      <td>0.115937</td>\n",
       "      <td>0.123198</td>\n",
       "      <td>54554.689862</td>\n",
       "      <td>81983.332159</td>\n",
       "      <td>27428.642297</td>\n",
       "    </tr>\n",
       "    <tr>\n",
       "      <th>Bayside/Little Neck</th>\n",
       "      <td>0.701159</td>\n",
       "      <td>0.317786</td>\n",
       "      <td>0.002785</td>\n",
       "      <td>0.074244</td>\n",
       "      <td>62661.464978</td>\n",
       "      <td>91292.284009</td>\n",
       "      <td>28630.819031</td>\n",
       "    </tr>\n",
       "    <tr>\n",
       "      <th>Highbridge/South Concourse</th>\n",
       "      <td>0.064365</td>\n",
       "      <td>0.377000</td>\n",
       "      <td>0.978098</td>\n",
       "      <td>0.362874</td>\n",
       "      <td>28289.214597</td>\n",
       "      <td>58774.596384</td>\n",
       "      <td>30485.381788</td>\n",
       "    </tr>\n",
       "    <tr>\n",
       "      <th>Williamsburg/Greenpoint</th>\n",
       "      <td>0.166205</td>\n",
       "      <td>0.304286</td>\n",
       "      <td>0.432340</td>\n",
       "      <td>0.276046</td>\n",
       "      <td>52021.485760</td>\n",
       "      <td>82566.686775</td>\n",
       "      <td>30545.201015</td>\n",
       "    </tr>\n",
       "    <tr>\n",
       "      <th>Rego Park/Forest Hills</th>\n",
       "      <td>0.450176</td>\n",
       "      <td>0.308929</td>\n",
       "      <td>0.042569</td>\n",
       "      <td>0.097106</td>\n",
       "      <td>59907.317099</td>\n",
       "      <td>90523.236493</td>\n",
       "      <td>30615.919394</td>\n",
       "    </tr>\n",
       "    <tr>\n",
       "      <th>South Ozone Park/Howard Beach</th>\n",
       "      <td>0.662092</td>\n",
       "      <td>0.351643</td>\n",
       "      <td>0.097657</td>\n",
       "      <td>0.114230</td>\n",
       "      <td>49855.885836</td>\n",
       "      <td>81757.078237</td>\n",
       "      <td>31901.192402</td>\n",
       "    </tr>\n",
       "    <tr>\n",
       "      <th>Ozone Park/Woodhaven</th>\n",
       "      <td>0.460738</td>\n",
       "      <td>0.335214</td>\n",
       "      <td>0.172312</td>\n",
       "      <td>0.138697</td>\n",
       "      <td>50808.079766</td>\n",
       "      <td>83696.265363</td>\n",
       "      <td>32888.185598</td>\n",
       "    </tr>\n",
       "    <tr>\n",
       "      <th>Bensonhurst</th>\n",
       "      <td>0.359886</td>\n",
       "      <td>0.342643</td>\n",
       "      <td>0.514477</td>\n",
       "      <td>0.174537</td>\n",
       "      <td>40352.631349</td>\n",
       "      <td>73434.378370</td>\n",
       "      <td>33081.747020</td>\n",
       "    </tr>\n",
       "    <tr>\n",
       "      <th>Throgs Neck/Co-op City</th>\n",
       "      <td>0.477178</td>\n",
       "      <td>0.284000</td>\n",
       "      <td>0.068701</td>\n",
       "      <td>0.117201</td>\n",
       "      <td>44942.622618</td>\n",
       "      <td>78389.683832</td>\n",
       "      <td>33447.061214</td>\n",
       "    </tr>\n",
       "    <tr>\n",
       "      <th>Hillcrest/Fresh Meadows</th>\n",
       "      <td>0.472768</td>\n",
       "      <td>0.316714</td>\n",
       "      <td>0.037816</td>\n",
       "      <td>0.125526</td>\n",
       "      <td>51281.778792</td>\n",
       "      <td>85870.570770</td>\n",
       "      <td>34588.791979</td>\n",
       "    </tr>\n",
       "    <tr>\n",
       "      <th>Kingsbridge Heights/Mosholu</th>\n",
       "      <td>0.073930</td>\n",
       "      <td>0.382143</td>\n",
       "      <td>0.745205</td>\n",
       "      <td>0.316781</td>\n",
       "      <td>32617.095478</td>\n",
       "      <td>68028.391070</td>\n",
       "      <td>35411.295592</td>\n",
       "    </tr>\n",
       "    <tr>\n",
       "      <th>Flushing/Whitestone</th>\n",
       "      <td>0.479422</td>\n",
       "      <td>0.376714</td>\n",
       "      <td>0.190099</td>\n",
       "      <td>0.139920</td>\n",
       "      <td>43604.170776</td>\n",
       "      <td>79082.936837</td>\n",
       "      <td>35478.766061</td>\n",
       "    </tr>\n",
       "    <tr>\n",
       "      <th>Queens Village</th>\n",
       "      <td>0.737423</td>\n",
       "      <td>0.304571</td>\n",
       "      <td>0.012255</td>\n",
       "      <td>0.074565</td>\n",
       "      <td>59307.324062</td>\n",
       "      <td>95343.893956</td>\n",
       "      <td>36036.569894</td>\n",
       "    </tr>\n",
       "    <tr>\n",
       "      <th>Bushwick</th>\n",
       "      <td>0.140705</td>\n",
       "      <td>0.342571</td>\n",
       "      <td>0.982215</td>\n",
       "      <td>0.296016</td>\n",
       "      <td>38189.296770</td>\n",
       "      <td>74424.803269</td>\n",
       "      <td>36235.506499</td>\n",
       "    </tr>\n",
       "    <tr>\n",
       "      <th>Bay Ridge</th>\n",
       "      <td>0.398864</td>\n",
       "      <td>0.303929</td>\n",
       "      <td>0.132721</td>\n",
       "      <td>0.152404</td>\n",
       "      <td>52610.584323</td>\n",
       "      <td>89471.716698</td>\n",
       "      <td>36861.132376</td>\n",
       "    </tr>\n",
       "    <tr>\n",
       "      <th>East Flatbush</th>\n",
       "      <td>0.340854</td>\n",
       "      <td>0.339286</td>\n",
       "      <td>0.495761</td>\n",
       "      <td>0.152632</td>\n",
       "      <td>41793.861840</td>\n",
       "      <td>78978.602048</td>\n",
       "      <td>37184.740208</td>\n",
       "    </tr>\n",
       "    <tr>\n",
       "      <th>Sunset Park</th>\n",
       "      <td>0.277239</td>\n",
       "      <td>0.342571</td>\n",
       "      <td>0.523766</td>\n",
       "      <td>0.257166</td>\n",
       "      <td>42934.846855</td>\n",
       "      <td>80798.743626</td>\n",
       "      <td>37863.896770</td>\n",
       "    </tr>\n",
       "    <tr>\n",
       "      <th>Borough Park</th>\n",
       "      <td>0.328574</td>\n",
       "      <td>0.422000</td>\n",
       "      <td>0.669260</td>\n",
       "      <td>0.298747</td>\n",
       "      <td>35425.836217</td>\n",
       "      <td>73711.414067</td>\n",
       "      <td>38285.577851</td>\n",
       "    </tr>\n",
       "    <tr>\n",
       "      <th>Soundview/Parkchester</th>\n",
       "      <td>0.212192</td>\n",
       "      <td>0.326786</td>\n",
       "      <td>0.677676</td>\n",
       "      <td>0.266966</td>\n",
       "      <td>33921.168261</td>\n",
       "      <td>72354.741256</td>\n",
       "      <td>38433.572994</td>\n",
       "    </tr>\n",
       "    <tr>\n",
       "      <th>South Crown Heights</th>\n",
       "      <td>0.159165</td>\n",
       "      <td>0.333643</td>\n",
       "      <td>0.747682</td>\n",
       "      <td>0.203037</td>\n",
       "      <td>42364.810056</td>\n",
       "      <td>80890.722907</td>\n",
       "      <td>38525.912852</td>\n",
       "    </tr>\n",
       "    <tr>\n",
       "      <th>East New York/Starrett City</th>\n",
       "      <td>0.237047</td>\n",
       "      <td>0.339714</td>\n",
       "      <td>0.715520</td>\n",
       "      <td>0.288565</td>\n",
       "      <td>30510.446701</td>\n",
       "      <td>70004.732797</td>\n",
       "      <td>39494.286096</td>\n",
       "    </tr>\n",
       "    <tr>\n",
       "      <th>Jamaica</th>\n",
       "      <td>0.495571</td>\n",
       "      <td>0.338071</td>\n",
       "      <td>0.248288</td>\n",
       "      <td>0.139486</td>\n",
       "      <td>41935.658014</td>\n",
       "      <td>82039.625226</td>\n",
       "      <td>40103.967212</td>\n",
       "    </tr>\n",
       "    <tr>\n",
       "      <th>Williamsbridge/Baychester</th>\n",
       "      <td>0.375416</td>\n",
       "      <td>0.339857</td>\n",
       "      <td>0.309716</td>\n",
       "      <td>0.178929</td>\n",
       "      <td>38736.522188</td>\n",
       "      <td>80644.529677</td>\n",
       "      <td>41908.007489</td>\n",
       "    </tr>\n",
       "    <tr>\n",
       "      <th>Pelham Parkway</th>\n",
       "      <td>0.301522</td>\n",
       "      <td>0.323571</td>\n",
       "      <td>0.432524</td>\n",
       "      <td>0.194897</td>\n",
       "      <td>40283.322734</td>\n",
       "      <td>82238.658283</td>\n",
       "      <td>41955.335549</td>\n",
       "    </tr>\n",
       "    <tr>\n",
       "      <th>Sheepshead Bay/Gravesend</th>\n",
       "      <td>0.465797</td>\n",
       "      <td>0.338429</td>\n",
       "      <td>0.168982</td>\n",
       "      <td>0.155864</td>\n",
       "      <td>38753.280192</td>\n",
       "      <td>81674.752027</td>\n",
       "      <td>42921.471835</td>\n",
       "    </tr>\n",
       "    <tr>\n",
       "      <th>University Heights/Fordham</th>\n",
       "      <td>0.038409</td>\n",
       "      <td>0.400857</td>\n",
       "      <td>0.998506</td>\n",
       "      <td>0.399352</td>\n",
       "      <td>26098.791277</td>\n",
       "      <td>70748.552065</td>\n",
       "      <td>44649.760787</td>\n",
       "    </tr>\n",
       "    <tr>\n",
       "      <th>Flatlands/Canarsie</th>\n",
       "      <td>0.583798</td>\n",
       "      <td>0.302500</td>\n",
       "      <td>0.010002</td>\n",
       "      <td>0.109584</td>\n",
       "      <td>47177.692333</td>\n",
       "      <td>92571.587289</td>\n",
       "      <td>45393.894956</td>\n",
       "    </tr>\n",
       "    <tr>\n",
       "      <th>Stuyvesant Town/Turtle Bay</th>\n",
       "      <td>0.319118</td>\n",
       "      <td>0.262643</td>\n",
       "      <td>0.008258</td>\n",
       "      <td>0.082470</td>\n",
       "      <td>102619.431072</td>\n",
       "      <td>148154.445356</td>\n",
       "      <td>45535.014285</td>\n",
       "    </tr>\n",
       "    <tr>\n",
       "      <th>Brownsville/Ocean Hill</th>\n",
       "      <td>0.186286</td>\n",
       "      <td>0.362000</td>\n",
       "      <td>0.932915</td>\n",
       "      <td>0.359864</td>\n",
       "      <td>23052.912234</td>\n",
       "      <td>68630.542537</td>\n",
       "      <td>45577.630302</td>\n",
       "    </tr>\n",
       "    <tr>\n",
       "      <th>Morrisania/Belmont</th>\n",
       "      <td>0.072046</td>\n",
       "      <td>0.361000</td>\n",
       "      <td>1.000000</td>\n",
       "      <td>0.414013</td>\n",
       "      <td>22786.043950</td>\n",
       "      <td>68790.630605</td>\n",
       "      <td>46004.586655</td>\n",
       "    </tr>\n",
       "    <tr>\n",
       "      <th>Coney Island</th>\n",
       "      <td>0.281543</td>\n",
       "      <td>0.329786</td>\n",
       "      <td>0.474761</td>\n",
       "      <td>0.249016</td>\n",
       "      <td>26003.352162</td>\n",
       "      <td>72403.251349</td>\n",
       "      <td>46399.899187</td>\n",
       "    </tr>\n",
       "    <tr>\n",
       "      <th>Riverdale/Kingsbridge</th>\n",
       "      <td>0.313390</td>\n",
       "      <td>0.306857</td>\n",
       "      <td>0.098747</td>\n",
       "      <td>0.171819</td>\n",
       "      <td>49176.940681</td>\n",
       "      <td>95851.333334</td>\n",
       "      <td>46674.392653</td>\n",
       "    </tr>\n",
       "    <tr>\n",
       "      <th>Mott Haven/Hunts Point</th>\n",
       "      <td>0.068925</td>\n",
       "      <td>0.346357</td>\n",
       "      <td>0.997670</td>\n",
       "      <td>0.426329</td>\n",
       "      <td>21379.949497</td>\n",
       "      <td>68462.269664</td>\n",
       "      <td>47082.320167</td>\n",
       "    </tr>\n",
       "    <tr>\n",
       "      <th>South Shore</th>\n",
       "      <td>0.819667</td>\n",
       "      <td>0.293214</td>\n",
       "      <td>0.000353</td>\n",
       "      <td>0.059447</td>\n",
       "      <td>53585.125978</td>\n",
       "      <td>103539.921964</td>\n",
       "      <td>49954.795986</td>\n",
       "    </tr>\n",
       "    <tr>\n",
       "      <th>Flatbush</th>\n",
       "      <td>0.228765</td>\n",
       "      <td>0.340143</td>\n",
       "      <td>0.518715</td>\n",
       "      <td>0.206159</td>\n",
       "      <td>42457.904002</td>\n",
       "      <td>95734.614602</td>\n",
       "      <td>53276.710600</td>\n",
       "    </tr>\n",
       "    <tr>\n",
       "      <th>Mid-Island</th>\n",
       "      <td>0.710885</td>\n",
       "      <td>0.321429</td>\n",
       "      <td>0.019159</td>\n",
       "      <td>0.099990</td>\n",
       "      <td>43899.416415</td>\n",
       "      <td>97883.450148</td>\n",
       "      <td>53984.033734</td>\n",
       "    </tr>\n",
       "    <tr>\n",
       "      <th>Washington Heights/Inwood</th>\n",
       "      <td>0.090148</td>\n",
       "      <td>0.318643</td>\n",
       "      <td>0.507764</td>\n",
       "      <td>0.239365</td>\n",
       "      <td>42461.939344</td>\n",
       "      <td>98312.177706</td>\n",
       "      <td>55850.238362</td>\n",
       "    </tr>\n",
       "    <tr>\n",
       "      <th>North Crown Heights/Prospect Heights</th>\n",
       "      <td>0.190536</td>\n",
       "      <td>0.317071</td>\n",
       "      <td>0.521024</td>\n",
       "      <td>0.243099</td>\n",
       "      <td>40449.282714</td>\n",
       "      <td>96376.493541</td>\n",
       "      <td>55927.210827</td>\n",
       "    </tr>\n",
       "    <tr>\n",
       "      <th>Bedford Stuyvesant</th>\n",
       "      <td>0.224563</td>\n",
       "      <td>0.328071</td>\n",
       "      <td>0.817460</td>\n",
       "      <td>0.312616</td>\n",
       "      <td>32666.026803</td>\n",
       "      <td>89997.331382</td>\n",
       "      <td>57331.304578</td>\n",
       "    </tr>\n",
       "    <tr>\n",
       "      <th>Lower East Side/Chinatown</th>\n",
       "      <td>0.122036</td>\n",
       "      <td>0.299429</td>\n",
       "      <td>0.414564</td>\n",
       "      <td>0.266692</td>\n",
       "      <td>38531.467871</td>\n",
       "      <td>96902.936620</td>\n",
       "      <td>58371.468749</td>\n",
       "    </tr>\n",
       "    <tr>\n",
       "      <th>Rockaways</th>\n",
       "      <td>0.378472</td>\n",
       "      <td>0.309357</td>\n",
       "      <td>0.331073</td>\n",
       "      <td>0.192460</td>\n",
       "      <td>35834.724797</td>\n",
       "      <td>94861.539682</td>\n",
       "      <td>59026.814885</td>\n",
       "    </tr>\n",
       "    <tr>\n",
       "      <th>Brooklyn Heights/Fort Greene</th>\n",
       "      <td>0.316504</td>\n",
       "      <td>0.265571</td>\n",
       "      <td>0.191652</td>\n",
       "      <td>0.186158</td>\n",
       "      <td>64979.700442</td>\n",
       "      <td>126398.863024</td>\n",
       "      <td>61419.162582</td>\n",
       "    </tr>\n",
       "    <tr>\n",
       "      <th>North Shore</th>\n",
       "      <td>0.565651</td>\n",
       "      <td>0.343357</td>\n",
       "      <td>0.179211</td>\n",
       "      <td>0.185605</td>\n",
       "      <td>32563.182611</td>\n",
       "      <td>94963.127236</td>\n",
       "      <td>62399.944625</td>\n",
       "    </tr>\n",
       "    <tr>\n",
       "      <th>Greenwich Village/Financial District</th>\n",
       "      <td>0.287464</td>\n",
       "      <td>0.247071</td>\n",
       "      <td>0.018034</td>\n",
       "      <td>0.084115</td>\n",
       "      <td>113173.856832</td>\n",
       "      <td>175970.777595</td>\n",
       "      <td>62796.920763</td>\n",
       "    </tr>\n",
       "    <tr>\n",
       "      <th>Chelsea/Clinton/Midtown</th>\n",
       "      <td>0.233398</td>\n",
       "      <td>0.262071</td>\n",
       "      <td>0.051090</td>\n",
       "      <td>0.129100</td>\n",
       "      <td>86136.593006</td>\n",
       "      <td>151738.170245</td>\n",
       "      <td>65601.577239</td>\n",
       "    </tr>\n",
       "    <tr>\n",
       "      <th>East Harlem</th>\n",
       "      <td>0.072991</td>\n",
       "      <td>0.294429</td>\n",
       "      <td>0.794562</td>\n",
       "      <td>0.317839</td>\n",
       "      <td>30886.727228</td>\n",
       "      <td>98663.073668</td>\n",
       "      <td>67776.346440</td>\n",
       "    </tr>\n",
       "    <tr>\n",
       "      <th>Park Slope/Carroll Gardens</th>\n",
       "      <td>0.366313</td>\n",
       "      <td>0.256714</td>\n",
       "      <td>0.046968</td>\n",
       "      <td>0.103957</td>\n",
       "      <td>84690.733366</td>\n",
       "      <td>155143.782893</td>\n",
       "      <td>70453.049528</td>\n",
       "    </tr>\n",
       "    <tr>\n",
       "      <th>Central Harlem</th>\n",
       "      <td>0.126076</td>\n",
       "      <td>0.298143</td>\n",
       "      <td>0.818974</td>\n",
       "      <td>0.279480</td>\n",
       "      <td>35947.569619</td>\n",
       "      <td>109793.726742</td>\n",
       "      <td>73846.157123</td>\n",
       "    </tr>\n",
       "    <tr>\n",
       "      <th>Morningside Heights/Hamilton Heights</th>\n",
       "      <td>0.146154</td>\n",
       "      <td>0.318000</td>\n",
       "      <td>0.504524</td>\n",
       "      <td>0.264125</td>\n",
       "      <td>38377.558537</td>\n",
       "      <td>115681.930428</td>\n",
       "      <td>77304.371891</td>\n",
       "    </tr>\n",
       "    <tr>\n",
       "      <th>Upper East Side</th>\n",
       "      <td>0.352522</td>\n",
       "      <td>0.261429</td>\n",
       "      <td>0.000000</td>\n",
       "      <td>0.060562</td>\n",
       "      <td>95477.921563</td>\n",
       "      <td>189516.759692</td>\n",
       "      <td>94038.838129</td>\n",
       "    </tr>\n",
       "    <tr>\n",
       "      <th>Upper West Side</th>\n",
       "      <td>0.337396</td>\n",
       "      <td>0.250429</td>\n",
       "      <td>0.022990</td>\n",
       "      <td>0.099816</td>\n",
       "      <td>86382.713935</td>\n",
       "      <td>186715.463874</td>\n",
       "      <td>100332.749940</td>\n",
       "    </tr>\n",
       "  </tbody>\n",
       "</table>\n",
       "</div>"
      ],
      "text/plain": [
       "                                      home_own_rate  rent_burden       LMI  \\\n",
       "Sub-Borough Area                                                             \n",
       "Elmhurst/Corona                            0.248517     0.366714  0.681266   \n",
       "Sunnyside/Woodside                         0.274079     0.310857  0.232825   \n",
       "Astoria                                    0.194888     0.296357  0.310912   \n",
       "Jackson Heights                            0.352451     0.357286  0.499713   \n",
       "Middle Village/Ridgewood                   0.419482     0.304857  0.115937   \n",
       "Bayside/Little Neck                        0.701159     0.317786  0.002785   \n",
       "Highbridge/South Concourse                 0.064365     0.377000  0.978098   \n",
       "Williamsburg/Greenpoint                    0.166205     0.304286  0.432340   \n",
       "Rego Park/Forest Hills                     0.450176     0.308929  0.042569   \n",
       "South Ozone Park/Howard Beach              0.662092     0.351643  0.097657   \n",
       "Ozone Park/Woodhaven                       0.460738     0.335214  0.172312   \n",
       "Bensonhurst                                0.359886     0.342643  0.514477   \n",
       "Throgs Neck/Co-op City                     0.477178     0.284000  0.068701   \n",
       "Hillcrest/Fresh Meadows                    0.472768     0.316714  0.037816   \n",
       "Kingsbridge Heights/Mosholu                0.073930     0.382143  0.745205   \n",
       "Flushing/Whitestone                        0.479422     0.376714  0.190099   \n",
       "Queens Village                             0.737423     0.304571  0.012255   \n",
       "Bushwick                                   0.140705     0.342571  0.982215   \n",
       "Bay Ridge                                  0.398864     0.303929  0.132721   \n",
       "East Flatbush                              0.340854     0.339286  0.495761   \n",
       "Sunset Park                                0.277239     0.342571  0.523766   \n",
       "Borough Park                               0.328574     0.422000  0.669260   \n",
       "Soundview/Parkchester                      0.212192     0.326786  0.677676   \n",
       "South Crown Heights                        0.159165     0.333643  0.747682   \n",
       "East New York/Starrett City                0.237047     0.339714  0.715520   \n",
       "Jamaica                                    0.495571     0.338071  0.248288   \n",
       "Williamsbridge/Baychester                  0.375416     0.339857  0.309716   \n",
       "Pelham Parkway                             0.301522     0.323571  0.432524   \n",
       "Sheepshead Bay/Gravesend                   0.465797     0.338429  0.168982   \n",
       "University Heights/Fordham                 0.038409     0.400857  0.998506   \n",
       "Flatlands/Canarsie                         0.583798     0.302500  0.010002   \n",
       "Stuyvesant Town/Turtle Bay                 0.319118     0.262643  0.008258   \n",
       "Brownsville/Ocean Hill                     0.186286     0.362000  0.932915   \n",
       "Morrisania/Belmont                         0.072046     0.361000  1.000000   \n",
       "Coney Island                               0.281543     0.329786  0.474761   \n",
       "Riverdale/Kingsbridge                      0.313390     0.306857  0.098747   \n",
       "Mott Haven/Hunts Point                     0.068925     0.346357  0.997670   \n",
       "South Shore                                0.819667     0.293214  0.000353   \n",
       "Flatbush                                   0.228765     0.340143  0.518715   \n",
       "Mid-Island                                 0.710885     0.321429  0.019159   \n",
       "Washington Heights/Inwood                  0.090148     0.318643  0.507764   \n",
       "North Crown Heights/Prospect Heights       0.190536     0.317071  0.521024   \n",
       "Bedford Stuyvesant                         0.224563     0.328071  0.817460   \n",
       "Lower East Side/Chinatown                  0.122036     0.299429  0.414564   \n",
       "Rockaways                                  0.378472     0.309357  0.331073   \n",
       "Brooklyn Heights/Fort Greene               0.316504     0.265571  0.191652   \n",
       "North Shore                                0.565651     0.343357  0.179211   \n",
       "Greenwich Village/Financial District       0.287464     0.247071  0.018034   \n",
       "Chelsea/Clinton/Midtown                    0.233398     0.262071  0.051090   \n",
       "East Harlem                                0.072991     0.294429  0.794562   \n",
       "Park Slope/Carroll Gardens                 0.366313     0.256714  0.046968   \n",
       "Central Harlem                             0.126076     0.298143  0.818974   \n",
       "Morningside Heights/Hamilton Heights       0.146154     0.318000  0.504524   \n",
       "Upper East Side                            0.352522     0.261429  0.000000   \n",
       "Upper West Side                            0.337396     0.250429  0.022990   \n",
       "\n",
       "                                      pov_rate  renter_income  \\\n",
       "Sub-Borough Area                                                \n",
       "Elmhurst/Corona                       0.191770   45406.081493   \n",
       "Sunnyside/Woodside                    0.128110   57601.950202   \n",
       "Astoria                               0.167290   53453.497814   \n",
       "Jackson Heights                       0.175851   46870.298596   \n",
       "Middle Village/Ridgewood              0.123198   54554.689862   \n",
       "Bayside/Little Neck                   0.074244   62661.464978   \n",
       "Highbridge/South Concourse            0.362874   28289.214597   \n",
       "Williamsburg/Greenpoint               0.276046   52021.485760   \n",
       "Rego Park/Forest Hills                0.097106   59907.317099   \n",
       "South Ozone Park/Howard Beach         0.114230   49855.885836   \n",
       "Ozone Park/Woodhaven                  0.138697   50808.079766   \n",
       "Bensonhurst                           0.174537   40352.631349   \n",
       "Throgs Neck/Co-op City                0.117201   44942.622618   \n",
       "Hillcrest/Fresh Meadows               0.125526   51281.778792   \n",
       "Kingsbridge Heights/Mosholu           0.316781   32617.095478   \n",
       "Flushing/Whitestone                   0.139920   43604.170776   \n",
       "Queens Village                        0.074565   59307.324062   \n",
       "Bushwick                              0.296016   38189.296770   \n",
       "Bay Ridge                             0.152404   52610.584323   \n",
       "East Flatbush                         0.152632   41793.861840   \n",
       "Sunset Park                           0.257166   42934.846855   \n",
       "Borough Park                          0.298747   35425.836217   \n",
       "Soundview/Parkchester                 0.266966   33921.168261   \n",
       "South Crown Heights                   0.203037   42364.810056   \n",
       "East New York/Starrett City           0.288565   30510.446701   \n",
       "Jamaica                               0.139486   41935.658014   \n",
       "Williamsbridge/Baychester             0.178929   38736.522188   \n",
       "Pelham Parkway                        0.194897   40283.322734   \n",
       "Sheepshead Bay/Gravesend              0.155864   38753.280192   \n",
       "University Heights/Fordham            0.399352   26098.791277   \n",
       "Flatlands/Canarsie                    0.109584   47177.692333   \n",
       "Stuyvesant Town/Turtle Bay            0.082470  102619.431072   \n",
       "Brownsville/Ocean Hill                0.359864   23052.912234   \n",
       "Morrisania/Belmont                    0.414013   22786.043950   \n",
       "Coney Island                          0.249016   26003.352162   \n",
       "Riverdale/Kingsbridge                 0.171819   49176.940681   \n",
       "Mott Haven/Hunts Point                0.426329   21379.949497   \n",
       "South Shore                           0.059447   53585.125978   \n",
       "Flatbush                              0.206159   42457.904002   \n",
       "Mid-Island                            0.099990   43899.416415   \n",
       "Washington Heights/Inwood             0.239365   42461.939344   \n",
       "North Crown Heights/Prospect Heights  0.243099   40449.282714   \n",
       "Bedford Stuyvesant                    0.312616   32666.026803   \n",
       "Lower East Side/Chinatown             0.266692   38531.467871   \n",
       "Rockaways                             0.192460   35834.724797   \n",
       "Brooklyn Heights/Fort Greene          0.186158   64979.700442   \n",
       "North Shore                           0.185605   32563.182611   \n",
       "Greenwich Village/Financial District  0.084115  113173.856832   \n",
       "Chelsea/Clinton/Midtown               0.129100   86136.593006   \n",
       "East Harlem                           0.317839   30886.727228   \n",
       "Park Slope/Carroll Gardens            0.103957   84690.733366   \n",
       "Central Harlem                        0.279480   35947.569619   \n",
       "Morningside Heights/Hamilton Heights  0.264125   38377.558537   \n",
       "Upper East Side                       0.060562   95477.921563   \n",
       "Upper West Side                       0.099816   86382.713935   \n",
       "\n",
       "                                      homeowner_income            gap  \n",
       "Sub-Borough Area                                                       \n",
       "Elmhurst/Corona                           64912.265972   19506.184479  \n",
       "Sunnyside/Woodside                        77592.493818   19990.543616  \n",
       "Astoria                                   76124.618775   22671.120960  \n",
       "Jackson Heights                           73697.382471   26827.083876  \n",
       "Middle Village/Ridgewood                  81983.332159   27428.642297  \n",
       "Bayside/Little Neck                       91292.284009   28630.819031  \n",
       "Highbridge/South Concourse                58774.596384   30485.381788  \n",
       "Williamsburg/Greenpoint                   82566.686775   30545.201015  \n",
       "Rego Park/Forest Hills                    90523.236493   30615.919394  \n",
       "South Ozone Park/Howard Beach             81757.078237   31901.192402  \n",
       "Ozone Park/Woodhaven                      83696.265363   32888.185598  \n",
       "Bensonhurst                               73434.378370   33081.747020  \n",
       "Throgs Neck/Co-op City                    78389.683832   33447.061214  \n",
       "Hillcrest/Fresh Meadows                   85870.570770   34588.791979  \n",
       "Kingsbridge Heights/Mosholu               68028.391070   35411.295592  \n",
       "Flushing/Whitestone                       79082.936837   35478.766061  \n",
       "Queens Village                            95343.893956   36036.569894  \n",
       "Bushwick                                  74424.803269   36235.506499  \n",
       "Bay Ridge                                 89471.716698   36861.132376  \n",
       "East Flatbush                             78978.602048   37184.740208  \n",
       "Sunset Park                               80798.743626   37863.896770  \n",
       "Borough Park                              73711.414067   38285.577851  \n",
       "Soundview/Parkchester                     72354.741256   38433.572994  \n",
       "South Crown Heights                       80890.722907   38525.912852  \n",
       "East New York/Starrett City               70004.732797   39494.286096  \n",
       "Jamaica                                   82039.625226   40103.967212  \n",
       "Williamsbridge/Baychester                 80644.529677   41908.007489  \n",
       "Pelham Parkway                            82238.658283   41955.335549  \n",
       "Sheepshead Bay/Gravesend                  81674.752027   42921.471835  \n",
       "University Heights/Fordham                70748.552065   44649.760787  \n",
       "Flatlands/Canarsie                        92571.587289   45393.894956  \n",
       "Stuyvesant Town/Turtle Bay               148154.445356   45535.014285  \n",
       "Brownsville/Ocean Hill                    68630.542537   45577.630302  \n",
       "Morrisania/Belmont                        68790.630605   46004.586655  \n",
       "Coney Island                              72403.251349   46399.899187  \n",
       "Riverdale/Kingsbridge                     95851.333334   46674.392653  \n",
       "Mott Haven/Hunts Point                    68462.269664   47082.320167  \n",
       "South Shore                              103539.921964   49954.795986  \n",
       "Flatbush                                  95734.614602   53276.710600  \n",
       "Mid-Island                                97883.450148   53984.033734  \n",
       "Washington Heights/Inwood                 98312.177706   55850.238362  \n",
       "North Crown Heights/Prospect Heights      96376.493541   55927.210827  \n",
       "Bedford Stuyvesant                        89997.331382   57331.304578  \n",
       "Lower East Side/Chinatown                 96902.936620   58371.468749  \n",
       "Rockaways                                 94861.539682   59026.814885  \n",
       "Brooklyn Heights/Fort Greene             126398.863024   61419.162582  \n",
       "North Shore                               94963.127236   62399.944625  \n",
       "Greenwich Village/Financial District     175970.777595   62796.920763  \n",
       "Chelsea/Clinton/Midtown                  151738.170245   65601.577239  \n",
       "East Harlem                               98663.073668   67776.346440  \n",
       "Park Slope/Carroll Gardens               155143.782893   70453.049528  \n",
       "Central Harlem                           109793.726742   73846.157123  \n",
       "Morningside Heights/Hamilton Heights     115681.930428   77304.371891  \n",
       "Upper East Side                          189516.759692   94038.838129  \n",
       "Upper West Side                          186715.463874  100332.749940  "
      ]
     },
     "execution_count": 216,
     "metadata": {},
     "output_type": "execute_result"
    }
   ],
   "source": [
    "# Creating a new column in our dataframe for a difference between homeowner and renter incomes\n",
    "sub_borough['gap'] = sub_borough['homeowner_income'] - sub_borough['renter_income']\n",
    "ModelDF = sub_borough.groupby('Sub-Borough Area')['home_own_rate', 'rent_burden', 'LMI', 'pov_rate', 'renter_income', 'homeowner_income', 'gap'].mean().sort_values(by='gap', ascending=True)\n",
    "ModelDF.head(60)"
   ]
  },
  {
   "cell_type": "markdown",
   "metadata": {},
   "source": [
    "### 6.3. Creating a Linear Regression Model"
   ]
  },
  {
   "cell_type": "code",
   "execution_count": 136,
   "metadata": {},
   "outputs": [],
   "source": [
    "import statsmodels.api as sm\n",
    "from statsmodels.formula.api import ols"
   ]
  },
  {
   "cell_type": "code",
   "execution_count": 137,
   "metadata": {},
   "outputs": [
    {
     "name": "stdout",
     "output_type": "stream",
     "text": [
      "                            OLS Regression Results                            \n",
      "==============================================================================\n",
      "Dep. Variable:          home_own_rate   R-squared:                       0.746\n",
      "Model:                            OLS   Adj. R-squared:                  0.744\n",
      "Method:                 Least Squares   F-statistic:                     448.8\n",
      "Date:                Tue, 05 May 2020   Prob (F-statistic):          1.56e-224\n",
      "Time:                        19:22:58   Log-Likelihood:                 726.20\n",
      "No. Observations:                 770   AIC:                            -1440.\n",
      "Df Residuals:                     764   BIC:                            -1413.\n",
      "Df Model:                           5                                         \n",
      "Covariance Type:            nonrobust                                         \n",
      "====================================================================================\n",
      "                       coef    std err          t      P>|t|      [0.025      0.975]\n",
      "------------------------------------------------------------------------------------\n",
      "Intercept            0.6675      0.047     14.053      0.000       0.574       0.761\n",
      "rent_burden          0.7020      0.113      6.207      0.000       0.480       0.924\n",
      "pov_rate            -1.3263      0.079    -16.862      0.000      -1.481      -1.172\n",
      "LMI                 -0.2754      0.022    -12.689      0.000      -0.318      -0.233\n",
      "homeowner_income -2.819e-07   1.86e-07     -1.512      0.131   -6.48e-07     8.4e-08\n",
      "renter_income    -3.625e-06   3.51e-07    -10.318      0.000   -4.31e-06   -2.94e-06\n",
      "==============================================================================\n",
      "Omnibus:                       27.366   Durbin-Watson:                   1.420\n",
      "Prob(Omnibus):                  0.000   Jarque-Bera (JB):               29.347\n",
      "Skew:                           0.470   Prob(JB):                     4.24e-07\n",
      "Kurtosis:                       3.180   Cond. No.                     3.95e+06\n",
      "==============================================================================\n",
      "\n",
      "Warnings:\n",
      "[1] Standard Errors assume that the covariance matrix of the errors is correctly specified.\n",
      "[2] The condition number is large, 3.95e+06. This might indicate that there are\n",
      "strong multicollinearity or other numerical problems.\n"
     ]
    }
   ],
   "source": [
    "runs_reg_model1 = ols(\"home_own_rate~rent_burden+pov_rate+LMI+homeowner_income+renter_income\",sub_borough)\n",
    "runs_reg1 = runs_reg_model1.fit()\n",
    "print(runs_reg1.summary())"
   ]
  },
  {
   "cell_type": "code",
   "execution_count": 138,
   "metadata": {},
   "outputs": [
    {
     "data": {
      "text/plain": [
       "Sub-Borough Area\n",
       "South Shore                             0.570961\n",
       "Mid-Island                              0.568521\n",
       "Bayside/Little Neck                     0.538465\n",
       "Queens Village                          0.537173\n",
       "Flatlands/Canarsie                      0.534644\n",
       "South Ozone Park/Howard Beach           0.532180\n",
       "Flushing/Whitestone                     0.513666\n",
       "Throgs Neck/Co-op City                  0.507489\n",
       "Hillcrest/Fresh Meadows                 0.502831\n",
       "Rego Park/Forest Hills                  0.501170\n",
       "Sheepshead Bay/Gravesend                0.488312\n",
       "Jamaica                                 0.476303\n",
       "North Shore                             0.468202\n",
       "Middle Village/Ridgewood                0.465312\n",
       "Ozone Park/Woodhaven                    0.463639\n",
       "Bay Ridge                               0.426237\n",
       "Riverdale/Kingsbridge                   0.422549\n",
       "Sunnyside/Woodside                      0.421009\n",
       "Williamsbridge/Baychester               0.420317\n",
       "East Flatbush                           0.392943\n",
       "Rockaways                               0.381589\n",
       "Upper East Side                         0.371167\n",
       "Bensonhurst                             0.367881\n",
       "Jackson Heights                         0.356782\n",
       "Astoria                                 0.352813\n",
       "Pelham Parkway                          0.347828\n",
       "Park Slope/Carroll Gardens              0.346161\n",
       "Upper West Side                         0.338811\n",
       "Stuyvesant Town/Turtle Bay              0.326460\n",
       "Coney Island                            0.323317\n",
       "Chelsea/Clinton/Midtown                 0.311158\n",
       "Flatbush                                0.309100\n",
       "Elmhurst/Corona                         0.300072\n",
       "Brooklyn Heights/Fort Greene            0.283066\n",
       "Greenwich Village/Financial District    0.264554\n",
       "Washington Heights/Inwood               0.252241\n",
       "North Crown Heights/Prospect Heights    0.250374\n",
       "South Crown Heights                     0.250142\n",
       "Sunset Park                             0.244245\n",
       "Lower East Side/Chinatown               0.242821\n",
       "Borough Park                            0.234004\n",
       "Morningside Heights/Hamilton Heights    0.229752\n",
       "Soundview/Parkchester                   0.212833\n",
       "East New York/Starrett City             0.195867\n",
       "Williamsburg/Greenpoint                 0.184070\n",
       "Kingsbridge Heights/Mosholu             0.172974\n",
       "Central Harlem                          0.119316\n",
       "Bedford Stuyvesant                      0.114271\n",
       "East Harlem                             0.094039\n",
       "Bushwick                                0.085460\n",
       "Brownsville/Ocean Hill                  0.084498\n",
       "Highbridge/South Concourse              0.062390\n",
       "University Heights/Fordham              0.029701\n",
       "Morrisania/Belmont                     -0.005575\n",
       "Mott Haven/Hunts Point                 -0.026358\n",
       "Name: model_values, dtype: float64"
      ]
     },
     "execution_count": 138,
     "metadata": {},
     "output_type": "execute_result"
    }
   ],
   "source": [
    "sub_borough['model_values'] = 0.6675 + (sub_borough['rent_burden']*0.7020) + (sub_borough['pov_rate']*-1.3263) + (sub_borough['LMI']*-0.2754) + (sub_borough['homeowner_income']*-.0000002819) + (sub_borough['renter_income']*-0.000003625)\n",
    "sub_borough.groupby('Sub-Borough Area')['model_values'].mean().sort_values(ascending=False)"
   ]
  },
  {
   "cell_type": "markdown",
   "metadata": {},
   "source": [
    "Here, we attempted to create a linear model to maxmize homewownership. In conclusion, even though the r-square value is high and we can create a ranking system, we do not believe it accurately reflects what we are trying to accomplish. We don't need to predict high homeownership, but rather candidates to increase home ownership."
   ]
  },
  {
   "cell_type": "markdown",
   "metadata": {},
   "source": [
    "### 6.4. Normalizing Data and Creating New Model"
   ]
  },
  {
   "cell_type": "markdown",
   "metadata": {},
   "source": [
    "Here, we create a model that attempts to minimize variables that are negatively correlated with home ownership."
   ]
  },
  {
   "cell_type": "code",
   "execution_count": 207,
   "metadata": {},
   "outputs": [
    {
     "name": "stderr",
     "output_type": "stream",
     "text": [
      "C:\\Users\\Tom\\anaconda3\\lib\\site-packages\\ipykernel_launcher.py:1: FutureWarning:\n",
      "\n",
      "Indexing with multiple keys (implicitly converted to a tuple of keys) will be deprecated, use a list instead.\n",
      "\n"
     ]
    },
    {
     "data": {
      "text/html": [
       "<div>\n",
       "<style scoped>\n",
       "    .dataframe tbody tr th:only-of-type {\n",
       "        vertical-align: middle;\n",
       "    }\n",
       "\n",
       "    .dataframe tbody tr th {\n",
       "        vertical-align: top;\n",
       "    }\n",
       "\n",
       "    .dataframe thead th {\n",
       "        text-align: right;\n",
       "    }\n",
       "</style>\n",
       "<table border=\"1\" class=\"dataframe\">\n",
       "  <thead>\n",
       "    <tr style=\"text-align: right;\">\n",
       "      <th></th>\n",
       "      <th>home_own_rate</th>\n",
       "      <th>rent_burden</th>\n",
       "      <th>LMI</th>\n",
       "      <th>pov_rate</th>\n",
       "      <th>gap</th>\n",
       "    </tr>\n",
       "    <tr>\n",
       "      <th>Sub-Borough Area</th>\n",
       "      <th></th>\n",
       "      <th></th>\n",
       "      <th></th>\n",
       "      <th></th>\n",
       "      <th></th>\n",
       "    </tr>\n",
       "  </thead>\n",
       "  <tbody>\n",
       "    <tr>\n",
       "      <th>Elmhurst/Corona</th>\n",
       "      <td>0.248517</td>\n",
       "      <td>0.366714</td>\n",
       "      <td>0.681266</td>\n",
       "      <td>0.191770</td>\n",
       "      <td>19506.184479</td>\n",
       "    </tr>\n",
       "    <tr>\n",
       "      <th>Sunnyside/Woodside</th>\n",
       "      <td>0.274079</td>\n",
       "      <td>0.310857</td>\n",
       "      <td>0.232825</td>\n",
       "      <td>0.128110</td>\n",
       "      <td>19990.543616</td>\n",
       "    </tr>\n",
       "    <tr>\n",
       "      <th>Astoria</th>\n",
       "      <td>0.194888</td>\n",
       "      <td>0.296357</td>\n",
       "      <td>0.310912</td>\n",
       "      <td>0.167290</td>\n",
       "      <td>22671.120960</td>\n",
       "    </tr>\n",
       "    <tr>\n",
       "      <th>Jackson Heights</th>\n",
       "      <td>0.352451</td>\n",
       "      <td>0.357286</td>\n",
       "      <td>0.499713</td>\n",
       "      <td>0.175851</td>\n",
       "      <td>26827.083876</td>\n",
       "    </tr>\n",
       "    <tr>\n",
       "      <th>Middle Village/Ridgewood</th>\n",
       "      <td>0.419482</td>\n",
       "      <td>0.304857</td>\n",
       "      <td>0.115937</td>\n",
       "      <td>0.123198</td>\n",
       "      <td>27428.642297</td>\n",
       "    </tr>\n",
       "  </tbody>\n",
       "</table>\n",
       "</div>"
      ],
      "text/plain": [
       "                          home_own_rate  rent_burden       LMI  pov_rate  \\\n",
       "Sub-Borough Area                                                           \n",
       "Elmhurst/Corona                0.248517     0.366714  0.681266  0.191770   \n",
       "Sunnyside/Woodside             0.274079     0.310857  0.232825  0.128110   \n",
       "Astoria                        0.194888     0.296357  0.310912  0.167290   \n",
       "Jackson Heights                0.352451     0.357286  0.499713  0.175851   \n",
       "Middle Village/Ridgewood       0.419482     0.304857  0.115937  0.123198   \n",
       "\n",
       "                                   gap  \n",
       "Sub-Borough Area                        \n",
       "Elmhurst/Corona           19506.184479  \n",
       "Sunnyside/Woodside        19990.543616  \n",
       "Astoria                   22671.120960  \n",
       "Jackson Heights           26827.083876  \n",
       "Middle Village/Ridgewood  27428.642297  "
      ]
     },
     "execution_count": 207,
     "metadata": {},
     "output_type": "execute_result"
    }
   ],
   "source": [
    "NewModelDF = sub_borough.groupby('Sub-Borough Area')['home_own_rate', 'rent_burden', 'LMI', 'pov_rate', 'gap'].mean().sort_values(by='gap', ascending=True)\n",
    "NewModelDF.head()"
   ]
  },
  {
   "cell_type": "code",
   "execution_count": 208,
   "metadata": {},
   "outputs": [],
   "source": [
    "# Standardize data\n",
    "from sklearn.preprocessing import Normalizer"
   ]
  },
  {
   "cell_type": "code",
   "execution_count": 209,
   "metadata": {},
   "outputs": [
    {
     "data": {
      "text/plain": [
       "Normalizer(copy=True, norm='l2')"
      ]
     },
     "execution_count": 209,
     "metadata": {},
     "output_type": "execute_result"
    }
   ],
   "source": [
    "scaler = Normalizer()\n",
    "scaler.fit(NewModelDF)"
   ]
  },
  {
   "cell_type": "code",
   "execution_count": 210,
   "metadata": {},
   "outputs": [
    {
     "data": {
      "text/html": [
       "<div>\n",
       "<style scoped>\n",
       "    .dataframe tbody tr th:only-of-type {\n",
       "        vertical-align: middle;\n",
       "    }\n",
       "\n",
       "    .dataframe tbody tr th {\n",
       "        vertical-align: top;\n",
       "    }\n",
       "\n",
       "    .dataframe thead th {\n",
       "        text-align: right;\n",
       "    }\n",
       "</style>\n",
       "<table border=\"1\" class=\"dataframe\">\n",
       "  <thead>\n",
       "    <tr style=\"text-align: right;\">\n",
       "      <th></th>\n",
       "      <th>home_own_rate</th>\n",
       "      <th>rent_burden</th>\n",
       "      <th>LMI</th>\n",
       "      <th>pov_rate</th>\n",
       "      <th>gap</th>\n",
       "    </tr>\n",
       "  </thead>\n",
       "  <tbody>\n",
       "    <tr>\n",
       "      <th>0</th>\n",
       "      <td>0.268935</td>\n",
       "      <td>0.683953</td>\n",
       "      <td>0.681266</td>\n",
       "      <td>0.360671</td>\n",
       "      <td>0.000000</td>\n",
       "    </tr>\n",
       "    <tr>\n",
       "      <th>1</th>\n",
       "      <td>0.301654</td>\n",
       "      <td>0.364639</td>\n",
       "      <td>0.232825</td>\n",
       "      <td>0.187154</td>\n",
       "      <td>0.005993</td>\n",
       "    </tr>\n",
       "    <tr>\n",
       "      <th>2</th>\n",
       "      <td>0.200291</td>\n",
       "      <td>0.281748</td>\n",
       "      <td>0.310912</td>\n",
       "      <td>0.293945</td>\n",
       "      <td>0.039157</td>\n",
       "    </tr>\n",
       "    <tr>\n",
       "      <th>3</th>\n",
       "      <td>0.401969</td>\n",
       "      <td>0.630053</td>\n",
       "      <td>0.499713</td>\n",
       "      <td>0.317280</td>\n",
       "      <td>0.090575</td>\n",
       "    </tr>\n",
       "    <tr>\n",
       "      <th>4</th>\n",
       "      <td>0.487768</td>\n",
       "      <td>0.330339</td>\n",
       "      <td>0.115937</td>\n",
       "      <td>0.173764</td>\n",
       "      <td>0.098018</td>\n",
       "    </tr>\n",
       "  </tbody>\n",
       "</table>\n",
       "</div>"
      ],
      "text/plain": [
       "   home_own_rate  rent_burden       LMI  pov_rate       gap\n",
       "0       0.268935     0.683953  0.681266  0.360671  0.000000\n",
       "1       0.301654     0.364639  0.232825  0.187154  0.005993\n",
       "2       0.200291     0.281748  0.310912  0.293945  0.039157\n",
       "3       0.401969     0.630053  0.499713  0.317280  0.090575\n",
       "4       0.487768     0.330339  0.115937  0.173764  0.098018"
      ]
     },
     "execution_count": 210,
     "metadata": {},
     "output_type": "execute_result"
    }
   ],
   "source": [
    "x = NewModelDF.values #returns a numpy array\n",
    "min_max_scaler = preprocessing.MinMaxScaler()\n",
    "x_scaled = min_max_scaler.fit_transform(x)\n",
    "NewModelDF2 = pd.DataFrame(x_scaled)\n",
    "NewModelDF2.columns = ['home_own_rate', 'rent_burden', 'LMI', 'pov_rate', 'gap']\n",
    "NewModelDF2.head()"
   ]
  },
  {
   "cell_type": "code",
   "execution_count": 212,
   "metadata": {},
   "outputs": [
    {
     "data": {
      "text/html": [
       "<div>\n",
       "<style scoped>\n",
       "    .dataframe tbody tr th:only-of-type {\n",
       "        vertical-align: middle;\n",
       "    }\n",
       "\n",
       "    .dataframe tbody tr th {\n",
       "        vertical-align: top;\n",
       "    }\n",
       "\n",
       "    .dataframe thead th {\n",
       "        text-align: right;\n",
       "    }\n",
       "</style>\n",
       "<table border=\"1\" class=\"dataframe\">\n",
       "  <thead>\n",
       "    <tr style=\"text-align: right;\">\n",
       "      <th></th>\n",
       "      <th>home_own_rate</th>\n",
       "      <th>rent_burden</th>\n",
       "      <th>LMI</th>\n",
       "      <th>pov_rate</th>\n",
       "      <th>gap</th>\n",
       "    </tr>\n",
       "    <tr>\n",
       "      <th>Sub-Borough Area</th>\n",
       "      <th></th>\n",
       "      <th></th>\n",
       "      <th></th>\n",
       "      <th></th>\n",
       "      <th></th>\n",
       "    </tr>\n",
       "  </thead>\n",
       "  <tbody>\n",
       "    <tr>\n",
       "      <th>Elmhurst/Corona</th>\n",
       "      <td>0.268935</td>\n",
       "      <td>0.683953</td>\n",
       "      <td>0.681266</td>\n",
       "      <td>0.360671</td>\n",
       "      <td>0.000000</td>\n",
       "    </tr>\n",
       "    <tr>\n",
       "      <th>Sunnyside/Woodside</th>\n",
       "      <td>0.301654</td>\n",
       "      <td>0.364639</td>\n",
       "      <td>0.232825</td>\n",
       "      <td>0.187154</td>\n",
       "      <td>0.005993</td>\n",
       "    </tr>\n",
       "    <tr>\n",
       "      <th>Astoria</th>\n",
       "      <td>0.200291</td>\n",
       "      <td>0.281748</td>\n",
       "      <td>0.310912</td>\n",
       "      <td>0.293945</td>\n",
       "      <td>0.039157</td>\n",
       "    </tr>\n",
       "    <tr>\n",
       "      <th>Jackson Heights</th>\n",
       "      <td>0.401969</td>\n",
       "      <td>0.630053</td>\n",
       "      <td>0.499713</td>\n",
       "      <td>0.317280</td>\n",
       "      <td>0.090575</td>\n",
       "    </tr>\n",
       "    <tr>\n",
       "      <th>Middle Village/Ridgewood</th>\n",
       "      <td>0.487768</td>\n",
       "      <td>0.330339</td>\n",
       "      <td>0.115937</td>\n",
       "      <td>0.173764</td>\n",
       "      <td>0.098018</td>\n",
       "    </tr>\n",
       "  </tbody>\n",
       "</table>\n",
       "</div>"
      ],
      "text/plain": [
       "                          home_own_rate  rent_burden       LMI  pov_rate  \\\n",
       "Sub-Borough Area                                                           \n",
       "Elmhurst/Corona                0.268935     0.683953  0.681266  0.360671   \n",
       "Sunnyside/Woodside             0.301654     0.364639  0.232825  0.187154   \n",
       "Astoria                        0.200291     0.281748  0.310912  0.293945   \n",
       "Jackson Heights                0.401969     0.630053  0.499713  0.317280   \n",
       "Middle Village/Ridgewood       0.487768     0.330339  0.115937  0.173764   \n",
       "\n",
       "                               gap  \n",
       "Sub-Borough Area                    \n",
       "Elmhurst/Corona           0.000000  \n",
       "Sunnyside/Woodside        0.005993  \n",
       "Astoria                   0.039157  \n",
       "Jackson Heights           0.090575  \n",
       "Middle Village/Ridgewood  0.098018  "
      ]
     },
     "execution_count": 212,
     "metadata": {},
     "output_type": "execute_result"
    }
   ],
   "source": [
    "# Get Sub-Borough Area Names Back\n",
    "NewModelDF.reset_index(inplace=True)\n",
    "Area = NewModelDF['Sub-Borough Area']\n",
    "FinalDF = NewModelDF2.join(Area)\n",
    "FinalDF.set_index('Sub-Borough Area', inplace=True)\n",
    "FinalDF.head()"
   ]
  },
  {
   "cell_type": "markdown",
   "metadata": {},
   "source": [
    "Now that we have normalized and inputted our final model into a dataframe, we can create a new column that minimizes all of the normalized data columns."
   ]
  },
  {
   "cell_type": "code",
   "execution_count": 215,
   "metadata": {},
   "outputs": [
    {
     "data": {
      "text/plain": [
       "Sub-Borough Area\n",
       "Stuyvesant Town/Turtle Bay              0.841367\n",
       "Greenwich Village/Financial District    0.939660\n",
       "Sunnyside/Woodside                      1.092265\n",
       "Astoria                                 1.126053\n",
       "Chelsea/Clinton/Midtown                 1.146577\n",
       "Rego Park/Forest Hills                  1.163338\n",
       "Throgs Neck/Co-op City                  1.171325\n",
       "Middle Village/Ridgewood                1.205826\n",
       "Park Slope/Carroll Gardens              1.273449\n",
       "Hillcrest/Fresh Meadows                 1.358626\n",
       "Bay Ridge                               1.387219\n",
       "Bayside/Little Neck                     1.408568\n",
       "Upper East Side                         1.409307\n",
       "Riverdale/Kingsbridge                   1.434910\n",
       "Queens Village                          1.481414\n",
       "Flatlands/Canarsie                      1.481904\n",
       "Brooklyn Heights/Fort Greene            1.517295\n",
       "Upper West Side                         1.534915\n",
       "Ozone Park/Woodhaven                    1.598340\n",
       "South Shore                             1.640850\n",
       "Williamsburg/Greenpoint                 1.649943\n",
       "Sheepshead Bay/Gravesend                1.790787\n",
       "South Ozone Park/Howard Beach           1.796434\n",
       "Jamaica                                 1.826662\n",
       "Mid-Island                              1.842066\n",
       "Pelham Parkway                          1.853565\n",
       "Lower East Side/Chinatown               1.866641\n",
       "Williamsbridge/Baychester               1.874330\n",
       "East Flatbush                           1.882755\n",
       "Flushing/Whitestone                     1.912667\n",
       "Washington Heights/Inwood               1.923188\n",
       "Jackson Heights                         1.939591\n",
       "Bensonhurst                             1.953966\n",
       "Rockaways                               1.973919\n",
       "Elmhurst/Corona                         1.994825\n",
       "South Crown Heights                     2.023841\n",
       "North Crown Heights/Prospect Heights    2.067092\n",
       "Coney Island                            2.108254\n",
       "Flatbush                                2.112127\n",
       "Sunset Park                             2.141445\n",
       "Soundview/Parkchester                   2.155615\n",
       "North Shore                             2.279059\n",
       "Morningside Heights/Hamilton Heights    2.320882\n",
       "East New York/Starrett City             2.371174\n",
       "East Harlem                             2.411048\n",
       "Kingsbridge Heights/Mosholu             2.461013\n",
       "Central Harlem                          2.495184\n",
       "Bushwick                                2.510879\n",
       "Bedford Stuyvesant                      2.676816\n",
       "Highbridge/South Concourse              2.716952\n",
       "Brownsville/Ocean Hill                  2.920597\n",
       "Borough Park                            2.925262\n",
       "Mott Haven/Hunts Point                  2.945486\n",
       "Morrisania/Belmont                      2.988615\n",
       "University Heights/Fordham              3.115191\n",
       "Name: final_model_values, dtype: float64"
      ]
     },
     "execution_count": 215,
     "metadata": {},
     "output_type": "execute_result"
    }
   ],
   "source": [
    "FinalDF['final_model_values'] = (FinalDF['home_own_rate']) + (FinalDF['rent_burden']) + (FinalDF['LMI']) + (FinalDF['pov_rate']) + (FinalDF['gap'])\n",
    "FinalDF.groupby('Sub-Borough Area')['final_model_values'].mean().sort_values(ascending=True)"
   ]
  },
  {
   "cell_type": "markdown",
   "metadata": {},
   "source": [
    "From the model above, the top five sub-borough areas that we would recommend to the Loanne & Mort Gage Foundation are **Stuyvesant Town/Turtle Bay, Greenwich Village/Financial District, Sunnyside/Woodside, Astoria, Chelsea/Clinton/Midtown** in that order."
   ]
  },
  {
   "cell_type": "markdown",
   "metadata": {},
   "source": [
    "## 7. References"
   ]
  },
  {
   "cell_type": "markdown",
   "metadata": {},
   "source": [
    "- https://plotly.com/python/renderers/\n",
    "- https://seaborn.pydata.org/tutorial.html\n",
    "- https://manhattan.edu/academics/schools-and-departments/school-of-business/business-analytics-competition/index.php\n",
    "- https://stackoverflow.com/questions/26414913/normalize-columns-of-pandas-data-frame\n",
    "- Instructor provided raw datasets\n",
    "- Code from class notes/assignments"
   ]
  }
 ],
 "metadata": {
  "kernelspec": {
   "display_name": "Python 3",
   "language": "python",
   "name": "python3"
  },
  "language_info": {
   "codemirror_mode": {
    "name": "ipython",
    "version": 3
   },
   "file_extension": ".py",
   "mimetype": "text/x-python",
   "name": "python",
   "nbconvert_exporter": "python",
   "pygments_lexer": "ipython3",
   "version": "3.7.6"
  },
  "toc": {
   "base_numbering": 1,
   "nav_menu": {},
   "number_sections": false,
   "sideBar": true,
   "skip_h1_title": false,
   "title_cell": "Table of Contents",
   "title_sidebar": "Contents",
   "toc_cell": false,
   "toc_position": {},
   "toc_section_display": true,
   "toc_window_display": false
  }
 },
 "nbformat": 4,
 "nbformat_minor": 2
}
